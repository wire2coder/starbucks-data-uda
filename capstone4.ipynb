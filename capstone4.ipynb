{
 "cells": [
  {
   "attachments": {},
   "cell_type": "markdown",
   "metadata": {},
   "source": [
    "# Starbucks Capstone Challenge\n",
    "\n",
    "### Introduction\n",
    "\n",
    "This data set contains simulated data that mimics customer behavior on the Starbucks rewards mobile app. Once every few days, Starbucks sends out an offer to users of the mobile app. An offer can be merely an advertisement for a drink or an actual offer such as a discount or BOGO (buy one get one free). Some users might not receive any offer during certain weeks. \n",
    "\n",
    "Not all users receive the same offer, and that is the challenge to solve with this data set.\n",
    "\n",
    "Your task is to combine transaction, demographic and offer data to determine which demographic groups respond best to which offer type. This data set is a simplified version of the real Starbucks app because the underlying simulator only has one product whereas Starbucks actually sells dozens of products.\n",
    "\n",
    "### Your Task\n",
    "- Combine transaction, demographic and offer data \n",
    "- Determine which demographic groups respond best to which offer type.\n"
   ]
  },
  {
   "attachments": {},
   "cell_type": "markdown",
   "metadata": {},
   "source": [
    "# Data Sets\n",
    "\n",
    "The data is contained in three files:\n",
    "\n",
    "* portfolio.json - containing offer ids and meta data about each offer (duration, type, etc.)\n",
    "* profile.json - demographic data for each customer\n",
    "* transcript.json - records for transactions, offers received, offers viewed, and offers completed\n",
    "\n",
    "Here is the schema and explanation of each variable in the files:\n",
    "\n",
    "**portfolio.json**\n",
    "* id (string) - offer id\n",
    "* offer_type (string) - type of offer ie BOGO, discount, informational\n",
    "* difficulty (int) - minimum required spend to complete an offer\n",
    "* reward (int) - reward given for completing an offer\n",
    "* duration (int) - time for offer to be open, in days\n",
    "* channels (list of strings)\n",
    "\n",
    "**profile.json** \n",
    "* age (int) - age of the customer \n",
    "    - (numeric) missing value encoded as 118\n",
    "* became_member_on (int) - date when customer created an app account\n",
    "* gender (str) - gender of the customer (note some entries contain 'O' for other rather than M or F)\n",
    "* id (str) - customer id\n",
    "* income (float) - customer's income\n",
    "\n",
    "\n",
    "\n",
    "\n",
    "**transcript.json**\n",
    "* event (str) - record description (ie transaction, offer received, offer viewed, etc.)\n",
    "* person (str) - customer id\n",
    "* time (int) - time in hours since start of test. The data begins at time t=0\n",
    "* value - (dict of strings) - either an offer id or transaction amount depending on the record\n",
    "    - offer id: (string/hash) not associated with any \"transaction\"\n",
    "    - amount: (numeric) money spent in \"transaction\"\n",
    "    - reward: (numeric) money gained from \"offer completed\"\n",
    "\n",
    "\n"
   ]
  },
  {
   "cell_type": "markdown",
   "metadata": {},
   "source": [
    "# Import Libraries"
   ]
  },
  {
   "cell_type": "code",
   "execution_count": 1,
   "metadata": {},
   "outputs": [],
   "source": [
    "import pandas as pd\n",
    "import numpy as np\n",
    "import seaborn as sns\n",
    "import matplotlib.pyplot as plt\n",
    "\n",
    "from time import time    \n",
    "import sklearn\n",
    "from sklearn.metrics import mean_squared_error\n",
    "from sklearn.metrics import classification_report\n",
    "from sklearn.metrics import f1_score\n",
    "\n",
    "from sklearn.ensemble import RandomForestClassifier\n",
    "\n",
    "# read in the json files\n",
    "portfolio = pd.read_json('data/portfolio.json', orient='records', lines=True)\n",
    "profile = pd.read_json('data/profile.json', orient='records', lines=True)\n",
    "transcript = pd.read_json('data/transcript.json', orient='records', lines=True)"
   ]
  },
  {
   "attachments": {},
   "cell_type": "markdown",
   "metadata": {},
   "source": [
    "# 1. Portfolio\n",
    "##### Data about the offers (promotions)"
   ]
  },
  {
   "cell_type": "code",
   "execution_count": 2,
   "metadata": {},
   "outputs": [
    {
     "data": {
      "text/html": [
       "<div>\n",
       "<style scoped>\n",
       "    .dataframe tbody tr th:only-of-type {\n",
       "        vertical-align: middle;\n",
       "    }\n",
       "\n",
       "    .dataframe tbody tr th {\n",
       "        vertical-align: top;\n",
       "    }\n",
       "\n",
       "    .dataframe thead th {\n",
       "        text-align: right;\n",
       "    }\n",
       "</style>\n",
       "<table border=\"1\" class=\"dataframe\">\n",
       "  <thead>\n",
       "    <tr style=\"text-align: right;\">\n",
       "      <th></th>\n",
       "      <th>reward</th>\n",
       "      <th>channels</th>\n",
       "      <th>difficulty</th>\n",
       "      <th>duration</th>\n",
       "      <th>offer_type</th>\n",
       "      <th>id</th>\n",
       "    </tr>\n",
       "  </thead>\n",
       "  <tbody>\n",
       "    <tr>\n",
       "      <th>0</th>\n",
       "      <td>10</td>\n",
       "      <td>[email, mobile, social]</td>\n",
       "      <td>10</td>\n",
       "      <td>7</td>\n",
       "      <td>bogo</td>\n",
       "      <td>ae264e3637204a6fb9bb56bc8210ddfd</td>\n",
       "    </tr>\n",
       "    <tr>\n",
       "      <th>1</th>\n",
       "      <td>10</td>\n",
       "      <td>[web, email, mobile, social]</td>\n",
       "      <td>10</td>\n",
       "      <td>5</td>\n",
       "      <td>bogo</td>\n",
       "      <td>4d5c57ea9a6940dd891ad53e9dbe8da0</td>\n",
       "    </tr>\n",
       "    <tr>\n",
       "      <th>2</th>\n",
       "      <td>0</td>\n",
       "      <td>[web, email, mobile]</td>\n",
       "      <td>0</td>\n",
       "      <td>4</td>\n",
       "      <td>informational</td>\n",
       "      <td>3f207df678b143eea3cee63160fa8bed</td>\n",
       "    </tr>\n",
       "    <tr>\n",
       "      <th>3</th>\n",
       "      <td>5</td>\n",
       "      <td>[web, email, mobile]</td>\n",
       "      <td>5</td>\n",
       "      <td>7</td>\n",
       "      <td>bogo</td>\n",
       "      <td>9b98b8c7a33c4b65b9aebfe6a799e6d9</td>\n",
       "    </tr>\n",
       "    <tr>\n",
       "      <th>4</th>\n",
       "      <td>5</td>\n",
       "      <td>[web, email]</td>\n",
       "      <td>20</td>\n",
       "      <td>10</td>\n",
       "      <td>discount</td>\n",
       "      <td>0b1e1539f2cc45b7b9fa7c272da2e1d7</td>\n",
       "    </tr>\n",
       "    <tr>\n",
       "      <th>5</th>\n",
       "      <td>3</td>\n",
       "      <td>[web, email, mobile, social]</td>\n",
       "      <td>7</td>\n",
       "      <td>7</td>\n",
       "      <td>discount</td>\n",
       "      <td>2298d6c36e964ae4a3e7e9706d1fb8c2</td>\n",
       "    </tr>\n",
       "    <tr>\n",
       "      <th>6</th>\n",
       "      <td>2</td>\n",
       "      <td>[web, email, mobile, social]</td>\n",
       "      <td>10</td>\n",
       "      <td>10</td>\n",
       "      <td>discount</td>\n",
       "      <td>fafdcd668e3743c1bb461111dcafc2a4</td>\n",
       "    </tr>\n",
       "    <tr>\n",
       "      <th>7</th>\n",
       "      <td>0</td>\n",
       "      <td>[email, mobile, social]</td>\n",
       "      <td>0</td>\n",
       "      <td>3</td>\n",
       "      <td>informational</td>\n",
       "      <td>5a8bc65990b245e5a138643cd4eb9837</td>\n",
       "    </tr>\n",
       "    <tr>\n",
       "      <th>8</th>\n",
       "      <td>5</td>\n",
       "      <td>[web, email, mobile, social]</td>\n",
       "      <td>5</td>\n",
       "      <td>5</td>\n",
       "      <td>bogo</td>\n",
       "      <td>f19421c1d4aa40978ebb69ca19b0e20d</td>\n",
       "    </tr>\n",
       "    <tr>\n",
       "      <th>9</th>\n",
       "      <td>2</td>\n",
       "      <td>[web, email, mobile]</td>\n",
       "      <td>10</td>\n",
       "      <td>7</td>\n",
       "      <td>discount</td>\n",
       "      <td>2906b810c7d4411798c6938adc9daaa5</td>\n",
       "    </tr>\n",
       "  </tbody>\n",
       "</table>\n",
       "</div>"
      ],
      "text/plain": [
       "   reward                      channels  difficulty  duration     offer_type  \\\n",
       "0      10       [email, mobile, social]          10         7           bogo   \n",
       "1      10  [web, email, mobile, social]          10         5           bogo   \n",
       "2       0          [web, email, mobile]           0         4  informational   \n",
       "3       5          [web, email, mobile]           5         7           bogo   \n",
       "4       5                  [web, email]          20        10       discount   \n",
       "5       3  [web, email, mobile, social]           7         7       discount   \n",
       "6       2  [web, email, mobile, social]          10        10       discount   \n",
       "7       0       [email, mobile, social]           0         3  informational   \n",
       "8       5  [web, email, mobile, social]           5         5           bogo   \n",
       "9       2          [web, email, mobile]          10         7       discount   \n",
       "\n",
       "                                 id  \n",
       "0  ae264e3637204a6fb9bb56bc8210ddfd  \n",
       "1  4d5c57ea9a6940dd891ad53e9dbe8da0  \n",
       "2  3f207df678b143eea3cee63160fa8bed  \n",
       "3  9b98b8c7a33c4b65b9aebfe6a799e6d9  \n",
       "4  0b1e1539f2cc45b7b9fa7c272da2e1d7  \n",
       "5  2298d6c36e964ae4a3e7e9706d1fb8c2  \n",
       "6  fafdcd668e3743c1bb461111dcafc2a4  \n",
       "7  5a8bc65990b245e5a138643cd4eb9837  \n",
       "8  f19421c1d4aa40978ebb69ca19b0e20d  \n",
       "9  2906b810c7d4411798c6938adc9daaa5  "
      ]
     },
     "execution_count": 2,
     "metadata": {},
     "output_type": "execute_result"
    }
   ],
   "source": [
    "portfolio.head(10)"
   ]
  },
  {
   "cell_type": "code",
   "execution_count": 3,
   "metadata": {},
   "outputs": [
    {
     "data": {
      "text/plain": [
       "10"
      ]
     },
     "execution_count": 3,
     "metadata": {},
     "output_type": "execute_result"
    }
   ],
   "source": [
    "portfolio.id.nunique()"
   ]
  },
  {
   "attachments": {},
   "cell_type": "markdown",
   "metadata": {},
   "source": [
    "We have 10 rows in the portfolio dataframe\n",
    "- all the 'id' in the 'id' column are unique\n",
    "- meaning that we have 10 different (unique) offers"
   ]
  },
  {
   "cell_type": "code",
   "execution_count": 4,
   "metadata": {},
   "outputs": [
    {
     "data": {
      "text/plain": [
       "offer_type\n",
       "bogo             4\n",
       "discount         4\n",
       "informational    2\n",
       "Name: id, dtype: int64"
      ]
     },
     "execution_count": 4,
     "metadata": {},
     "output_type": "execute_result"
    }
   ],
   "source": [
    "# Offers of each type\n",
    "portfolio.groupby('offer_type')['id'].count()"
   ]
  },
  {
   "attachments": {},
   "cell_type": "markdown",
   "metadata": {},
   "source": [
    "- we have 4 unique bogo (buy one get one) offers\n",
    "- we have 4 unique discount offers\n",
    "- we have 2 unique informational offers"
   ]
  },
  {
   "cell_type": "code",
   "execution_count": 5,
   "metadata": {},
   "outputs": [
    {
     "data": {
      "text/html": [
       "<div>\n",
       "<style scoped>\n",
       "    .dataframe tbody tr th:only-of-type {\n",
       "        vertical-align: middle;\n",
       "    }\n",
       "\n",
       "    .dataframe tbody tr th {\n",
       "        vertical-align: top;\n",
       "    }\n",
       "\n",
       "    .dataframe thead th {\n",
       "        text-align: right;\n",
       "    }\n",
       "</style>\n",
       "<table border=\"1\" class=\"dataframe\">\n",
       "  <thead>\n",
       "    <tr style=\"text-align: right;\">\n",
       "      <th></th>\n",
       "      <th>reward</th>\n",
       "      <th>channels</th>\n",
       "      <th>difficulty</th>\n",
       "      <th>duration</th>\n",
       "      <th>offer_type</th>\n",
       "      <th>offer_id</th>\n",
       "    </tr>\n",
       "  </thead>\n",
       "  <tbody>\n",
       "    <tr>\n",
       "      <th>0</th>\n",
       "      <td>10</td>\n",
       "      <td>[email, mobile, social]</td>\n",
       "      <td>10</td>\n",
       "      <td>7</td>\n",
       "      <td>bogo</td>\n",
       "      <td>ae264e3637204a6fb9bb56bc8210ddfd</td>\n",
       "    </tr>\n",
       "    <tr>\n",
       "      <th>1</th>\n",
       "      <td>10</td>\n",
       "      <td>[web, email, mobile, social]</td>\n",
       "      <td>10</td>\n",
       "      <td>5</td>\n",
       "      <td>bogo</td>\n",
       "      <td>4d5c57ea9a6940dd891ad53e9dbe8da0</td>\n",
       "    </tr>\n",
       "    <tr>\n",
       "      <th>2</th>\n",
       "      <td>0</td>\n",
       "      <td>[web, email, mobile]</td>\n",
       "      <td>0</td>\n",
       "      <td>4</td>\n",
       "      <td>informational</td>\n",
       "      <td>3f207df678b143eea3cee63160fa8bed</td>\n",
       "    </tr>\n",
       "    <tr>\n",
       "      <th>3</th>\n",
       "      <td>5</td>\n",
       "      <td>[web, email, mobile]</td>\n",
       "      <td>5</td>\n",
       "      <td>7</td>\n",
       "      <td>bogo</td>\n",
       "      <td>9b98b8c7a33c4b65b9aebfe6a799e6d9</td>\n",
       "    </tr>\n",
       "    <tr>\n",
       "      <th>4</th>\n",
       "      <td>5</td>\n",
       "      <td>[web, email]</td>\n",
       "      <td>20</td>\n",
       "      <td>10</td>\n",
       "      <td>discount</td>\n",
       "      <td>0b1e1539f2cc45b7b9fa7c272da2e1d7</td>\n",
       "    </tr>\n",
       "  </tbody>\n",
       "</table>\n",
       "</div>"
      ],
      "text/plain": [
       "   reward                      channels  difficulty  duration     offer_type  \\\n",
       "0      10       [email, mobile, social]          10         7           bogo   \n",
       "1      10  [web, email, mobile, social]          10         5           bogo   \n",
       "2       0          [web, email, mobile]           0         4  informational   \n",
       "3       5          [web, email, mobile]           5         7           bogo   \n",
       "4       5                  [web, email]          20        10       discount   \n",
       "\n",
       "                           offer_id  \n",
       "0  ae264e3637204a6fb9bb56bc8210ddfd  \n",
       "1  4d5c57ea9a6940dd891ad53e9dbe8da0  \n",
       "2  3f207df678b143eea3cee63160fa8bed  \n",
       "3  9b98b8c7a33c4b65b9aebfe6a799e6d9  \n",
       "4  0b1e1539f2cc45b7b9fa7c272da2e1d7  "
      ]
     },
     "execution_count": 5,
     "metadata": {},
     "output_type": "execute_result"
    }
   ],
   "source": [
    "## Converting id column to offer_id\n",
    "\n",
    "portfolio.rename(columns={'id':'offer_id'},inplace=True)\n",
    "portfolio.head()"
   ]
  },
  {
   "attachments": {},
   "cell_type": "markdown",
   "metadata": {},
   "source": [
    "# 2. Profile Dataset\n",
    "##### Data about the customers"
   ]
  },
  {
   "cell_type": "code",
   "execution_count": 6,
   "metadata": {},
   "outputs": [
    {
     "data": {
      "text/html": [
       "<div>\n",
       "<style scoped>\n",
       "    .dataframe tbody tr th:only-of-type {\n",
       "        vertical-align: middle;\n",
       "    }\n",
       "\n",
       "    .dataframe tbody tr th {\n",
       "        vertical-align: top;\n",
       "    }\n",
       "\n",
       "    .dataframe thead th {\n",
       "        text-align: right;\n",
       "    }\n",
       "</style>\n",
       "<table border=\"1\" class=\"dataframe\">\n",
       "  <thead>\n",
       "    <tr style=\"text-align: right;\">\n",
       "      <th></th>\n",
       "      <th>gender</th>\n",
       "      <th>age</th>\n",
       "      <th>id</th>\n",
       "      <th>became_member_on</th>\n",
       "      <th>income</th>\n",
       "    </tr>\n",
       "  </thead>\n",
       "  <tbody>\n",
       "    <tr>\n",
       "      <th>0</th>\n",
       "      <td>None</td>\n",
       "      <td>118</td>\n",
       "      <td>68be06ca386d4c31939f3a4f0e3dd783</td>\n",
       "      <td>20170212</td>\n",
       "      <td>NaN</td>\n",
       "    </tr>\n",
       "    <tr>\n",
       "      <th>1</th>\n",
       "      <td>F</td>\n",
       "      <td>55</td>\n",
       "      <td>0610b486422d4921ae7d2bf64640c50b</td>\n",
       "      <td>20170715</td>\n",
       "      <td>112000.0</td>\n",
       "    </tr>\n",
       "    <tr>\n",
       "      <th>2</th>\n",
       "      <td>None</td>\n",
       "      <td>118</td>\n",
       "      <td>38fe809add3b4fcf9315a9694bb96ff5</td>\n",
       "      <td>20180712</td>\n",
       "      <td>NaN</td>\n",
       "    </tr>\n",
       "    <tr>\n",
       "      <th>3</th>\n",
       "      <td>F</td>\n",
       "      <td>75</td>\n",
       "      <td>78afa995795e4d85b5d9ceeca43f5fef</td>\n",
       "      <td>20170509</td>\n",
       "      <td>100000.0</td>\n",
       "    </tr>\n",
       "    <tr>\n",
       "      <th>4</th>\n",
       "      <td>None</td>\n",
       "      <td>118</td>\n",
       "      <td>a03223e636434f42ac4c3df47e8bac43</td>\n",
       "      <td>20170804</td>\n",
       "      <td>NaN</td>\n",
       "    </tr>\n",
       "  </tbody>\n",
       "</table>\n",
       "</div>"
      ],
      "text/plain": [
       "  gender  age                                id  became_member_on    income\n",
       "0   None  118  68be06ca386d4c31939f3a4f0e3dd783          20170212       NaN\n",
       "1      F   55  0610b486422d4921ae7d2bf64640c50b          20170715  112000.0\n",
       "2   None  118  38fe809add3b4fcf9315a9694bb96ff5          20180712       NaN\n",
       "3      F   75  78afa995795e4d85b5d9ceeca43f5fef          20170509  100000.0\n",
       "4   None  118  a03223e636434f42ac4c3df47e8bac43          20170804       NaN"
      ]
     },
     "execution_count": 6,
     "metadata": {},
     "output_type": "execute_result"
    }
   ],
   "source": [
    "profile.head()"
   ]
  },
  {
   "cell_type": "code",
   "execution_count": 7,
   "metadata": {},
   "outputs": [
    {
     "name": "stdout",
     "output_type": "stream",
     "text": [
      "<class 'pandas.core.frame.DataFrame'>\n",
      "RangeIndex: 17000 entries, 0 to 16999\n",
      "Data columns (total 5 columns):\n",
      " #   Column            Non-Null Count  Dtype  \n",
      "---  ------            --------------  -----  \n",
      " 0   gender            14825 non-null  object \n",
      " 1   age               17000 non-null  int64  \n",
      " 2   id                17000 non-null  object \n",
      " 3   became_member_on  17000 non-null  int64  \n",
      " 4   income            14825 non-null  float64\n",
      "dtypes: float64(1), int64(2), object(2)\n",
      "memory usage: 664.2+ KB\n"
     ]
    }
   ],
   "source": [
    "profile.info()"
   ]
  },
  {
   "attachments": {},
   "cell_type": "markdown",
   "metadata": {},
   "source": [
    "- the 'id' column the is the ID of the customer\n",
    "- each customer has a unique ID"
   ]
  },
  {
   "cell_type": "code",
   "execution_count": 8,
   "metadata": {},
   "outputs": [
    {
     "data": {
      "text/plain": [
       "gender              2175\n",
       "age                    0\n",
       "id                     0\n",
       "became_member_on       0\n",
       "income              2175\n",
       "dtype: int64"
      ]
     },
     "execution_count": 8,
     "metadata": {},
     "output_type": "execute_result"
    }
   ],
   "source": [
    "profile.isnull().sum()"
   ]
  },
  {
   "attachments": {},
   "cell_type": "markdown",
   "metadata": {},
   "source": [
    "- we can see here that we have null values for 'gender' and 'income' columns\n",
    "- this null values need to be REMOVE before we can 'feed' the data set into our machine learning 'model'"
   ]
  },
  {
   "cell_type": "code",
   "execution_count": 9,
   "metadata": {},
   "outputs": [
    {
     "data": {
      "text/html": [
       "<div>\n",
       "<style scoped>\n",
       "    .dataframe tbody tr th:only-of-type {\n",
       "        vertical-align: middle;\n",
       "    }\n",
       "\n",
       "    .dataframe tbody tr th {\n",
       "        vertical-align: top;\n",
       "    }\n",
       "\n",
       "    .dataframe thead th {\n",
       "        text-align: right;\n",
       "    }\n",
       "</style>\n",
       "<table border=\"1\" class=\"dataframe\">\n",
       "  <thead>\n",
       "    <tr style=\"text-align: right;\">\n",
       "      <th></th>\n",
       "      <th>gender</th>\n",
       "      <th>age</th>\n",
       "      <th>income</th>\n",
       "    </tr>\n",
       "  </thead>\n",
       "  <tbody>\n",
       "    <tr>\n",
       "      <th>0</th>\n",
       "      <td>None</td>\n",
       "      <td>118</td>\n",
       "      <td>NaN</td>\n",
       "    </tr>\n",
       "    <tr>\n",
       "      <th>2</th>\n",
       "      <td>None</td>\n",
       "      <td>118</td>\n",
       "      <td>NaN</td>\n",
       "    </tr>\n",
       "    <tr>\n",
       "      <th>4</th>\n",
       "      <td>None</td>\n",
       "      <td>118</td>\n",
       "      <td>NaN</td>\n",
       "    </tr>\n",
       "    <tr>\n",
       "      <th>6</th>\n",
       "      <td>None</td>\n",
       "      <td>118</td>\n",
       "      <td>NaN</td>\n",
       "    </tr>\n",
       "    <tr>\n",
       "      <th>7</th>\n",
       "      <td>None</td>\n",
       "      <td>118</td>\n",
       "      <td>NaN</td>\n",
       "    </tr>\n",
       "    <tr>\n",
       "      <th>...</th>\n",
       "      <td>...</td>\n",
       "      <td>...</td>\n",
       "      <td>...</td>\n",
       "    </tr>\n",
       "    <tr>\n",
       "      <th>16980</th>\n",
       "      <td>None</td>\n",
       "      <td>118</td>\n",
       "      <td>NaN</td>\n",
       "    </tr>\n",
       "    <tr>\n",
       "      <th>16982</th>\n",
       "      <td>None</td>\n",
       "      <td>118</td>\n",
       "      <td>NaN</td>\n",
       "    </tr>\n",
       "    <tr>\n",
       "      <th>16989</th>\n",
       "      <td>None</td>\n",
       "      <td>118</td>\n",
       "      <td>NaN</td>\n",
       "    </tr>\n",
       "    <tr>\n",
       "      <th>16991</th>\n",
       "      <td>None</td>\n",
       "      <td>118</td>\n",
       "      <td>NaN</td>\n",
       "    </tr>\n",
       "    <tr>\n",
       "      <th>16994</th>\n",
       "      <td>None</td>\n",
       "      <td>118</td>\n",
       "      <td>NaN</td>\n",
       "    </tr>\n",
       "  </tbody>\n",
       "</table>\n",
       "<p>2175 rows × 3 columns</p>\n",
       "</div>"
      ],
      "text/plain": [
       "      gender  age  income\n",
       "0       None  118     NaN\n",
       "2       None  118     NaN\n",
       "4       None  118     NaN\n",
       "6       None  118     NaN\n",
       "7       None  118     NaN\n",
       "...      ...  ...     ...\n",
       "16980   None  118     NaN\n",
       "16982   None  118     NaN\n",
       "16989   None  118     NaN\n",
       "16991   None  118     NaN\n",
       "16994   None  118     NaN\n",
       "\n",
       "[2175 rows x 3 columns]"
      ]
     },
     "execution_count": 9,
     "metadata": {},
     "output_type": "execute_result"
    }
   ],
   "source": [
    "profile[profile.age == 118][['gender','age','income']]"
   ]
  },
  {
   "attachments": {},
   "cell_type": "markdown",
   "metadata": {},
   "source": [
    "- mentioned in the 'read me file', the value of 118 in the 'age' column \\\n",
    "means that the value is missing"
   ]
  },
  {
   "cell_type": "code",
   "execution_count": 10,
   "metadata": {},
   "outputs": [
    {
     "data": {
      "text/plain": [
       "17000"
      ]
     },
     "execution_count": 10,
     "metadata": {},
     "output_type": "execute_result"
    }
   ],
   "source": [
    "# No of unique users\n",
    "profile.id.nunique()"
   ]
  },
  {
   "cell_type": "code",
   "execution_count": 11,
   "metadata": {},
   "outputs": [
    {
     "data": {
      "text/plain": [
       "gender\n",
       "M    8484\n",
       "F    6129\n",
       "O     212\n",
       "Name: count, dtype: int64"
      ]
     },
     "execution_count": 11,
     "metadata": {},
     "output_type": "execute_result"
    }
   ],
   "source": [
    "profile.gender.value_counts()"
   ]
  },
  {
   "cell_type": "code",
   "execution_count": 12,
   "metadata": {},
   "outputs": [
    {
     "data": {
      "image/png": "[encoded data removed]",
      "text/plain": [
       "<Figure size 700x600 with 1 Axes>"
      ]
     },
     "metadata": {},
     "output_type": "display_data"
    }
   ],
   "source": [
    "# 'distribution plot' of customer's income\n",
    "\n",
    "sns.set(style=\"darkgrid\")\n",
    "\n",
    "plt.figure(figsize=(7, 6))\n",
    "sns.histplot(profile.income, bins=20, kde=True, color='skyblue')\n",
    "\n",
    "plt.title('Income Distribution')\n",
    "plt.xlabel('Income (dollars)')\n",
    "plt.ylabel('Count')\n",
    "\n",
    "plt.xticks(rotation=45)\n",
    "plt.tight_layout()\n",
    "\n",
    "plt.show()"
   ]
  },
  {
   "cell_type": "code",
   "execution_count": 13,
   "metadata": {},
   "outputs": [
    {
     "data": {
      "image/png": "[encoded data removed]",
      "text/plain": [
       "<Figure size 700x600 with 1 Axes>"
      ]
     },
     "metadata": {},
     "output_type": "display_data"
    }
   ],
   "source": [
    "# histogram plot of customers' age\n",
    "\n",
    "sns.set(style=\"darkgrid\")\n",
    "\n",
    "plt.figure(figsize=(7, 6))\n",
    "sns.histplot(profile.age, bins=20, kde=False, color='skyblue')\n",
    "\n",
    "plt.title('Age Distribution')\n",
    "plt.xlabel('Age (year)')\n",
    "plt.ylabel('Count')\n",
    "\n",
    "plt.xticks(rotation=45)\n",
    "plt.tight_layout()\n",
    "\n",
    "plt.show()\n"
   ]
  },
  {
   "cell_type": "code",
   "execution_count": 14,
   "metadata": {},
   "outputs": [
    {
     "data": {
      "image/png": "[encoded data removed]",
      "text/plain": [
       "<Figure size 700x600 with 1 Axes>"
      ]
     },
     "metadata": {},
     "output_type": "display_data"
    }
   ],
   "source": [
    "# overlapping 'histogram plot' of customers' income and gender (Male and Female)\n",
    "\n",
    "sns.set(style=\"darkgrid\")\n",
    "\n",
    "plt.figure(figsize=(7, 6))\n",
    "sns.histplot(profile[profile.gender=='M'].income, label='Male')\n",
    "sns.histplot(profile[profile.gender=='F'].income, label='Female')\n",
    "\n",
    "plt.title('Income Distribution by Gender')\n",
    "plt.xlabel('Income (dollars)')\n",
    "plt.ylabel('Count')\n",
    "\n",
    "plt.legend()\n",
    "plt.tight_layout()\n",
    "\n",
    "plt.show()"
   ]
  },
  {
   "cell_type": "code",
   "execution_count": 15,
   "metadata": {},
   "outputs": [
    {
     "data": {
      "image/png": "[encoded data removed]",
      "text/plain": [
       "<Figure size 700x600 with 1 Axes>"
      ]
     },
     "metadata": {},
     "output_type": "display_data"
    }
   ],
   "source": [
    "# overlapping histogram plot of customers' age by gender (Male and Female)\n",
    "\n",
    "sns.set(style=\"darkgrid\")\n",
    "\n",
    "plt.figure(figsize=(7, 6))\n",
    "sns.histplot(profile[profile.gender=='M'].age, label='Male')\n",
    "sns.histplot(profile[profile.gender=='F'].age, label='Female')\n",
    "\n",
    "plt.title('Age Distribution by Gender')\n",
    "plt.xlabel('Age')\n",
    "plt.ylabel('Count')\n",
    "\n",
    "plt.legend()\n",
    "plt.tight_layout()\n",
    "\n",
    "plt.show()\n"
   ]
  },
  {
   "cell_type": "code",
   "execution_count": 16,
   "metadata": {},
   "outputs": [
    {
     "data": {
      "image/png": "[encoded data removed]",
      "text/plain": [
       "<Figure size 1000x600 with 1 Axes>"
      ]
     },
     "metadata": {},
     "output_type": "display_data"
    }
   ],
   "source": [
    "# histogram plot of membership start1 date ( how long customers have been members )\n",
    "\n",
    "sns.set(style=\"darkgrid\")\n",
    "\n",
    "temp1 = pd.DataFrame()\n",
    "temp1['became_member_on_numeric'] = pd.to_datetime(profile['became_member_on'], format='%Y%m%d')\n",
    "\n",
    "plt.figure(figsize=(10, 6))\n",
    "ax = sns.histplot(temp1['became_member_on_numeric'], bins=20, kde=False, color='skyblue')\n",
    "\n",
    "plt.title('Membership Start Date \"Distribution\"')\n",
    "plt.xlabel('Membership Start Date')\n",
    "plt.ylabel('Count')\n",
    "\n",
    "plt.xticks(rotation=45)\n",
    "plt.tight_layout()\n",
    "\n",
    "# Display count values on top of each bar\n",
    "for bar in ax.patches:\n",
    "    height = bar.get_height()\n",
    "    x = bar.get_x() + bar.get_width() / 2. #  calculation allows us to find the x-coordinate of the center of each bar in the histogram plot\n",
    "    y = height\n",
    "    \n",
    "    ax.annotate(f\"{height:.0f}\", (x, y), ha='center', va='bottom', xytext=(0, 5), textcoords='offset points')\n",
    "\n",
    "\n",
    "plt.show()\n",
    "\n"
   ]
  },
  {
   "attachments": {},
   "cell_type": "markdown",
   "metadata": {},
   "source": [
    "# 3. Transcript dataset\n",
    "##### Data about the transactions (money spent by customers) "
   ]
  },
  {
   "cell_type": "code",
   "execution_count": 17,
   "metadata": {},
   "outputs": [
    {
     "data": {
      "text/html": [
       "<div>\n",
       "<style scoped>\n",
       "    .dataframe tbody tr th:only-of-type {\n",
       "        vertical-align: middle;\n",
       "    }\n",
       "\n",
       "    .dataframe tbody tr th {\n",
       "        vertical-align: top;\n",
       "    }\n",
       "\n",
       "    .dataframe thead th {\n",
       "        text-align: right;\n",
       "    }\n",
       "</style>\n",
       "<table border=\"1\" class=\"dataframe\">\n",
       "  <thead>\n",
       "    <tr style=\"text-align: right;\">\n",
       "      <th></th>\n",
       "      <th>person</th>\n",
       "      <th>event</th>\n",
       "      <th>value</th>\n",
       "      <th>time</th>\n",
       "    </tr>\n",
       "  </thead>\n",
       "  <tbody>\n",
       "    <tr>\n",
       "      <th>0</th>\n",
       "      <td>78afa995795e4d85b5d9ceeca43f5fef</td>\n",
       "      <td>offer received</td>\n",
       "      <td>{'offer id': '9b98b8c7a33c4b65b9aebfe6a799e6d9'}</td>\n",
       "      <td>0</td>\n",
       "    </tr>\n",
       "    <tr>\n",
       "      <th>1</th>\n",
       "      <td>a03223e636434f42ac4c3df47e8bac43</td>\n",
       "      <td>offer received</td>\n",
       "      <td>{'offer id': '0b1e1539f2cc45b7b9fa7c272da2e1d7'}</td>\n",
       "      <td>0</td>\n",
       "    </tr>\n",
       "    <tr>\n",
       "      <th>2</th>\n",
       "      <td>e2127556f4f64592b11af22de27a7932</td>\n",
       "      <td>offer received</td>\n",
       "      <td>{'offer id': '2906b810c7d4411798c6938adc9daaa5'}</td>\n",
       "      <td>0</td>\n",
       "    </tr>\n",
       "    <tr>\n",
       "      <th>3</th>\n",
       "      <td>8ec6ce2a7e7949b1bf142def7d0e0586</td>\n",
       "      <td>offer received</td>\n",
       "      <td>{'offer id': 'fafdcd668e3743c1bb461111dcafc2a4'}</td>\n",
       "      <td>0</td>\n",
       "    </tr>\n",
       "    <tr>\n",
       "      <th>4</th>\n",
       "      <td>68617ca6246f4fbc85e91a2a49552598</td>\n",
       "      <td>offer received</td>\n",
       "      <td>{'offer id': '4d5c57ea9a6940dd891ad53e9dbe8da0'}</td>\n",
       "      <td>0</td>\n",
       "    </tr>\n",
       "  </tbody>\n",
       "</table>\n",
       "</div>"
      ],
      "text/plain": [
       "                             person           event  \\\n",
       "0  78afa995795e4d85b5d9ceeca43f5fef  offer received   \n",
       "1  a03223e636434f42ac4c3df47e8bac43  offer received   \n",
       "2  e2127556f4f64592b11af22de27a7932  offer received   \n",
       "3  8ec6ce2a7e7949b1bf142def7d0e0586  offer received   \n",
       "4  68617ca6246f4fbc85e91a2a49552598  offer received   \n",
       "\n",
       "                                              value  time  \n",
       "0  {'offer id': '9b98b8c7a33c4b65b9aebfe6a799e6d9'}     0  \n",
       "1  {'offer id': '0b1e1539f2cc45b7b9fa7c272da2e1d7'}     0  \n",
       "2  {'offer id': '2906b810c7d4411798c6938adc9daaa5'}     0  \n",
       "3  {'offer id': 'fafdcd668e3743c1bb461111dcafc2a4'}     0  \n",
       "4  {'offer id': '4d5c57ea9a6940dd891ad53e9dbe8da0'}     0  "
      ]
     },
     "execution_count": 17,
     "metadata": {},
     "output_type": "execute_result"
    }
   ],
   "source": [
    "transcript.head()"
   ]
  },
  {
   "cell_type": "code",
   "execution_count": 18,
   "metadata": {},
   "outputs": [
    {
     "data": {
      "text/plain": [
       "person    0\n",
       "event     0\n",
       "value     0\n",
       "time      0\n",
       "dtype: int64"
      ]
     },
     "execution_count": 18,
     "metadata": {},
     "output_type": "execute_result"
    }
   ],
   "source": [
    "transcript.isnull().sum()"
   ]
  },
  {
   "cell_type": "code",
   "execution_count": 19,
   "metadata": {},
   "outputs": [
    {
     "data": {
      "text/html": [
       "<div>\n",
       "<style scoped>\n",
       "    .dataframe tbody tr th:only-of-type {\n",
       "        vertical-align: middle;\n",
       "    }\n",
       "\n",
       "    .dataframe tbody tr th {\n",
       "        vertical-align: top;\n",
       "    }\n",
       "\n",
       "    .dataframe thead th {\n",
       "        text-align: right;\n",
       "    }\n",
       "</style>\n",
       "<table border=\"1\" class=\"dataframe\">\n",
       "  <thead>\n",
       "    <tr style=\"text-align: right;\">\n",
       "      <th></th>\n",
       "      <th>person</th>\n",
       "      <th>value</th>\n",
       "      <th>time</th>\n",
       "    </tr>\n",
       "    <tr>\n",
       "      <th>event</th>\n",
       "      <th></th>\n",
       "      <th></th>\n",
       "      <th></th>\n",
       "    </tr>\n",
       "  </thead>\n",
       "  <tbody>\n",
       "    <tr>\n",
       "      <th>offer completed</th>\n",
       "      <td>33579</td>\n",
       "      <td>33579</td>\n",
       "      <td>33579</td>\n",
       "    </tr>\n",
       "    <tr>\n",
       "      <th>offer received</th>\n",
       "      <td>76277</td>\n",
       "      <td>76277</td>\n",
       "      <td>76277</td>\n",
       "    </tr>\n",
       "    <tr>\n",
       "      <th>offer viewed</th>\n",
       "      <td>57725</td>\n",
       "      <td>57725</td>\n",
       "      <td>57725</td>\n",
       "    </tr>\n",
       "    <tr>\n",
       "      <th>transaction</th>\n",
       "      <td>138953</td>\n",
       "      <td>138953</td>\n",
       "      <td>138953</td>\n",
       "    </tr>\n",
       "  </tbody>\n",
       "</table>\n",
       "</div>"
      ],
      "text/plain": [
       "                 person   value    time\n",
       "event                                  \n",
       "offer completed   33579   33579   33579\n",
       "offer received    76277   76277   76277\n",
       "offer viewed      57725   57725   57725\n",
       "transaction      138953  138953  138953"
      ]
     },
     "execution_count": 19,
     "metadata": {},
     "output_type": "execute_result"
    }
   ],
   "source": [
    "# adding all the diffeeent types of 'events' that customer 'created' together\n",
    "transcript.groupby('event').count()"
   ]
  },
  {
   "cell_type": "code",
   "execution_count": 20,
   "metadata": {},
   "outputs": [
    {
     "data": {
      "image/png": "[encoded data removed]",
      "text/plain": [
       "<Figure size 500x500 with 1 Axes>"
      ]
     },
     "metadata": {},
     "output_type": "display_data"
    }
   ],
   "source": [
    "# 'distribution plot' of the above line\n",
    "sns.set(style=\"darkgrid\")\n",
    "\n",
    "plt.figure(figsize=(5, 5))\n",
    "sns.histplot(transcript.event, bins=20, kde=False, color='skyblue')\n",
    "\n",
    "plt.title('\"Event Type\" Distribution')\n",
    "plt.xlabel('\"Event Type\"')\n",
    "plt.ylabel('Count')\n",
    "\n",
    "plt.xticks(rotation=45)\n",
    "plt.tight_layout()\n",
    "\n",
    "plt.show()\n"
   ]
  },
  {
   "attachments": {},
   "cell_type": "markdown",
   "metadata": {},
   "source": [
    "So, the general ideal 'flow' is:\n",
    "- 'offer received' -> 'offer viewed' -> 'transaction' -> 'offer completed'\n",
    "\n",
    "This mean that custermer \n",
    "- received an offer\n",
    "- viewed it\n",
    "- made a transaction\n",
    "- completed the offer\n",
    "\n",
    "\n",
    "To avoid any confusion about the term 'offer completed', here is a definition from the 'read me file':\n",
    "\n",
    "```\n",
    "\"Offer completed\" is an event type that occurs when a customer completes an offer that they received. This means that the customer has met the requirements of the offer and has received the reward associated with it.\n",
    "\n",
    "For example, if a customer receives a \"buy-one-get-one\" (BOGO) offer and they make a qualifying purchase, they will receive a reward equal to the value of the second item they purchased. When the customer receives this reward, an \"offer completed\" event will be recorded in the transcript.json file.\n",
    "\n",
    "The purpose of tracking \"offer completed\" events is to determine which offers are most effective at driving customer behavior and to optimize future offers based on this information.\n",
    "```"
   ]
  },
  {
   "cell_type": "code",
   "execution_count": 21,
   "metadata": {},
   "outputs": [
    {
     "data": {
      "text/html": [
       "<div>\n",
       "<style scoped>\n",
       "    .dataframe tbody tr th:only-of-type {\n",
       "        vertical-align: middle;\n",
       "    }\n",
       "\n",
       "    .dataframe tbody tr th {\n",
       "        vertical-align: top;\n",
       "    }\n",
       "\n",
       "    .dataframe thead th {\n",
       "        text-align: right;\n",
       "    }\n",
       "</style>\n",
       "<table border=\"1\" class=\"dataframe\">\n",
       "  <thead>\n",
       "    <tr style=\"text-align: right;\">\n",
       "      <th></th>\n",
       "      <th>person</th>\n",
       "      <th>event</th>\n",
       "      <th>value</th>\n",
       "      <th>time</th>\n",
       "      <th>offer id</th>\n",
       "      <th>amount</th>\n",
       "      <th>offer_id</th>\n",
       "      <th>reward</th>\n",
       "    </tr>\n",
       "  </thead>\n",
       "  <tbody>\n",
       "    <tr>\n",
       "      <th>0</th>\n",
       "      <td>78afa995795e4d85b5d9ceeca43f5fef</td>\n",
       "      <td>offer received</td>\n",
       "      <td>{'offer id': '9b98b8c7a33c4b65b9aebfe6a799e6d9'}</td>\n",
       "      <td>0</td>\n",
       "      <td>9b98b8c7a33c4b65b9aebfe6a799e6d9</td>\n",
       "      <td>NaN</td>\n",
       "      <td>NaN</td>\n",
       "      <td>NaN</td>\n",
       "    </tr>\n",
       "    <tr>\n",
       "      <th>1</th>\n",
       "      <td>a03223e636434f42ac4c3df47e8bac43</td>\n",
       "      <td>offer received</td>\n",
       "      <td>{'offer id': '0b1e1539f2cc45b7b9fa7c272da2e1d7'}</td>\n",
       "      <td>0</td>\n",
       "      <td>0b1e1539f2cc45b7b9fa7c272da2e1d7</td>\n",
       "      <td>NaN</td>\n",
       "      <td>NaN</td>\n",
       "      <td>NaN</td>\n",
       "    </tr>\n",
       "    <tr>\n",
       "      <th>2</th>\n",
       "      <td>e2127556f4f64592b11af22de27a7932</td>\n",
       "      <td>offer received</td>\n",
       "      <td>{'offer id': '2906b810c7d4411798c6938adc9daaa5'}</td>\n",
       "      <td>0</td>\n",
       "      <td>2906b810c7d4411798c6938adc9daaa5</td>\n",
       "      <td>NaN</td>\n",
       "      <td>NaN</td>\n",
       "      <td>NaN</td>\n",
       "    </tr>\n",
       "    <tr>\n",
       "      <th>3</th>\n",
       "      <td>8ec6ce2a7e7949b1bf142def7d0e0586</td>\n",
       "      <td>offer received</td>\n",
       "      <td>{'offer id': 'fafdcd668e3743c1bb461111dcafc2a4'}</td>\n",
       "      <td>0</td>\n",
       "      <td>fafdcd668e3743c1bb461111dcafc2a4</td>\n",
       "      <td>NaN</td>\n",
       "      <td>NaN</td>\n",
       "      <td>NaN</td>\n",
       "    </tr>\n",
       "    <tr>\n",
       "      <th>4</th>\n",
       "      <td>68617ca6246f4fbc85e91a2a49552598</td>\n",
       "      <td>offer received</td>\n",
       "      <td>{'offer id': '4d5c57ea9a6940dd891ad53e9dbe8da0'}</td>\n",
       "      <td>0</td>\n",
       "      <td>4d5c57ea9a6940dd891ad53e9dbe8da0</td>\n",
       "      <td>NaN</td>\n",
       "      <td>NaN</td>\n",
       "      <td>NaN</td>\n",
       "    </tr>\n",
       "  </tbody>\n",
       "</table>\n",
       "</div>"
      ],
      "text/plain": [
       "                             person           event  \\\n",
       "0  78afa995795e4d85b5d9ceeca43f5fef  offer received   \n",
       "1  a03223e636434f42ac4c3df47e8bac43  offer received   \n",
       "2  e2127556f4f64592b11af22de27a7932  offer received   \n",
       "3  8ec6ce2a7e7949b1bf142def7d0e0586  offer received   \n",
       "4  68617ca6246f4fbc85e91a2a49552598  offer received   \n",
       "\n",
       "                                              value  time  \\\n",
       "0  {'offer id': '9b98b8c7a33c4b65b9aebfe6a799e6d9'}     0   \n",
       "1  {'offer id': '0b1e1539f2cc45b7b9fa7c272da2e1d7'}     0   \n",
       "2  {'offer id': '2906b810c7d4411798c6938adc9daaa5'}     0   \n",
       "3  {'offer id': 'fafdcd668e3743c1bb461111dcafc2a4'}     0   \n",
       "4  {'offer id': '4d5c57ea9a6940dd891ad53e9dbe8da0'}     0   \n",
       "\n",
       "                           offer id  amount offer_id  reward  \n",
       "0  9b98b8c7a33c4b65b9aebfe6a799e6d9     NaN      NaN     NaN  \n",
       "1  0b1e1539f2cc45b7b9fa7c272da2e1d7     NaN      NaN     NaN  \n",
       "2  2906b810c7d4411798c6938adc9daaa5     NaN      NaN     NaN  \n",
       "3  fafdcd668e3743c1bb461111dcafc2a4     NaN      NaN     NaN  \n",
       "4  4d5c57ea9a6940dd891ad53e9dbe8da0     NaN      NaN     NaN  "
      ]
     },
     "execution_count": 21,
     "metadata": {},
     "output_type": "execute_result"
    }
   ],
   "source": [
    "# the 'value column' has a dictionary in each row\n",
    "# extracting the different values in 'value column'\n",
    "transcript = pd.concat([transcript, transcript['value'].apply(pd.Series)], axis=1)\n",
    "transcript.head()"
   ]
  },
  {
   "cell_type": "code",
   "execution_count": 22,
   "metadata": {},
   "outputs": [
    {
     "data": {
      "text/plain": [
       "Index(['person', 'event', 'value', 'time', 'offer id', 'amount', 'offer_id',\n",
       "       'reward'],\n",
       "      dtype='object')"
      ]
     },
     "execution_count": 22,
     "metadata": {},
     "output_type": "execute_result"
    }
   ],
   "source": [
    "transcript.columns"
   ]
  },
  {
   "attachments": {},
   "cell_type": "markdown",
   "metadata": {},
   "source": [
    "From above code, Added 4 new columns to the transcript dataframe\n",
    "- 'offer id' column\n",
    "- 'amount' column\n",
    "- 'offer_id' column\n",
    "- 'reward' column\n"
   ]
  },
  {
   "cell_type": "code",
   "execution_count": 23,
   "metadata": {},
   "outputs": [],
   "source": [
    "# clean up the duplicates in 'offer id' and 'offer_id' and meger into one column\n",
    "\n",
    "# if 'offer id' is null and 'offer_id' is not null, then 'id_temp' = 'offer_id'\n",
    "# else 'id_temp' = 'offer id'\n",
    "transcript['id_temp'] = np.where( transcript['offer id'].isnull() & transcript['offer_id'].notnull(),\n",
    "                                   transcript['offer_id'], transcript['offer id'] )\n",
    "\n",
    "# remove the 2 columns 'offer id' and 'offer_id'\n",
    "transcript.drop(['offer id', 'offer_id'], axis=1, inplace=True)\n",
    "\n",
    "# rename the column 'id_temp' to 'offer_id'\n",
    "transcript.rename(columns={'id_temp': 'offer_id'}, inplace=True)"
   ]
  },
  {
   "cell_type": "code",
   "execution_count": 24,
   "metadata": {},
   "outputs": [
    {
     "data": {
      "text/html": [
       "<div>\n",
       "<style scoped>\n",
       "    .dataframe tbody tr th:only-of-type {\n",
       "        vertical-align: middle;\n",
       "    }\n",
       "\n",
       "    .dataframe tbody tr th {\n",
       "        vertical-align: top;\n",
       "    }\n",
       "\n",
       "    .dataframe thead th {\n",
       "        text-align: right;\n",
       "    }\n",
       "</style>\n",
       "<table border=\"1\" class=\"dataframe\">\n",
       "  <thead>\n",
       "    <tr style=\"text-align: right;\">\n",
       "      <th></th>\n",
       "      <th>person</th>\n",
       "      <th>event</th>\n",
       "      <th>value</th>\n",
       "      <th>time</th>\n",
       "      <th>amount</th>\n",
       "      <th>reward</th>\n",
       "      <th>offer_id</th>\n",
       "    </tr>\n",
       "  </thead>\n",
       "  <tbody>\n",
       "    <tr>\n",
       "      <th>0</th>\n",
       "      <td>78afa995795e4d85b5d9ceeca43f5fef</td>\n",
       "      <td>offer received</td>\n",
       "      <td>{'offer id': '9b98b8c7a33c4b65b9aebfe6a799e6d9'}</td>\n",
       "      <td>0</td>\n",
       "      <td>NaN</td>\n",
       "      <td>NaN</td>\n",
       "      <td>9b98b8c7a33c4b65b9aebfe6a799e6d9</td>\n",
       "    </tr>\n",
       "    <tr>\n",
       "      <th>1</th>\n",
       "      <td>a03223e636434f42ac4c3df47e8bac43</td>\n",
       "      <td>offer received</td>\n",
       "      <td>{'offer id': '0b1e1539f2cc45b7b9fa7c272da2e1d7'}</td>\n",
       "      <td>0</td>\n",
       "      <td>NaN</td>\n",
       "      <td>NaN</td>\n",
       "      <td>0b1e1539f2cc45b7b9fa7c272da2e1d7</td>\n",
       "    </tr>\n",
       "    <tr>\n",
       "      <th>2</th>\n",
       "      <td>e2127556f4f64592b11af22de27a7932</td>\n",
       "      <td>offer received</td>\n",
       "      <td>{'offer id': '2906b810c7d4411798c6938adc9daaa5'}</td>\n",
       "      <td>0</td>\n",
       "      <td>NaN</td>\n",
       "      <td>NaN</td>\n",
       "      <td>2906b810c7d4411798c6938adc9daaa5</td>\n",
       "    </tr>\n",
       "    <tr>\n",
       "      <th>3</th>\n",
       "      <td>8ec6ce2a7e7949b1bf142def7d0e0586</td>\n",
       "      <td>offer received</td>\n",
       "      <td>{'offer id': 'fafdcd668e3743c1bb461111dcafc2a4'}</td>\n",
       "      <td>0</td>\n",
       "      <td>NaN</td>\n",
       "      <td>NaN</td>\n",
       "      <td>fafdcd668e3743c1bb461111dcafc2a4</td>\n",
       "    </tr>\n",
       "    <tr>\n",
       "      <th>4</th>\n",
       "      <td>68617ca6246f4fbc85e91a2a49552598</td>\n",
       "      <td>offer received</td>\n",
       "      <td>{'offer id': '4d5c57ea9a6940dd891ad53e9dbe8da0'}</td>\n",
       "      <td>0</td>\n",
       "      <td>NaN</td>\n",
       "      <td>NaN</td>\n",
       "      <td>4d5c57ea9a6940dd891ad53e9dbe8da0</td>\n",
       "    </tr>\n",
       "  </tbody>\n",
       "</table>\n",
       "</div>"
      ],
      "text/plain": [
       "                             person           event  \\\n",
       "0  78afa995795e4d85b5d9ceeca43f5fef  offer received   \n",
       "1  a03223e636434f42ac4c3df47e8bac43  offer received   \n",
       "2  e2127556f4f64592b11af22de27a7932  offer received   \n",
       "3  8ec6ce2a7e7949b1bf142def7d0e0586  offer received   \n",
       "4  68617ca6246f4fbc85e91a2a49552598  offer received   \n",
       "\n",
       "                                              value  time  amount  reward  \\\n",
       "0  {'offer id': '9b98b8c7a33c4b65b9aebfe6a799e6d9'}     0     NaN     NaN   \n",
       "1  {'offer id': '0b1e1539f2cc45b7b9fa7c272da2e1d7'}     0     NaN     NaN   \n",
       "2  {'offer id': '2906b810c7d4411798c6938adc9daaa5'}     0     NaN     NaN   \n",
       "3  {'offer id': 'fafdcd668e3743c1bb461111dcafc2a4'}     0     NaN     NaN   \n",
       "4  {'offer id': '4d5c57ea9a6940dd891ad53e9dbe8da0'}     0     NaN     NaN   \n",
       "\n",
       "                           offer_id  \n",
       "0  9b98b8c7a33c4b65b9aebfe6a799e6d9  \n",
       "1  0b1e1539f2cc45b7b9fa7c272da2e1d7  \n",
       "2  2906b810c7d4411798c6938adc9daaa5  \n",
       "3  fafdcd668e3743c1bb461111dcafc2a4  \n",
       "4  4d5c57ea9a6940dd891ad53e9dbe8da0  "
      ]
     },
     "execution_count": 24,
     "metadata": {},
     "output_type": "execute_result"
    }
   ],
   "source": [
    "transcript.head()"
   ]
  },
  {
   "cell_type": "code",
   "execution_count": 25,
   "metadata": {},
   "outputs": [],
   "source": [
    "assert transcript.offer_id.nunique() == 10"
   ]
  },
  {
   "attachments": {},
   "cell_type": "markdown",
   "metadata": {},
   "source": [
    "We still have 10 unique 'offer_id' in the transcript dataframe\\\n",
    "which MATCHES the number of unique 'id' in the portfolio dataframe\n",
    "\n",
    "```note: 'offer_id' are refering to the 'promotions'```"
   ]
  },
  {
   "cell_type": "code",
   "execution_count": 26,
   "metadata": {},
   "outputs": [],
   "source": [
    "assert transcript.person.nunique() == 17000"
   ]
  },
  {
   "attachments": {},
   "cell_type": "markdown",
   "metadata": {},
   "source": [
    "transcript dataframe has 17000 unique 'person'\\\n",
    "also MATCHES the number of unique 'id' in the profile dataframe\n",
    "\n",
    "```note: 'person' are refering to the 'customers'```"
   ]
  },
  {
   "cell_type": "markdown",
   "metadata": {},
   "source": [
    "since the 'informational' promotions does not have any 'offer completed' events,\\\n",
    "*no future analysis* will be done on the 'informational' promotions\n",
    "\n",
    "we will only focus on:\n",
    "- 'bogo'\n",
    "- 'discount' "
   ]
  },
  {
   "attachments": {},
   "cell_type": "markdown",
   "metadata": {},
   "source": [
    "# 'transcript' dataframe Data Processing"
   ]
  },
  {
   "cell_type": "code",
   "execution_count": 27,
   "metadata": {},
   "outputs": [
    {
     "data": {
      "text/html": [
       "<div>\n",
       "<style scoped>\n",
       "    .dataframe tbody tr th:only-of-type {\n",
       "        vertical-align: middle;\n",
       "    }\n",
       "\n",
       "    .dataframe tbody tr th {\n",
       "        vertical-align: top;\n",
       "    }\n",
       "\n",
       "    .dataframe thead th {\n",
       "        text-align: right;\n",
       "    }\n",
       "</style>\n",
       "<table border=\"1\" class=\"dataframe\">\n",
       "  <thead>\n",
       "    <tr style=\"text-align: right;\">\n",
       "      <th></th>\n",
       "      <th>person</th>\n",
       "      <th>event</th>\n",
       "      <th>value</th>\n",
       "      <th>time</th>\n",
       "      <th>amount</th>\n",
       "      <th>reward</th>\n",
       "      <th>offer_id</th>\n",
       "    </tr>\n",
       "  </thead>\n",
       "  <tbody>\n",
       "    <tr>\n",
       "      <th>0</th>\n",
       "      <td>78afa995795e4d85b5d9ceeca43f5fef</td>\n",
       "      <td>offer received</td>\n",
       "      <td>{'offer id': '9b98b8c7a33c4b65b9aebfe6a799e6d9'}</td>\n",
       "      <td>0</td>\n",
       "      <td>NaN</td>\n",
       "      <td>NaN</td>\n",
       "      <td>9b98b8c7a33c4b65b9aebfe6a799e6d9</td>\n",
       "    </tr>\n",
       "    <tr>\n",
       "      <th>1</th>\n",
       "      <td>a03223e636434f42ac4c3df47e8bac43</td>\n",
       "      <td>offer received</td>\n",
       "      <td>{'offer id': '0b1e1539f2cc45b7b9fa7c272da2e1d7'}</td>\n",
       "      <td>0</td>\n",
       "      <td>NaN</td>\n",
       "      <td>NaN</td>\n",
       "      <td>0b1e1539f2cc45b7b9fa7c272da2e1d7</td>\n",
       "    </tr>\n",
       "    <tr>\n",
       "      <th>2</th>\n",
       "      <td>e2127556f4f64592b11af22de27a7932</td>\n",
       "      <td>offer received</td>\n",
       "      <td>{'offer id': '2906b810c7d4411798c6938adc9daaa5'}</td>\n",
       "      <td>0</td>\n",
       "      <td>NaN</td>\n",
       "      <td>NaN</td>\n",
       "      <td>2906b810c7d4411798c6938adc9daaa5</td>\n",
       "    </tr>\n",
       "  </tbody>\n",
       "</table>\n",
       "</div>"
      ],
      "text/plain": [
       "                             person           event  \\\n",
       "0  78afa995795e4d85b5d9ceeca43f5fef  offer received   \n",
       "1  a03223e636434f42ac4c3df47e8bac43  offer received   \n",
       "2  e2127556f4f64592b11af22de27a7932  offer received   \n",
       "\n",
       "                                              value  time  amount  reward  \\\n",
       "0  {'offer id': '9b98b8c7a33c4b65b9aebfe6a799e6d9'}     0     NaN     NaN   \n",
       "1  {'offer id': '0b1e1539f2cc45b7b9fa7c272da2e1d7'}     0     NaN     NaN   \n",
       "2  {'offer id': '2906b810c7d4411798c6938adc9daaa5'}     0     NaN     NaN   \n",
       "\n",
       "                           offer_id  \n",
       "0  9b98b8c7a33c4b65b9aebfe6a799e6d9  \n",
       "1  0b1e1539f2cc45b7b9fa7c272da2e1d7  \n",
       "2  2906b810c7d4411798c6938adc9daaa5  "
      ]
     },
     "execution_count": 27,
     "metadata": {},
     "output_type": "execute_result"
    }
   ],
   "source": [
    "transcript.head(3)"
   ]
  },
  {
   "cell_type": "code",
   "execution_count": 28,
   "metadata": {},
   "outputs": [],
   "source": [
    "## merging 'transcript' and 'portfolio' dataframes\n",
    "transcript = transcript.merge( portfolio, how='left', on='offer_id')\n"
   ]
  },
  {
   "cell_type": "markdown",
   "metadata": {},
   "source": [
    "added columns:\n",
    "- reward_x\n",
    "- reward_y\n",
    "- channels\n",
    "- difficulty\n",
    "- duration\n",
    "- offer_type\n",
    "\n",
    "to the 'transcript' dataframe\\\n",
    "why?\\\n",
    "because 'portfolio' dataframe contains information about the 'promotions'\\\n",
    "and 'transcript' dataframe contains information about the 'transactions'"
   ]
  },
  {
   "cell_type": "code",
   "execution_count": 29,
   "metadata": {},
   "outputs": [
    {
     "data": {
      "text/html": [
       "<div>\n",
       "<style scoped>\n",
       "    .dataframe tbody tr th:only-of-type {\n",
       "        vertical-align: middle;\n",
       "    }\n",
       "\n",
       "    .dataframe tbody tr th {\n",
       "        vertical-align: top;\n",
       "    }\n",
       "\n",
       "    .dataframe thead th {\n",
       "        text-align: right;\n",
       "    }\n",
       "</style>\n",
       "<table border=\"1\" class=\"dataframe\">\n",
       "  <thead>\n",
       "    <tr style=\"text-align: right;\">\n",
       "      <th></th>\n",
       "      <th>person</th>\n",
       "      <th>event</th>\n",
       "      <th>value</th>\n",
       "      <th>time</th>\n",
       "      <th>amount</th>\n",
       "      <th>reward_x</th>\n",
       "      <th>offer_id</th>\n",
       "      <th>reward_y</th>\n",
       "      <th>channels</th>\n",
       "      <th>difficulty</th>\n",
       "      <th>duration</th>\n",
       "      <th>offer_type</th>\n",
       "    </tr>\n",
       "  </thead>\n",
       "  <tbody>\n",
       "    <tr>\n",
       "      <th>0</th>\n",
       "      <td>78afa995795e4d85b5d9ceeca43f5fef</td>\n",
       "      <td>offer received</td>\n",
       "      <td>{'offer id': '9b98b8c7a33c4b65b9aebfe6a799e6d9'}</td>\n",
       "      <td>0</td>\n",
       "      <td>NaN</td>\n",
       "      <td>NaN</td>\n",
       "      <td>9b98b8c7a33c4b65b9aebfe6a799e6d9</td>\n",
       "      <td>5.0</td>\n",
       "      <td>[web, email, mobile]</td>\n",
       "      <td>5.0</td>\n",
       "      <td>7.0</td>\n",
       "      <td>bogo</td>\n",
       "    </tr>\n",
       "    <tr>\n",
       "      <th>1</th>\n",
       "      <td>a03223e636434f42ac4c3df47e8bac43</td>\n",
       "      <td>offer received</td>\n",
       "      <td>{'offer id': '0b1e1539f2cc45b7b9fa7c272da2e1d7'}</td>\n",
       "      <td>0</td>\n",
       "      <td>NaN</td>\n",
       "      <td>NaN</td>\n",
       "      <td>0b1e1539f2cc45b7b9fa7c272da2e1d7</td>\n",
       "      <td>5.0</td>\n",
       "      <td>[web, email]</td>\n",
       "      <td>20.0</td>\n",
       "      <td>10.0</td>\n",
       "      <td>discount</td>\n",
       "    </tr>\n",
       "    <tr>\n",
       "      <th>2</th>\n",
       "      <td>e2127556f4f64592b11af22de27a7932</td>\n",
       "      <td>offer received</td>\n",
       "      <td>{'offer id': '2906b810c7d4411798c6938adc9daaa5'}</td>\n",
       "      <td>0</td>\n",
       "      <td>NaN</td>\n",
       "      <td>NaN</td>\n",
       "      <td>2906b810c7d4411798c6938adc9daaa5</td>\n",
       "      <td>2.0</td>\n",
       "      <td>[web, email, mobile]</td>\n",
       "      <td>10.0</td>\n",
       "      <td>7.0</td>\n",
       "      <td>discount</td>\n",
       "    </tr>\n",
       "  </tbody>\n",
       "</table>\n",
       "</div>"
      ],
      "text/plain": [
       "                             person           event  \\\n",
       "0  78afa995795e4d85b5d9ceeca43f5fef  offer received   \n",
       "1  a03223e636434f42ac4c3df47e8bac43  offer received   \n",
       "2  e2127556f4f64592b11af22de27a7932  offer received   \n",
       "\n",
       "                                              value  time  amount  reward_x  \\\n",
       "0  {'offer id': '9b98b8c7a33c4b65b9aebfe6a799e6d9'}     0     NaN       NaN   \n",
       "1  {'offer id': '0b1e1539f2cc45b7b9fa7c272da2e1d7'}     0     NaN       NaN   \n",
       "2  {'offer id': '2906b810c7d4411798c6938adc9daaa5'}     0     NaN       NaN   \n",
       "\n",
       "                           offer_id  reward_y              channels  \\\n",
       "0  9b98b8c7a33c4b65b9aebfe6a799e6d9       5.0  [web, email, mobile]   \n",
       "1  0b1e1539f2cc45b7b9fa7c272da2e1d7       5.0          [web, email]   \n",
       "2  2906b810c7d4411798c6938adc9daaa5       2.0  [web, email, mobile]   \n",
       "\n",
       "   difficulty  duration offer_type  \n",
       "0         5.0       7.0       bogo  \n",
       "1        20.0      10.0   discount  \n",
       "2        10.0       7.0   discount  "
      ]
     },
     "execution_count": 29,
     "metadata": {},
     "output_type": "execute_result"
    }
   ],
   "source": [
    "transcript.head(3)"
   ]
  },
  {
   "cell_type": "code",
   "execution_count": 30,
   "metadata": {},
   "outputs": [],
   "source": [
    "transcript2 = pd.DataFrame(transcript) # make a copy of transcript dataframe\n",
    "\n",
    "transcript2 = transcript2.drop(columns=['reward_x','reward_y'], axis=1,inplace=False)\n",
    "\n",
    "expected_columns = ['person', 'event', 'value', 'time', 'amount', 'offer_id', 'channels', 'difficulty', 'duration', 'offer_type']\n",
    "assert list(transcript2.columns) == expected_columns\n",
    "\n",
    "# assert test for checking that transcript2 dataframe has the same columns as 'expected_columns'"
   ]
  },
  {
   "cell_type": "code",
   "execution_count": 31,
   "metadata": {},
   "outputs": [
    {
     "data": {
      "text/html": [
       "<div>\n",
       "<style scoped>\n",
       "    .dataframe tbody tr th:only-of-type {\n",
       "        vertical-align: middle;\n",
       "    }\n",
       "\n",
       "    .dataframe tbody tr th {\n",
       "        vertical-align: top;\n",
       "    }\n",
       "\n",
       "    .dataframe thead th {\n",
       "        text-align: right;\n",
       "    }\n",
       "</style>\n",
       "<table border=\"1\" class=\"dataframe\">\n",
       "  <thead>\n",
       "    <tr style=\"text-align: right;\">\n",
       "      <th></th>\n",
       "      <th>person</th>\n",
       "      <th>event</th>\n",
       "      <th>value</th>\n",
       "      <th>time</th>\n",
       "      <th>amount</th>\n",
       "      <th>offer_id</th>\n",
       "      <th>channels</th>\n",
       "      <th>difficulty</th>\n",
       "      <th>duration</th>\n",
       "      <th>offer_type</th>\n",
       "    </tr>\n",
       "  </thead>\n",
       "  <tbody>\n",
       "    <tr>\n",
       "      <th>55972</th>\n",
       "      <td>0009655768c64bdeb2e877511632db8f</td>\n",
       "      <td>offer received</td>\n",
       "      <td>{'offer id': '5a8bc65990b245e5a138643cd4eb9837'}</td>\n",
       "      <td>168</td>\n",
       "      <td>NaN</td>\n",
       "      <td>5a8bc65990b245e5a138643cd4eb9837</td>\n",
       "      <td>[email, mobile, social]</td>\n",
       "      <td>0.0</td>\n",
       "      <td>3.0</td>\n",
       "      <td>informational</td>\n",
       "    </tr>\n",
       "    <tr>\n",
       "      <th>77705</th>\n",
       "      <td>0009655768c64bdeb2e877511632db8f</td>\n",
       "      <td>offer viewed</td>\n",
       "      <td>{'offer id': '5a8bc65990b245e5a138643cd4eb9837'}</td>\n",
       "      <td>192</td>\n",
       "      <td>NaN</td>\n",
       "      <td>5a8bc65990b245e5a138643cd4eb9837</td>\n",
       "      <td>[email, mobile, social]</td>\n",
       "      <td>0.0</td>\n",
       "      <td>3.0</td>\n",
       "      <td>informational</td>\n",
       "    </tr>\n",
       "    <tr>\n",
       "      <th>89291</th>\n",
       "      <td>0009655768c64bdeb2e877511632db8f</td>\n",
       "      <td>transaction</td>\n",
       "      <td>{'amount': 22.16}</td>\n",
       "      <td>228</td>\n",
       "      <td>22.16</td>\n",
       "      <td>NaN</td>\n",
       "      <td>NaN</td>\n",
       "      <td>NaN</td>\n",
       "      <td>NaN</td>\n",
       "      <td>NaN</td>\n",
       "    </tr>\n",
       "  </tbody>\n",
       "</table>\n",
       "</div>"
      ],
      "text/plain": [
       "                                 person           event  \\\n",
       "55972  0009655768c64bdeb2e877511632db8f  offer received   \n",
       "77705  0009655768c64bdeb2e877511632db8f    offer viewed   \n",
       "89291  0009655768c64bdeb2e877511632db8f     transaction   \n",
       "\n",
       "                                                  value  time  amount  \\\n",
       "55972  {'offer id': '5a8bc65990b245e5a138643cd4eb9837'}   168     NaN   \n",
       "77705  {'offer id': '5a8bc65990b245e5a138643cd4eb9837'}   192     NaN   \n",
       "89291                                 {'amount': 22.16}   228   22.16   \n",
       "\n",
       "                               offer_id                 channels  difficulty  \\\n",
       "55972  5a8bc65990b245e5a138643cd4eb9837  [email, mobile, social]         0.0   \n",
       "77705  5a8bc65990b245e5a138643cd4eb9837  [email, mobile, social]         0.0   \n",
       "89291                               NaN                      NaN         NaN   \n",
       "\n",
       "       duration     offer_type  \n",
       "55972       3.0  informational  \n",
       "77705       3.0  informational  \n",
       "89291       NaN            NaN  "
      ]
     },
     "execution_count": 31,
     "metadata": {},
     "output_type": "execute_result"
    }
   ],
   "source": [
    "# sort the events by person and time\n",
    "# 'time' column is now in ascending order\n",
    "transcript2 = transcript2.sort_values(['person','time'])\n",
    "\n",
    "assert transcript2['time'].iloc[0] == 168\n",
    "assert transcript2['time'].iloc[1] == 192\n",
    "assert transcript2['time'].iloc[2] == 228\n",
    "\n",
    "transcript2.head(3)"
   ]
  },
  {
   "cell_type": "code",
   "execution_count": 32,
   "metadata": {},
   "outputs": [],
   "source": [
    "# expression for selecting rows from the specified columns where 'event' is either 'transaction' or 'offer viewed'.\n",
    "event_filter1 = transcript2['event'].isin(['transaction', 'offer viewed'])\n",
    "completed_offer = transcript2.loc[event_filter1, ['time', 'offer_id', 'person', 'event']]"
   ]
  },
  {
   "cell_type": "markdown",
   "metadata": {},
   "source": [
    "below, when we have this 'flow' of:\n",
    "- 'offer viewed' -> 'transaction'\n",
    "\n",
    "we can consider that the customer has 'completed' the offer"
   ]
  },
  {
   "cell_type": "code",
   "execution_count": 33,
   "metadata": {},
   "outputs": [
    {
     "data": {
      "text/html": [
       "<div>\n",
       "<style scoped>\n",
       "    .dataframe tbody tr th:only-of-type {\n",
       "        vertical-align: middle;\n",
       "    }\n",
       "\n",
       "    .dataframe tbody tr th {\n",
       "        vertical-align: top;\n",
       "    }\n",
       "\n",
       "    .dataframe thead th {\n",
       "        text-align: right;\n",
       "    }\n",
       "</style>\n",
       "<table border=\"1\" class=\"dataframe\">\n",
       "  <thead>\n",
       "    <tr style=\"text-align: right;\">\n",
       "      <th></th>\n",
       "      <th>time</th>\n",
       "      <th>offer_id</th>\n",
       "      <th>person</th>\n",
       "      <th>event</th>\n",
       "    </tr>\n",
       "  </thead>\n",
       "  <tbody>\n",
       "    <tr>\n",
       "      <th>77705</th>\n",
       "      <td>192</td>\n",
       "      <td>5a8bc65990b245e5a138643cd4eb9837</td>\n",
       "      <td>0009655768c64bdeb2e877511632db8f</td>\n",
       "      <td>offer viewed</td>\n",
       "    </tr>\n",
       "    <tr>\n",
       "      <th>89291</th>\n",
       "      <td>228</td>\n",
       "      <td>NaN</td>\n",
       "      <td>0009655768c64bdeb2e877511632db8f</td>\n",
       "      <td>transaction</td>\n",
       "    </tr>\n",
       "    <tr>\n",
       "      <th>139992</th>\n",
       "      <td>372</td>\n",
       "      <td>3f207df678b143eea3cee63160fa8bed</td>\n",
       "      <td>0009655768c64bdeb2e877511632db8f</td>\n",
       "      <td>offer viewed</td>\n",
       "    </tr>\n",
       "    <tr>\n",
       "      <th>168412</th>\n",
       "      <td>414</td>\n",
       "      <td>NaN</td>\n",
       "      <td>0009655768c64bdeb2e877511632db8f</td>\n",
       "      <td>transaction</td>\n",
       "    </tr>\n",
       "    <tr>\n",
       "      <th>187554</th>\n",
       "      <td>456</td>\n",
       "      <td>f19421c1d4aa40978ebb69ca19b0e20d</td>\n",
       "      <td>0009655768c64bdeb2e877511632db8f</td>\n",
       "      <td>offer viewed</td>\n",
       "    </tr>\n",
       "  </tbody>\n",
       "</table>\n",
       "</div>"
      ],
      "text/plain": [
       "        time                          offer_id  \\\n",
       "77705    192  5a8bc65990b245e5a138643cd4eb9837   \n",
       "89291    228                               NaN   \n",
       "139992   372  3f207df678b143eea3cee63160fa8bed   \n",
       "168412   414                               NaN   \n",
       "187554   456  f19421c1d4aa40978ebb69ca19b0e20d   \n",
       "\n",
       "                                  person         event  \n",
       "77705   0009655768c64bdeb2e877511632db8f  offer viewed  \n",
       "89291   0009655768c64bdeb2e877511632db8f   transaction  \n",
       "139992  0009655768c64bdeb2e877511632db8f  offer viewed  \n",
       "168412  0009655768c64bdeb2e877511632db8f   transaction  \n",
       "187554  0009655768c64bdeb2e877511632db8f  offer viewed  "
      ]
     },
     "execution_count": 33,
     "metadata": {},
     "output_type": "execute_result"
    }
   ],
   "source": [
    "completed_offer.head()"
   ]
  },
  {
   "cell_type": "code",
   "execution_count": 34,
   "metadata": {},
   "outputs": [],
   "source": [
    "filled_df = completed_offer.groupby(['person']).ffill()\n",
    "completed_offer.update(filled_df)\n",
    "\n",
    " # fill NaN values in the DataFrame or Series.\n",
    " # copy the last valid observation (non-NaN) forward to the next NaN 'cell'"
   ]
  },
  {
   "cell_type": "code",
   "execution_count": 35,
   "metadata": {},
   "outputs": [
    {
     "data": {
      "text/html": [
       "<div>\n",
       "<style scoped>\n",
       "    .dataframe tbody tr th:only-of-type {\n",
       "        vertical-align: middle;\n",
       "    }\n",
       "\n",
       "    .dataframe tbody tr th {\n",
       "        vertical-align: top;\n",
       "    }\n",
       "\n",
       "    .dataframe thead th {\n",
       "        text-align: right;\n",
       "    }\n",
       "</style>\n",
       "<table border=\"1\" class=\"dataframe\">\n",
       "  <thead>\n",
       "    <tr style=\"text-align: right;\">\n",
       "      <th></th>\n",
       "      <th>time</th>\n",
       "      <th>offer_id</th>\n",
       "      <th>person</th>\n",
       "      <th>event</th>\n",
       "    </tr>\n",
       "  </thead>\n",
       "  <tbody>\n",
       "    <tr>\n",
       "      <th>77705</th>\n",
       "      <td>192</td>\n",
       "      <td>5a8bc65990b245e5a138643cd4eb9837</td>\n",
       "      <td>0009655768c64bdeb2e877511632db8f</td>\n",
       "      <td>offer viewed</td>\n",
       "    </tr>\n",
       "    <tr>\n",
       "      <th>89291</th>\n",
       "      <td>228</td>\n",
       "      <td>5a8bc65990b245e5a138643cd4eb9837</td>\n",
       "      <td>0009655768c64bdeb2e877511632db8f</td>\n",
       "      <td>transaction</td>\n",
       "    </tr>\n",
       "    <tr>\n",
       "      <th>139992</th>\n",
       "      <td>372</td>\n",
       "      <td>3f207df678b143eea3cee63160fa8bed</td>\n",
       "      <td>0009655768c64bdeb2e877511632db8f</td>\n",
       "      <td>offer viewed</td>\n",
       "    </tr>\n",
       "    <tr>\n",
       "      <th>168412</th>\n",
       "      <td>414</td>\n",
       "      <td>3f207df678b143eea3cee63160fa8bed</td>\n",
       "      <td>0009655768c64bdeb2e877511632db8f</td>\n",
       "      <td>transaction</td>\n",
       "    </tr>\n",
       "    <tr>\n",
       "      <th>187554</th>\n",
       "      <td>456</td>\n",
       "      <td>f19421c1d4aa40978ebb69ca19b0e20d</td>\n",
       "      <td>0009655768c64bdeb2e877511632db8f</td>\n",
       "      <td>offer viewed</td>\n",
       "    </tr>\n",
       "  </tbody>\n",
       "</table>\n",
       "</div>"
      ],
      "text/plain": [
       "        time                          offer_id  \\\n",
       "77705    192  5a8bc65990b245e5a138643cd4eb9837   \n",
       "89291    228  5a8bc65990b245e5a138643cd4eb9837   \n",
       "139992   372  3f207df678b143eea3cee63160fa8bed   \n",
       "168412   414  3f207df678b143eea3cee63160fa8bed   \n",
       "187554   456  f19421c1d4aa40978ebb69ca19b0e20d   \n",
       "\n",
       "                                  person         event  \n",
       "77705   0009655768c64bdeb2e877511632db8f  offer viewed  \n",
       "89291   0009655768c64bdeb2e877511632db8f   transaction  \n",
       "139992  0009655768c64bdeb2e877511632db8f  offer viewed  \n",
       "168412  0009655768c64bdeb2e877511632db8f   transaction  \n",
       "187554  0009655768c64bdeb2e877511632db8f  offer viewed  "
      ]
     },
     "execution_count": 35,
     "metadata": {},
     "output_type": "execute_result"
    }
   ],
   "source": [
    "assert completed_offer['offer_id'].iloc[1] == '5a8bc65990b245e5a138643cd4eb9837'\n",
    "assert completed_offer['offer_id'].iloc[3] == '3f207df678b143eea3cee63160fa8bed'\n",
    "\n",
    "completed_offer.head()\n",
    "# notice row 89291 and 168412 on column 'offer_id'"
   ]
  },
  {
   "cell_type": "code",
   "execution_count": 36,
   "metadata": {},
   "outputs": [
    {
     "data": {
      "text/html": [
       "<div>\n",
       "<style scoped>\n",
       "    .dataframe tbody tr th:only-of-type {\n",
       "        vertical-align: middle;\n",
       "    }\n",
       "\n",
       "    .dataframe tbody tr th {\n",
       "        vertical-align: top;\n",
       "    }\n",
       "\n",
       "    .dataframe thead th {\n",
       "        text-align: right;\n",
       "    }\n",
       "</style>\n",
       "<table border=\"1\" class=\"dataframe\">\n",
       "  <thead>\n",
       "    <tr style=\"text-align: right;\">\n",
       "      <th></th>\n",
       "      <th>person</th>\n",
       "      <th>event</th>\n",
       "      <th>value</th>\n",
       "      <th>time</th>\n",
       "      <th>amount</th>\n",
       "      <th>offer_id_x</th>\n",
       "      <th>channels</th>\n",
       "      <th>difficulty</th>\n",
       "      <th>duration</th>\n",
       "      <th>offer_type</th>\n",
       "      <th>offer_id_y</th>\n",
       "    </tr>\n",
       "  </thead>\n",
       "  <tbody>\n",
       "    <tr>\n",
       "      <th>0</th>\n",
       "      <td>0009655768c64bdeb2e877511632db8f</td>\n",
       "      <td>offer received</td>\n",
       "      <td>{'offer id': '5a8bc65990b245e5a138643cd4eb9837'}</td>\n",
       "      <td>168</td>\n",
       "      <td>NaN</td>\n",
       "      <td>5a8bc65990b245e5a138643cd4eb9837</td>\n",
       "      <td>[email, mobile, social]</td>\n",
       "      <td>0.0</td>\n",
       "      <td>3.0</td>\n",
       "      <td>informational</td>\n",
       "      <td>NaN</td>\n",
       "    </tr>\n",
       "    <tr>\n",
       "      <th>1</th>\n",
       "      <td>0009655768c64bdeb2e877511632db8f</td>\n",
       "      <td>offer viewed</td>\n",
       "      <td>{'offer id': '5a8bc65990b245e5a138643cd4eb9837'}</td>\n",
       "      <td>192</td>\n",
       "      <td>NaN</td>\n",
       "      <td>5a8bc65990b245e5a138643cd4eb9837</td>\n",
       "      <td>[email, mobile, social]</td>\n",
       "      <td>0.0</td>\n",
       "      <td>3.0</td>\n",
       "      <td>informational</td>\n",
       "      <td>5a8bc65990b245e5a138643cd4eb9837</td>\n",
       "    </tr>\n",
       "    <tr>\n",
       "      <th>2</th>\n",
       "      <td>0009655768c64bdeb2e877511632db8f</td>\n",
       "      <td>transaction</td>\n",
       "      <td>{'amount': 22.16}</td>\n",
       "      <td>228</td>\n",
       "      <td>22.16</td>\n",
       "      <td>NaN</td>\n",
       "      <td>NaN</td>\n",
       "      <td>NaN</td>\n",
       "      <td>NaN</td>\n",
       "      <td>NaN</td>\n",
       "      <td>5a8bc65990b245e5a138643cd4eb9837</td>\n",
       "    </tr>\n",
       "    <tr>\n",
       "      <th>3</th>\n",
       "      <td>0009655768c64bdeb2e877511632db8f</td>\n",
       "      <td>offer received</td>\n",
       "      <td>{'offer id': '3f207df678b143eea3cee63160fa8bed'}</td>\n",
       "      <td>336</td>\n",
       "      <td>NaN</td>\n",
       "      <td>3f207df678b143eea3cee63160fa8bed</td>\n",
       "      <td>[web, email, mobile]</td>\n",
       "      <td>0.0</td>\n",
       "      <td>4.0</td>\n",
       "      <td>informational</td>\n",
       "      <td>NaN</td>\n",
       "    </tr>\n",
       "    <tr>\n",
       "      <th>4</th>\n",
       "      <td>0009655768c64bdeb2e877511632db8f</td>\n",
       "      <td>offer viewed</td>\n",
       "      <td>{'offer id': '3f207df678b143eea3cee63160fa8bed'}</td>\n",
       "      <td>372</td>\n",
       "      <td>NaN</td>\n",
       "      <td>3f207df678b143eea3cee63160fa8bed</td>\n",
       "      <td>[web, email, mobile]</td>\n",
       "      <td>0.0</td>\n",
       "      <td>4.0</td>\n",
       "      <td>informational</td>\n",
       "      <td>3f207df678b143eea3cee63160fa8bed</td>\n",
       "    </tr>\n",
       "  </tbody>\n",
       "</table>\n",
       "</div>"
      ],
      "text/plain": [
       "                             person           event  \\\n",
       "0  0009655768c64bdeb2e877511632db8f  offer received   \n",
       "1  0009655768c64bdeb2e877511632db8f    offer viewed   \n",
       "2  0009655768c64bdeb2e877511632db8f     transaction   \n",
       "3  0009655768c64bdeb2e877511632db8f  offer received   \n",
       "4  0009655768c64bdeb2e877511632db8f    offer viewed   \n",
       "\n",
       "                                              value  time  amount  \\\n",
       "0  {'offer id': '5a8bc65990b245e5a138643cd4eb9837'}   168     NaN   \n",
       "1  {'offer id': '5a8bc65990b245e5a138643cd4eb9837'}   192     NaN   \n",
       "2                                 {'amount': 22.16}   228   22.16   \n",
       "3  {'offer id': '3f207df678b143eea3cee63160fa8bed'}   336     NaN   \n",
       "4  {'offer id': '3f207df678b143eea3cee63160fa8bed'}   372     NaN   \n",
       "\n",
       "                         offer_id_x                 channels  difficulty  \\\n",
       "0  5a8bc65990b245e5a138643cd4eb9837  [email, mobile, social]         0.0   \n",
       "1  5a8bc65990b245e5a138643cd4eb9837  [email, mobile, social]         0.0   \n",
       "2                               NaN                      NaN         NaN   \n",
       "3  3f207df678b143eea3cee63160fa8bed     [web, email, mobile]         0.0   \n",
       "4  3f207df678b143eea3cee63160fa8bed     [web, email, mobile]         0.0   \n",
       "\n",
       "   duration     offer_type                        offer_id_y  \n",
       "0       3.0  informational                               NaN  \n",
       "1       3.0  informational  5a8bc65990b245e5a138643cd4eb9837  \n",
       "2       NaN            NaN  5a8bc65990b245e5a138643cd4eb9837  \n",
       "3       4.0  informational                               NaN  \n",
       "4       4.0  informational  3f207df678b143eea3cee63160fa8bed  "
      ]
     },
     "execution_count": 36,
     "metadata": {},
     "output_type": "execute_result"
    }
   ],
   "source": [
    "# adding the information from 'completed_offer' to 'transcript2' \n",
    "# for each 'person', 'time', and 'event'. \n",
    "# If there is no information for a given 'person', 'time', and 'event' in completed_offer, \n",
    "# the new columns will have NaN values for that row.\n",
    "\n",
    "transcript2 = transcript2.merge(completed_offer, how='left', on=['person','time','event'])\n",
    "transcript2.head()"
   ]
  },
  {
   "cell_type": "markdown",
   "metadata": {},
   "source": [
    "- I still don't undersatnd where did 'offer_id_x' and 'offer_id_y' came from?\n",
    "- So, drop them below"
   ]
  },
  {
   "cell_type": "code",
   "execution_count": 37,
   "metadata": {},
   "outputs": [],
   "source": [
    "# for 'offer_id' column, if 'offer_id_x' is null, \n",
    "# then copy value from 'offer_id_y'\n",
    "# else copy value from 'offer_id_x'\n",
    "\n",
    "transcript2['offer_id'] = np.where(transcript2['offer_id_x'].isnull(),\n",
    "                                            transcript2['offer_id_y'], \n",
    "                                            transcript2['offer_id_x'])\n",
    "\n",
    "# remove columns 'offer_id_x' and 'offer_id_y'\n",
    "transcript2.drop(columns=['offer_id_x','offer_id_y'], axis=1, inplace=True)"
   ]
  },
  {
   "cell_type": "code",
   "execution_count": 38,
   "metadata": {},
   "outputs": [],
   "source": [
    "# taking our 'transcript2' DataFrame and merging it with the 'portfolio' DataFrame.\n",
    "# using 'offer_id' as the common column to match the data.\n",
    "# doing a 'left' merge, so we keep everything from 'transcript2'\n",
    "# and just attach matching data from 'portfolio'. If 'portfolio' doesn't have matching data, \n",
    "# it will show as 'NaN' in those spots.\n",
    "\n",
    "transcript2 = transcript2.merge(portfolio, how = 'left', on='offer_id')"
   ]
  },
  {
   "cell_type": "code",
   "execution_count": 39,
   "metadata": {},
   "outputs": [],
   "source": [
    "# fill NaN values in the 'duration_x' column with values from 'duration_y' column\n",
    "transcript2['duration'] = np.where(transcript2['duration_x'].isnull(),\n",
    "                                            transcript2['duration_y'], \n",
    "                                            transcript2['duration_x'])\n",
    "\n",
    "# drop columns\n",
    "transcript2.drop( columns=['duration_x','offer_type_x','difficulty_x','channels_x','duration_y'],\n",
    "                         axis=1, inplace=True)\n",
    "\n",
    "# rename columns\n",
    "transcript2.rename( columns = {'channels_y':'channels','reward_y':'reward'\n",
    "                                        ,'difficulty_y':'difficulty','offer_type_y':'offer_type'}\n",
    "                            ,inplace=True)"
   ]
  },
  {
   "cell_type": "code",
   "execution_count": 40,
   "metadata": {},
   "outputs": [
    {
     "data": {
      "text/html": [
       "<div>\n",
       "<style scoped>\n",
       "    .dataframe tbody tr th:only-of-type {\n",
       "        vertical-align: middle;\n",
       "    }\n",
       "\n",
       "    .dataframe tbody tr th {\n",
       "        vertical-align: top;\n",
       "    }\n",
       "\n",
       "    .dataframe thead th {\n",
       "        text-align: right;\n",
       "    }\n",
       "</style>\n",
       "<table border=\"1\" class=\"dataframe\">\n",
       "  <thead>\n",
       "    <tr style=\"text-align: right;\">\n",
       "      <th></th>\n",
       "      <th>person</th>\n",
       "      <th>event</th>\n",
       "      <th>value</th>\n",
       "      <th>time</th>\n",
       "      <th>amount</th>\n",
       "      <th>offer_id</th>\n",
       "      <th>reward</th>\n",
       "      <th>channels</th>\n",
       "      <th>difficulty</th>\n",
       "      <th>offer_type</th>\n",
       "      <th>duration</th>\n",
       "    </tr>\n",
       "  </thead>\n",
       "  <tbody>\n",
       "    <tr>\n",
       "      <th>0</th>\n",
       "      <td>0009655768c64bdeb2e877511632db8f</td>\n",
       "      <td>offer received</td>\n",
       "      <td>{'offer id': '5a8bc65990b245e5a138643cd4eb9837'}</td>\n",
       "      <td>168</td>\n",
       "      <td>NaN</td>\n",
       "      <td>5a8bc65990b245e5a138643cd4eb9837</td>\n",
       "      <td>0.0</td>\n",
       "      <td>[email, mobile, social]</td>\n",
       "      <td>0.0</td>\n",
       "      <td>informational</td>\n",
       "      <td>3.0</td>\n",
       "    </tr>\n",
       "    <tr>\n",
       "      <th>1</th>\n",
       "      <td>0009655768c64bdeb2e877511632db8f</td>\n",
       "      <td>offer viewed</td>\n",
       "      <td>{'offer id': '5a8bc65990b245e5a138643cd4eb9837'}</td>\n",
       "      <td>192</td>\n",
       "      <td>NaN</td>\n",
       "      <td>5a8bc65990b245e5a138643cd4eb9837</td>\n",
       "      <td>0.0</td>\n",
       "      <td>[email, mobile, social]</td>\n",
       "      <td>0.0</td>\n",
       "      <td>informational</td>\n",
       "      <td>3.0</td>\n",
       "    </tr>\n",
       "    <tr>\n",
       "      <th>2</th>\n",
       "      <td>0009655768c64bdeb2e877511632db8f</td>\n",
       "      <td>transaction</td>\n",
       "      <td>{'amount': 22.16}</td>\n",
       "      <td>228</td>\n",
       "      <td>22.16</td>\n",
       "      <td>5a8bc65990b245e5a138643cd4eb9837</td>\n",
       "      <td>0.0</td>\n",
       "      <td>[email, mobile, social]</td>\n",
       "      <td>0.0</td>\n",
       "      <td>informational</td>\n",
       "      <td>3.0</td>\n",
       "    </tr>\n",
       "    <tr>\n",
       "      <th>3</th>\n",
       "      <td>0009655768c64bdeb2e877511632db8f</td>\n",
       "      <td>offer received</td>\n",
       "      <td>{'offer id': '3f207df678b143eea3cee63160fa8bed'}</td>\n",
       "      <td>336</td>\n",
       "      <td>NaN</td>\n",
       "      <td>3f207df678b143eea3cee63160fa8bed</td>\n",
       "      <td>0.0</td>\n",
       "      <td>[web, email, mobile]</td>\n",
       "      <td>0.0</td>\n",
       "      <td>informational</td>\n",
       "      <td>4.0</td>\n",
       "    </tr>\n",
       "    <tr>\n",
       "      <th>4</th>\n",
       "      <td>0009655768c64bdeb2e877511632db8f</td>\n",
       "      <td>offer viewed</td>\n",
       "      <td>{'offer id': '3f207df678b143eea3cee63160fa8bed'}</td>\n",
       "      <td>372</td>\n",
       "      <td>NaN</td>\n",
       "      <td>3f207df678b143eea3cee63160fa8bed</td>\n",
       "      <td>0.0</td>\n",
       "      <td>[web, email, mobile]</td>\n",
       "      <td>0.0</td>\n",
       "      <td>informational</td>\n",
       "      <td>4.0</td>\n",
       "    </tr>\n",
       "  </tbody>\n",
       "</table>\n",
       "</div>"
      ],
      "text/plain": [
       "                             person           event  \\\n",
       "0  0009655768c64bdeb2e877511632db8f  offer received   \n",
       "1  0009655768c64bdeb2e877511632db8f    offer viewed   \n",
       "2  0009655768c64bdeb2e877511632db8f     transaction   \n",
       "3  0009655768c64bdeb2e877511632db8f  offer received   \n",
       "4  0009655768c64bdeb2e877511632db8f    offer viewed   \n",
       "\n",
       "                                              value  time  amount  \\\n",
       "0  {'offer id': '5a8bc65990b245e5a138643cd4eb9837'}   168     NaN   \n",
       "1  {'offer id': '5a8bc65990b245e5a138643cd4eb9837'}   192     NaN   \n",
       "2                                 {'amount': 22.16}   228   22.16   \n",
       "3  {'offer id': '3f207df678b143eea3cee63160fa8bed'}   336     NaN   \n",
       "4  {'offer id': '3f207df678b143eea3cee63160fa8bed'}   372     NaN   \n",
       "\n",
       "                           offer_id  reward                 channels  \\\n",
       "0  5a8bc65990b245e5a138643cd4eb9837     0.0  [email, mobile, social]   \n",
       "1  5a8bc65990b245e5a138643cd4eb9837     0.0  [email, mobile, social]   \n",
       "2  5a8bc65990b245e5a138643cd4eb9837     0.0  [email, mobile, social]   \n",
       "3  3f207df678b143eea3cee63160fa8bed     0.0     [web, email, mobile]   \n",
       "4  3f207df678b143eea3cee63160fa8bed     0.0     [web, email, mobile]   \n",
       "\n",
       "   difficulty     offer_type  duration  \n",
       "0         0.0  informational       3.0  \n",
       "1         0.0  informational       3.0  \n",
       "2         0.0  informational       3.0  \n",
       "3         0.0  informational       4.0  \n",
       "4         0.0  informational       4.0  "
      ]
     },
     "execution_count": 40,
     "metadata": {},
     "output_type": "execute_result"
    }
   ],
   "source": [
    "transcript2.head()"
   ]
  },
  {
   "attachments": {},
   "cell_type": "markdown",
   "metadata": {},
   "source": [
    "'Marking' transactions and 'offers completed' event after 'offers viewed' event"
   ]
  },
  {
   "cell_type": "code",
   "execution_count": 41,
   "metadata": {},
   "outputs": [],
   "source": [
    "# making a copy of 'transcript2' dataframe\n",
    "# that only includes rows in the 'event' column that are:\n",
    "events_to_include = ['offer viewed', 'transaction', 'offer completed']\n",
    "transactions_after_viewed = transcript2[transcript2['event'].isin(events_to_include)].copy()\n",
    "\n",
    "\n",
    "# create a column 'pre_offer_id' that contains the 'offer_id' from the previous row\n",
    "# why?\n",
    "# to determine if the 'offer' was completed after the customer viewed the 'offer'\n",
    "transactions_after_viewed['pre_offer_id'] = transactions_after_viewed.groupby(['person', 'offer_id'])['offer_id'].shift()\n",
    "\n",
    "\n",
    "# create a column 'completed_offer' that contains 1 if the 'pre_offer_id' is the same as 'offer_id'\n",
    "# and 0 if 'they' are not the same\n",
    "transactions_after_viewed['completed_offer'] = np.where(\n",
    "    transactions_after_viewed['pre_offer_id'] == transactions_after_viewed['offer_id']\n",
    "    ,1\n",
    "    ,0)"
   ]
  },
  {
   "cell_type": "code",
   "execution_count": 42,
   "metadata": {},
   "outputs": [
    {
     "data": {
      "text/html": [
       "<div>\n",
       "<style scoped>\n",
       "    .dataframe tbody tr th:only-of-type {\n",
       "        vertical-align: middle;\n",
       "    }\n",
       "\n",
       "    .dataframe tbody tr th {\n",
       "        vertical-align: top;\n",
       "    }\n",
       "\n",
       "    .dataframe thead th {\n",
       "        text-align: right;\n",
       "    }\n",
       "</style>\n",
       "<table border=\"1\" class=\"dataframe\">\n",
       "  <thead>\n",
       "    <tr style=\"text-align: right;\">\n",
       "      <th></th>\n",
       "      <th>person</th>\n",
       "      <th>event</th>\n",
       "      <th>value</th>\n",
       "      <th>time</th>\n",
       "      <th>amount</th>\n",
       "      <th>offer_id</th>\n",
       "      <th>reward</th>\n",
       "      <th>channels</th>\n",
       "      <th>difficulty</th>\n",
       "      <th>offer_type</th>\n",
       "      <th>duration</th>\n",
       "      <th>pre_offer_id</th>\n",
       "      <th>completed_offer</th>\n",
       "    </tr>\n",
       "  </thead>\n",
       "  <tbody>\n",
       "    <tr>\n",
       "      <th>1</th>\n",
       "      <td>0009655768c64bdeb2e877511632db8f</td>\n",
       "      <td>offer viewed</td>\n",
       "      <td>{'offer id': '5a8bc65990b245e5a138643cd4eb9837'}</td>\n",
       "      <td>192</td>\n",
       "      <td>NaN</td>\n",
       "      <td>5a8bc65990b245e5a138643cd4eb9837</td>\n",
       "      <td>0.0</td>\n",
       "      <td>[email, mobile, social]</td>\n",
       "      <td>0.0</td>\n",
       "      <td>informational</td>\n",
       "      <td>3.0</td>\n",
       "      <td>NaN</td>\n",
       "      <td>0</td>\n",
       "    </tr>\n",
       "    <tr>\n",
       "      <th>2</th>\n",
       "      <td>0009655768c64bdeb2e877511632db8f</td>\n",
       "      <td>transaction</td>\n",
       "      <td>{'amount': 22.16}</td>\n",
       "      <td>228</td>\n",
       "      <td>22.16</td>\n",
       "      <td>5a8bc65990b245e5a138643cd4eb9837</td>\n",
       "      <td>0.0</td>\n",
       "      <td>[email, mobile, social]</td>\n",
       "      <td>0.0</td>\n",
       "      <td>informational</td>\n",
       "      <td>3.0</td>\n",
       "      <td>5a8bc65990b245e5a138643cd4eb9837</td>\n",
       "      <td>1</td>\n",
       "    </tr>\n",
       "    <tr>\n",
       "      <th>4</th>\n",
       "      <td>0009655768c64bdeb2e877511632db8f</td>\n",
       "      <td>offer viewed</td>\n",
       "      <td>{'offer id': '3f207df678b143eea3cee63160fa8bed'}</td>\n",
       "      <td>372</td>\n",
       "      <td>NaN</td>\n",
       "      <td>3f207df678b143eea3cee63160fa8bed</td>\n",
       "      <td>0.0</td>\n",
       "      <td>[web, email, mobile]</td>\n",
       "      <td>0.0</td>\n",
       "      <td>informational</td>\n",
       "      <td>4.0</td>\n",
       "      <td>NaN</td>\n",
       "      <td>0</td>\n",
       "    </tr>\n",
       "  </tbody>\n",
       "</table>\n",
       "</div>"
      ],
      "text/plain": [
       "                             person         event  \\\n",
       "1  0009655768c64bdeb2e877511632db8f  offer viewed   \n",
       "2  0009655768c64bdeb2e877511632db8f   transaction   \n",
       "4  0009655768c64bdeb2e877511632db8f  offer viewed   \n",
       "\n",
       "                                              value  time  amount  \\\n",
       "1  {'offer id': '5a8bc65990b245e5a138643cd4eb9837'}   192     NaN   \n",
       "2                                 {'amount': 22.16}   228   22.16   \n",
       "4  {'offer id': '3f207df678b143eea3cee63160fa8bed'}   372     NaN   \n",
       "\n",
       "                           offer_id  reward                 channels  \\\n",
       "1  5a8bc65990b245e5a138643cd4eb9837     0.0  [email, mobile, social]   \n",
       "2  5a8bc65990b245e5a138643cd4eb9837     0.0  [email, mobile, social]   \n",
       "4  3f207df678b143eea3cee63160fa8bed     0.0     [web, email, mobile]   \n",
       "\n",
       "   difficulty     offer_type  duration                      pre_offer_id  \\\n",
       "1         0.0  informational       3.0                               NaN   \n",
       "2         0.0  informational       3.0  5a8bc65990b245e5a138643cd4eb9837   \n",
       "4         0.0  informational       4.0                               NaN   \n",
       "\n",
       "   completed_offer  \n",
       "1                0  \n",
       "2                1  \n",
       "4                0  "
      ]
     },
     "execution_count": 42,
     "metadata": {},
     "output_type": "execute_result"
    }
   ],
   "source": [
    "\n",
    "transactions_after_viewed.head(3)"
   ]
  },
  {
   "cell_type": "code",
   "execution_count": 43,
   "metadata": {},
   "outputs": [],
   "source": [
    "# creating a new DataFrame named offer_received from the transcript2 DataFrame. \n",
    "# The new DataFrame includes only the rows where the 'event' column in transcript2 is equal to 'offer received'.\n",
    "offer_received = transcript2[transcript2['event']=='offer received']\n"
   ]
  },
  {
   "cell_type": "code",
   "execution_count": 44,
   "metadata": {},
   "outputs": [],
   "source": [
    "# adding the 'pre_offer_id' and 'completed_offer' columns to the 'offer_received' DataFrame\n",
    "# and prefilled with NaN values.\n",
    "\n",
    "offer_received.loc[ : , ['pre_offer_id', 'completed_offer']] = np.nan \n",
    "# select all rows and columns 'pre_offer_id' and 'completed_offer'"
   ]
  },
  {
   "cell_type": "code",
   "execution_count": 45,
   "metadata": {},
   "outputs": [
    {
     "data": {
      "text/html": [
       "<div>\n",
       "<style scoped>\n",
       "    .dataframe tbody tr th:only-of-type {\n",
       "        vertical-align: middle;\n",
       "    }\n",
       "\n",
       "    .dataframe tbody tr th {\n",
       "        vertical-align: top;\n",
       "    }\n",
       "\n",
       "    .dataframe thead th {\n",
       "        text-align: right;\n",
       "    }\n",
       "</style>\n",
       "<table border=\"1\" class=\"dataframe\">\n",
       "  <thead>\n",
       "    <tr style=\"text-align: right;\">\n",
       "      <th></th>\n",
       "      <th>person</th>\n",
       "      <th>event</th>\n",
       "      <th>value</th>\n",
       "      <th>time</th>\n",
       "      <th>amount</th>\n",
       "      <th>offer_id</th>\n",
       "      <th>reward</th>\n",
       "      <th>channels</th>\n",
       "      <th>difficulty</th>\n",
       "      <th>offer_type</th>\n",
       "      <th>duration</th>\n",
       "      <th>pre_offer_id</th>\n",
       "      <th>completed_offer</th>\n",
       "    </tr>\n",
       "  </thead>\n",
       "  <tbody>\n",
       "    <tr>\n",
       "      <th>0</th>\n",
       "      <td>0009655768c64bdeb2e877511632db8f</td>\n",
       "      <td>offer received</td>\n",
       "      <td>{'offer id': '5a8bc65990b245e5a138643cd4eb9837'}</td>\n",
       "      <td>168</td>\n",
       "      <td>NaN</td>\n",
       "      <td>5a8bc65990b245e5a138643cd4eb9837</td>\n",
       "      <td>0.0</td>\n",
       "      <td>[email, mobile, social]</td>\n",
       "      <td>0.0</td>\n",
       "      <td>informational</td>\n",
       "      <td>3.0</td>\n",
       "      <td>NaN</td>\n",
       "      <td>NaN</td>\n",
       "    </tr>\n",
       "  </tbody>\n",
       "</table>\n",
       "</div>"
      ],
      "text/plain": [
       "                             person           event  \\\n",
       "0  0009655768c64bdeb2e877511632db8f  offer received   \n",
       "\n",
       "                                              value  time  amount  \\\n",
       "0  {'offer id': '5a8bc65990b245e5a138643cd4eb9837'}   168     NaN   \n",
       "\n",
       "                           offer_id  reward                 channels  \\\n",
       "0  5a8bc65990b245e5a138643cd4eb9837     0.0  [email, mobile, social]   \n",
       "\n",
       "   difficulty     offer_type  duration  pre_offer_id  completed_offer  \n",
       "0         0.0  informational       3.0           NaN              NaN  "
      ]
     },
     "execution_count": 45,
     "metadata": {},
     "output_type": "execute_result"
    }
   ],
   "source": [
    "offer_received.head(1)"
   ]
  },
  {
   "cell_type": "code",
   "execution_count": 46,
   "metadata": {},
   "outputs": [],
   "source": [
    "# merging the 'offer_received' and 'transactions_after_viewed' DataFrames\n",
    "# and sorting the rows by 'person' and 'time' columns.\n",
    "transcript2 = pd.concat([offer_received, transactions_after_viewed], axis=0).sort_values(['person','time'])"
   ]
  },
  {
   "cell_type": "code",
   "execution_count": 47,
   "metadata": {},
   "outputs": [
    {
     "data": {
      "text/html": [
       "<div>\n",
       "<style scoped>\n",
       "    .dataframe tbody tr th:only-of-type {\n",
       "        vertical-align: middle;\n",
       "    }\n",
       "\n",
       "    .dataframe tbody tr th {\n",
       "        vertical-align: top;\n",
       "    }\n",
       "\n",
       "    .dataframe thead th {\n",
       "        text-align: right;\n",
       "    }\n",
       "</style>\n",
       "<table border=\"1\" class=\"dataframe\">\n",
       "  <thead>\n",
       "    <tr style=\"text-align: right;\">\n",
       "      <th></th>\n",
       "      <th>person</th>\n",
       "      <th>event</th>\n",
       "      <th>value</th>\n",
       "      <th>time</th>\n",
       "      <th>amount</th>\n",
       "      <th>offer_id</th>\n",
       "      <th>reward</th>\n",
       "      <th>channels</th>\n",
       "      <th>difficulty</th>\n",
       "      <th>offer_type</th>\n",
       "      <th>duration</th>\n",
       "      <th>pre_offer_id</th>\n",
       "      <th>completed_offer</th>\n",
       "    </tr>\n",
       "  </thead>\n",
       "  <tbody>\n",
       "    <tr>\n",
       "      <th>0</th>\n",
       "      <td>0009655768c64bdeb2e877511632db8f</td>\n",
       "      <td>offer received</td>\n",
       "      <td>{'offer id': '5a8bc65990b245e5a138643cd4eb9837'}</td>\n",
       "      <td>168</td>\n",
       "      <td>NaN</td>\n",
       "      <td>5a8bc65990b245e5a138643cd4eb9837</td>\n",
       "      <td>0.0</td>\n",
       "      <td>[email, mobile, social]</td>\n",
       "      <td>0.0</td>\n",
       "      <td>informational</td>\n",
       "      <td>3.0</td>\n",
       "      <td>NaN</td>\n",
       "      <td>NaN</td>\n",
       "    </tr>\n",
       "    <tr>\n",
       "      <th>1</th>\n",
       "      <td>0009655768c64bdeb2e877511632db8f</td>\n",
       "      <td>offer viewed</td>\n",
       "      <td>{'offer id': '5a8bc65990b245e5a138643cd4eb9837'}</td>\n",
       "      <td>192</td>\n",
       "      <td>NaN</td>\n",
       "      <td>5a8bc65990b245e5a138643cd4eb9837</td>\n",
       "      <td>0.0</td>\n",
       "      <td>[email, mobile, social]</td>\n",
       "      <td>0.0</td>\n",
       "      <td>informational</td>\n",
       "      <td>3.0</td>\n",
       "      <td>NaN</td>\n",
       "      <td>0.0</td>\n",
       "    </tr>\n",
       "  </tbody>\n",
       "</table>\n",
       "</div>"
      ],
      "text/plain": [
       "                             person           event  \\\n",
       "0  0009655768c64bdeb2e877511632db8f  offer received   \n",
       "1  0009655768c64bdeb2e877511632db8f    offer viewed   \n",
       "\n",
       "                                              value  time  amount  \\\n",
       "0  {'offer id': '5a8bc65990b245e5a138643cd4eb9837'}   168     NaN   \n",
       "1  {'offer id': '5a8bc65990b245e5a138643cd4eb9837'}   192     NaN   \n",
       "\n",
       "                           offer_id  reward                 channels  \\\n",
       "0  5a8bc65990b245e5a138643cd4eb9837     0.0  [email, mobile, social]   \n",
       "1  5a8bc65990b245e5a138643cd4eb9837     0.0  [email, mobile, social]   \n",
       "\n",
       "   difficulty     offer_type  duration pre_offer_id  completed_offer  \n",
       "0         0.0  informational       3.0          NaN              NaN  \n",
       "1         0.0  informational       3.0          NaN              0.0  "
      ]
     },
     "execution_count": 47,
     "metadata": {},
     "output_type": "execute_result"
    }
   ],
   "source": [
    "transcript2.head(2)"
   ]
  },
  {
   "cell_type": "code",
   "execution_count": 48,
   "metadata": {},
   "outputs": [],
   "source": [
    "# making 2 new DataFrames from the 'transcript2' DataFrame\n",
    "# each dataframe contains only rows where 'offer_type' is 'bogo' or 'discount'\n",
    "bogo_only1 = transcript2[transcript2['offer_type']=='bogo'].copy()\n",
    "discount_only1 = transcript2[transcript2['offer_type']=='discount'].copy()"
   ]
  },
  {
   "cell_type": "code",
   "execution_count": 49,
   "metadata": {},
   "outputs": [
    {
     "data": {
      "text/html": [
       "<div>\n",
       "<style scoped>\n",
       "    .dataframe tbody tr th:only-of-type {\n",
       "        vertical-align: middle;\n",
       "    }\n",
       "\n",
       "    .dataframe tbody tr th {\n",
       "        vertical-align: top;\n",
       "    }\n",
       "\n",
       "    .dataframe thead th {\n",
       "        text-align: right;\n",
       "    }\n",
       "</style>\n",
       "<table border=\"1\" class=\"dataframe\">\n",
       "  <thead>\n",
       "    <tr style=\"text-align: right;\">\n",
       "      <th></th>\n",
       "      <th>person</th>\n",
       "      <th>event</th>\n",
       "      <th>value</th>\n",
       "      <th>time</th>\n",
       "      <th>amount</th>\n",
       "      <th>offer_id</th>\n",
       "      <th>reward</th>\n",
       "      <th>channels</th>\n",
       "      <th>difficulty</th>\n",
       "      <th>offer_type</th>\n",
       "      <th>duration</th>\n",
       "      <th>pre_offer_id</th>\n",
       "      <th>completed_offer</th>\n",
       "    </tr>\n",
       "  </thead>\n",
       "  <tbody>\n",
       "    <tr>\n",
       "      <th>9</th>\n",
       "      <td>0009655768c64bdeb2e877511632db8f</td>\n",
       "      <td>offer received</td>\n",
       "      <td>{'offer id': 'fafdcd668e3743c1bb461111dcafc2a4'}</td>\n",
       "      <td>504</td>\n",
       "      <td>NaN</td>\n",
       "      <td>fafdcd668e3743c1bb461111dcafc2a4</td>\n",
       "      <td>2.0</td>\n",
       "      <td>[web, email, mobile, social]</td>\n",
       "      <td>10.0</td>\n",
       "      <td>discount</td>\n",
       "      <td>10.0</td>\n",
       "      <td>NaN</td>\n",
       "      <td>NaN</td>\n",
       "    </tr>\n",
       "    <tr>\n",
       "      <th>11</th>\n",
       "      <td>0009655768c64bdeb2e877511632db8f</td>\n",
       "      <td>offer completed</td>\n",
       "      <td>{'offer_id': 'fafdcd668e3743c1bb461111dcafc2a4...</td>\n",
       "      <td>528</td>\n",
       "      <td>NaN</td>\n",
       "      <td>fafdcd668e3743c1bb461111dcafc2a4</td>\n",
       "      <td>2.0</td>\n",
       "      <td>[web, email, mobile, social]</td>\n",
       "      <td>10.0</td>\n",
       "      <td>discount</td>\n",
       "      <td>10.0</td>\n",
       "      <td>NaN</td>\n",
       "      <td>0.0</td>\n",
       "    </tr>\n",
       "  </tbody>\n",
       "</table>\n",
       "</div>"
      ],
      "text/plain": [
       "                              person            event  \\\n",
       "9   0009655768c64bdeb2e877511632db8f   offer received   \n",
       "11  0009655768c64bdeb2e877511632db8f  offer completed   \n",
       "\n",
       "                                                value  time  amount  \\\n",
       "9    {'offer id': 'fafdcd668e3743c1bb461111dcafc2a4'}   504     NaN   \n",
       "11  {'offer_id': 'fafdcd668e3743c1bb461111dcafc2a4...   528     NaN   \n",
       "\n",
       "                            offer_id  reward                      channels  \\\n",
       "9   fafdcd668e3743c1bb461111dcafc2a4     2.0  [web, email, mobile, social]   \n",
       "11  fafdcd668e3743c1bb461111dcafc2a4     2.0  [web, email, mobile, social]   \n",
       "\n",
       "    difficulty offer_type  duration pre_offer_id  completed_offer  \n",
       "9         10.0   discount      10.0          NaN              NaN  \n",
       "11        10.0   discount      10.0          NaN              0.0  "
      ]
     },
     "execution_count": 49,
     "metadata": {},
     "output_type": "execute_result"
    }
   ],
   "source": [
    "bogo_only1.head(2) # bogo offers only\n",
    "discount_only1.head(2) # discount offers only"
   ]
  },
  {
   "cell_type": "markdown",
   "metadata": {},
   "source": [
    "We define a 'success event' as:\n",
    "- 'offer viewed' -> 'transaction'\\\n",
    "or \n",
    "- 'offer viewed' -> 'offer completed'\n",
    "\n",
    "'success event' will be 'marked' as 1 on the 'valid_completed' column\n",
    "\n",
    "For BOGO (buy one get one) and 'discount' promotions, a 'success event' is considered as:\n",
    "- 'offer viewed' -> 'offer completed'"
   ]
  },
  {
   "cell_type": "code",
   "execution_count": 50,
   "metadata": {},
   "outputs": [],
   "source": [
    "# Filter 'bogo' DataFrame for completed offers\n",
    "completed_offers = bogo_only1[ (bogo_only1['completed_offer'] == 1) & (bogo_only1['event'] == 'offer completed') ]\n",
    "\n",
    "# Group by 'person' and 'offer_id' and count the occurrences\n",
    "grouped_offers = completed_offers[['person', 'offer_id']].groupby(['person', 'offer_id']).count()\n",
    "\n",
    "# Reset index of the DataFrame\n",
    "bogo_completed = grouped_offers.reset_index()\n",
    "\n",
    "##############################################################################################################\n",
    "##############################################################################################################\n",
    "\n",
    "# Filter 'discount' DataFrame for completed offers\n",
    "completed_discount_offers = discount_only1[(discount_only1['completed_offer'] == 1) & (discount_only1['event'] == 'offer completed')]\n",
    "\n",
    "# Group by 'person' and 'offer_id' and count the occurrences\n",
    "grouped_discount_offers = completed_discount_offers[['person', 'offer_id']].groupby(['person', 'offer_id']).count()\n",
    "\n",
    "# Reset index of the DataFrame\n",
    "discount_completed = grouped_discount_offers.reset_index()\n"
   ]
  },
  {
   "cell_type": "code",
   "execution_count": 51,
   "metadata": {},
   "outputs": [
    {
     "data": {
      "text/html": [
       "<div>\n",
       "<style scoped>\n",
       "    .dataframe tbody tr th:only-of-type {\n",
       "        vertical-align: middle;\n",
       "    }\n",
       "\n",
       "    .dataframe tbody tr th {\n",
       "        vertical-align: top;\n",
       "    }\n",
       "\n",
       "    .dataframe thead th {\n",
       "        text-align: right;\n",
       "    }\n",
       "</style>\n",
       "<table border=\"1\" class=\"dataframe\">\n",
       "  <thead>\n",
       "    <tr style=\"text-align: right;\">\n",
       "      <th></th>\n",
       "      <th></th>\n",
       "    </tr>\n",
       "    <tr>\n",
       "      <th>person</th>\n",
       "      <th>offer_id</th>\n",
       "    </tr>\n",
       "  </thead>\n",
       "  <tbody>\n",
       "    <tr>\n",
       "      <th rowspan=\"2\" valign=\"top\">0011e0d4e6b944f998e987f904e8c1e5</th>\n",
       "      <th>0b1e1539f2cc45b7b9fa7c272da2e1d7</th>\n",
       "    </tr>\n",
       "    <tr>\n",
       "      <th>2298d6c36e964ae4a3e7e9706d1fb8c2</th>\n",
       "    </tr>\n",
       "    <tr>\n",
       "      <th>0020c2b971eb4e9188eac86d93036a77</th>\n",
       "      <th>fafdcd668e3743c1bb461111dcafc2a4</th>\n",
       "    </tr>\n",
       "    <tr>\n",
       "      <th>0020ccbbb6d84e358d3414a3ff76cffd</th>\n",
       "      <th>2298d6c36e964ae4a3e7e9706d1fb8c2</th>\n",
       "    </tr>\n",
       "    <tr>\n",
       "      <th>003d66b6608740288d6cc97a6903f4f0</th>\n",
       "      <th>fafdcd668e3743c1bb461111dcafc2a4</th>\n",
       "    </tr>\n",
       "  </tbody>\n",
       "</table>\n",
       "</div>"
      ],
      "text/plain": [
       "Empty DataFrame\n",
       "Columns: []\n",
       "Index: [(0011e0d4e6b944f998e987f904e8c1e5, 0b1e1539f2cc45b7b9fa7c272da2e1d7), (0011e0d4e6b944f998e987f904e8c1e5, 2298d6c36e964ae4a3e7e9706d1fb8c2), (0020c2b971eb4e9188eac86d93036a77, fafdcd668e3743c1bb461111dcafc2a4), (0020ccbbb6d84e358d3414a3ff76cffd, 2298d6c36e964ae4a3e7e9706d1fb8c2), (003d66b6608740288d6cc97a6903f4f0, fafdcd668e3743c1bb461111dcafc2a4)]"
      ]
     },
     "execution_count": 51,
     "metadata": {},
     "output_type": "execute_result"
    }
   ],
   "source": [
    "grouped_discount_offers.head()"
   ]
  },
  {
   "cell_type": "code",
   "execution_count": 52,
   "metadata": {},
   "outputs": [],
   "source": [
    "def detect_non_complete_event(df):\n",
    "\n",
    "    # Select rows where an offer has led to a transaction or has been completed\n",
    "    completed_offers = df[['person','offer_id']][(df['event']=='transaction') | (df['event']=='offer completed') ]\\\n",
    "            .groupby(['person','offer_id'])\\\n",
    "            .count()\\\n",
    "            .reset_index()\n",
    "    \n",
    "\n",
    "    # Select rows where an offer has been received \n",
    "    received_offers_only = df[['person','offer_id']][df['event']=='offer received']\\\n",
    "        .groupby(['person','offer_id'])\\\n",
    "        .count()\\\n",
    "        .reset_index()\n",
    "\n",
    "    # Merge the two DataFrames on 'person' and 'offer_id'\n",
    "    output1 = completed_offers.merge( received_offers_only, how='right', on=['person','offer_id'], indicator=True )\n",
    "\n",
    "    return output1\n"
   ]
  },
  {
   "cell_type": "markdown",
   "metadata": {},
   "source": [
    "\n",
    "- If you see 'left_only', it means **non-complete event*** the event was just the offer being received.\n",
    "- If you see *'right_only'*, it means **complete event** (either a transaction or offer completed). THIS IS WHAT YOU WANT"
   ]
  },
  {
   "cell_type": "code",
   "execution_count": 53,
   "metadata": {},
   "outputs": [
    {
     "data": {
      "image/png": "[encoded data removed]",
      "text/plain": [
       "<Figure size 1000x500 with 2 Axes>"
      ]
     },
     "metadata": {},
     "output_type": "display_data"
    }
   ],
   "source": [
    "# Counting BOGO offers\n",
    "bogo_results1 = detect_non_complete_event(bogo_only1)\n",
    "\n",
    "# Counting Discount offers\n",
    "discount_results1 = detect_non_complete_event(discount_only1)\n",
    "\n",
    "# make 2 plots side by side\n",
    "fig, (ax1, ax2) = plt.subplots(1, 2, figsize=(10,5))\n",
    "\n",
    "# plot 1\n",
    "bogo_results1['_merge'].value_counts().plot(kind='bar', title='BOGO Offers Count', ax=ax1)\n",
    "\n",
    "# plot 2\n",
    "discount_results1['_merge'].value_counts().plot(kind='bar', title='Discount Offers Count', ax=ax2)\n",
    "\n",
    "# show plots\n",
    "plt.show()"
   ]
  },
  {
   "cell_type": "markdown",
   "metadata": {},
   "source": [
    "Seperating 'complete event' vs 'non-complete event'"
   ]
  },
  {
   "cell_type": "code",
   "execution_count": 54,
   "metadata": {},
   "outputs": [],
   "source": [
    "# make a new dataframe that contains only rows where the '_merge' column is equal to 'right_only'\n",
    "rightonly_bogo = bogo_results1[bogo_results1['_merge'] == 'right_only']\n",
    "\n",
    "# merge the 'rightonly_bogo' DataFrame with the 'transcript2' DataFrame\n",
    "rightonly_bogo  = rightonly_bogo.merge(transcript2, how='left',on=['person','offer_id'] )\n",
    "\n",
    "not_eff_bogo = rightonly_bogo[['person','offer_id']][rightonly_bogo['event'] == 'offer viewed']\\\n",
    "    .groupby(['person','offer_id'])\\\n",
    "    .count()\\\n",
    "    .reset_index()\n",
    "\n",
    "# dropping the '_merge' column\n",
    "rightonly_bogo.drop(['_merge'], axis=1, inplace=True)"
   ]
  },
  {
   "cell_type": "markdown",
   "metadata": {},
   "source": [
    "Seperating out customers with only the 'offer received' event for 'discount' promotions"
   ]
  },
  {
   "cell_type": "code",
   "execution_count": 55,
   "metadata": {},
   "outputs": [],
   "source": [
    "# subtract the customers who received the offer without finishing the transaction\n",
    "rightonly_discount = discount_results1[discount_results1['_merge']=='right_only']\n",
    "rightonly_discount = rightonly_discount.merge(transcript2, how='left',on=['person','offer_id'])\n",
    "\n",
    "# subset users who only viewed the offer and people who viewed the offer but didn't make transaction\n",
    "not_eff_discount = rightonly_discount[['person','offer_id']][rightonly_discount['event']=='offer viewed']\\\n",
    "                .groupby(['person','offer_id']).count().reset_index()\n",
    "rightonly_discount.drop(['_merge'], axis=1, inplace=True)\n",
    "\n"
   ]
  },
  {
   "attachments": {},
   "cell_type": "markdown",
   "metadata": {},
   "source": [
    "below we seperate customer that has 'complete' offers but did NOT have an\\\n",
    "'offer view' event before the 'complete'"
   ]
  },
  {
   "cell_type": "code",
   "execution_count": 56,
   "metadata": {},
   "outputs": [],
   "source": [
    "##############################################################################################################\n",
    "# couting the number of customers who made a 'transaction' without viewing the offer\n",
    "# 'effect offer type 2'\n",
    "# for 'bogo' offers\n",
    "\n",
    "# Filter the DataFrame to include only rows where the 'event' is 'offer completed' and 'completed_offer' is not 1\n",
    "bogo_completed_filter = (bogo_only1['event'] == 'offer completed') & (bogo_only1['completed_offer'] != 1)\n",
    "\n",
    "# Apply the filter to select only relevant 'person' and 'offer_id' pairs\n",
    "bogo_filtered = bogo_only1[bogo_completed_filter][['person', 'offer_id']]\n",
    "\n",
    "# Group by 'person' and 'offer_id' and count the number of occurrences, then reset the index\n",
    "bogoEffv2 = bogo_filtered.groupby(['person', 'offer_id']).count().reset_index()\n",
    "# 'effect offer type 2' for 'bogo' where customer buy without viewing the offer\n",
    "\n",
    "\n",
    "##############################################################################################################\n",
    "# couting the number of customers who made a 'transaction' without viewing the offer\n",
    "# 'effect offer type 2'\n",
    "# for 'discount' offers\n",
    "\n",
    "# Filter the DataFrame to select only rows where 'event' is 'offer completed' and 'completed_offer' is not 1\n",
    "discount_completed_filter = (discount_only1['event'] == 'offer completed') & (discount_only1['completed_offer'] != 1)\n",
    "\n",
    "# Apply the filter to the DataFrame to select only 'person' and 'offer_id' columns\n",
    "discount_filtered = discount_only1[discount_completed_filter][['person', 'offer_id']]\n",
    "\n",
    "# Group by 'person' and 'offer_id', count the occurrences, and reset the index\n",
    "discountEffv2 = discount_filtered.groupby(['person', 'offer_id']).count().reset_index()\n",
    "# 'effect offer type 2' for 'discount' where customer buy without viewing the offer\n",
    "\n"
   ]
  },
  {
   "cell_type": "code",
   "execution_count": 57,
   "metadata": {},
   "outputs": [
    {
     "data": {
      "text/html": [
       "<div>\n",
       "<style scoped>\n",
       "    .dataframe tbody tr th:only-of-type {\n",
       "        vertical-align: middle;\n",
       "    }\n",
       "\n",
       "    .dataframe tbody tr th {\n",
       "        vertical-align: top;\n",
       "    }\n",
       "\n",
       "    .dataframe thead th {\n",
       "        text-align: right;\n",
       "    }\n",
       "</style>\n",
       "<table border=\"1\" class=\"dataframe\">\n",
       "  <thead>\n",
       "    <tr style=\"text-align: right;\">\n",
       "      <th></th>\n",
       "      <th>person</th>\n",
       "      <th>offer_id</th>\n",
       "    </tr>\n",
       "  </thead>\n",
       "  <tbody>\n",
       "    <tr>\n",
       "      <th>0</th>\n",
       "      <td>0009655768c64bdeb2e877511632db8f</td>\n",
       "      <td>2906b810c7d4411798c6938adc9daaa5</td>\n",
       "    </tr>\n",
       "    <tr>\n",
       "      <th>1</th>\n",
       "      <td>0009655768c64bdeb2e877511632db8f</td>\n",
       "      <td>fafdcd668e3743c1bb461111dcafc2a4</td>\n",
       "    </tr>\n",
       "    <tr>\n",
       "      <th>2</th>\n",
       "      <td>003d66b6608740288d6cc97a6903f4f0</td>\n",
       "      <td>0b1e1539f2cc45b7b9fa7c272da2e1d7</td>\n",
       "    </tr>\n",
       "    <tr>\n",
       "      <th>3</th>\n",
       "      <td>0056df74b63b4298809f0b375a304cf4</td>\n",
       "      <td>0b1e1539f2cc45b7b9fa7c272da2e1d7</td>\n",
       "    </tr>\n",
       "    <tr>\n",
       "      <th>4</th>\n",
       "      <td>0056df74b63b4298809f0b375a304cf4</td>\n",
       "      <td>2298d6c36e964ae4a3e7e9706d1fb8c2</td>\n",
       "    </tr>\n",
       "  </tbody>\n",
       "</table>\n",
       "</div>"
      ],
      "text/plain": [
       "                             person                          offer_id\n",
       "0  0009655768c64bdeb2e877511632db8f  2906b810c7d4411798c6938adc9daaa5\n",
       "1  0009655768c64bdeb2e877511632db8f  fafdcd668e3743c1bb461111dcafc2a4\n",
       "2  003d66b6608740288d6cc97a6903f4f0  0b1e1539f2cc45b7b9fa7c272da2e1d7\n",
       "3  0056df74b63b4298809f0b375a304cf4  0b1e1539f2cc45b7b9fa7c272da2e1d7\n",
       "4  0056df74b63b4298809f0b375a304cf4  2298d6c36e964ae4a3e7e9706d1fb8c2"
      ]
     },
     "execution_count": 57,
     "metadata": {},
     "output_type": "execute_result"
    }
   ],
   "source": [
    "assert discountEffv2.shape == (4458, 2)\n",
    "assert discountEffv2['person'].iloc[0] == '0009655768c64bdeb2e877511632db8f'\n",
    "assert discountEffv2['offer_id'].iloc[0] == '2906b810c7d4411798c6938adc9daaa5'\n",
    "\n",
    "discountEffv2.head()"
   ]
  },
  {
   "attachments": {},
   "cell_type": "markdown",
   "metadata": {},
   "source": [
    "- 'target variable' *effective_offer=1*\n",
    "- people who 'completed' offers with or without 'viewing an offer' first\n",
    "\n",
    "- 'target variable' *effective_offer=0* \n",
    "- people who DID NOT 'completed' any offers "
   ]
  },
  {
   "cell_type": "code",
   "execution_count": 58,
   "metadata": {},
   "outputs": [],
   "source": [
    "# function for combining 2 'dataframes' and 'effect_offer' column\n",
    "def combine_add_eff_col(asdf1,asdf2):\n",
    "\n",
    "    # add column 'effective_offer' to both datasets\n",
    "    asdf1['effective_offer'] = 1 # good \n",
    "    asdf2['effective_offer'] = 0 # bad\n",
    "\n",
    "    # combine both datasets\n",
    "    offers=pd.concat([asdf1,asdf2], sort=False)\n",
    "    \n",
    "    return offers"
   ]
  },
  {
   "cell_type": "code",
   "execution_count": 59,
   "metadata": {},
   "outputs": [],
   "source": [
    "offers_bogo = combine_add_eff_col(bogo_completed, not_eff_bogo)\n",
    "offers_discount = combine_add_eff_col(discount_completed, not_eff_discount)"
   ]
  },
  {
   "cell_type": "code",
   "execution_count": 60,
   "metadata": {},
   "outputs": [
    {
     "data": {
      "text/html": [
       "<div>\n",
       "<style scoped>\n",
       "    .dataframe tbody tr th:only-of-type {\n",
       "        vertical-align: middle;\n",
       "    }\n",
       "\n",
       "    .dataframe tbody tr th {\n",
       "        vertical-align: top;\n",
       "    }\n",
       "\n",
       "    .dataframe thead th {\n",
       "        text-align: right;\n",
       "    }\n",
       "</style>\n",
       "<table border=\"1\" class=\"dataframe\">\n",
       "  <thead>\n",
       "    <tr style=\"text-align: right;\">\n",
       "      <th></th>\n",
       "      <th>person</th>\n",
       "      <th>offer_id</th>\n",
       "      <th>effective_offer</th>\n",
       "    </tr>\n",
       "  </thead>\n",
       "  <tbody>\n",
       "    <tr>\n",
       "      <th>0</th>\n",
       "      <td>0011e0d4e6b944f998e987f904e8c1e5</td>\n",
       "      <td>9b98b8c7a33c4b65b9aebfe6a799e6d9</td>\n",
       "      <td>1</td>\n",
       "    </tr>\n",
       "    <tr>\n",
       "      <th>1</th>\n",
       "      <td>0020c2b971eb4e9188eac86d93036a77</td>\n",
       "      <td>4d5c57ea9a6940dd891ad53e9dbe8da0</td>\n",
       "      <td>1</td>\n",
       "    </tr>\n",
       "    <tr>\n",
       "      <th>2</th>\n",
       "      <td>0020ccbbb6d84e358d3414a3ff76cffd</td>\n",
       "      <td>9b98b8c7a33c4b65b9aebfe6a799e6d9</td>\n",
       "      <td>1</td>\n",
       "    </tr>\n",
       "    <tr>\n",
       "      <th>3</th>\n",
       "      <td>0020ccbbb6d84e358d3414a3ff76cffd</td>\n",
       "      <td>f19421c1d4aa40978ebb69ca19b0e20d</td>\n",
       "      <td>1</td>\n",
       "    </tr>\n",
       "    <tr>\n",
       "      <th>4</th>\n",
       "      <td>004b041fbfe44859945daa2c7f79ee64</td>\n",
       "      <td>f19421c1d4aa40978ebb69ca19b0e20d</td>\n",
       "      <td>1</td>\n",
       "    </tr>\n",
       "    <tr>\n",
       "      <th>...</th>\n",
       "      <td>...</td>\n",
       "      <td>...</td>\n",
       "      <td>...</td>\n",
       "    </tr>\n",
       "    <tr>\n",
       "      <th>2887</th>\n",
       "      <td>ffda4545e7084ff6aaf01304fb1c1fa6</td>\n",
       "      <td>f19421c1d4aa40978ebb69ca19b0e20d</td>\n",
       "      <td>0</td>\n",
       "    </tr>\n",
       "    <tr>\n",
       "      <th>2888</th>\n",
       "      <td>ffed75d3abc64b488982f50ed12878b5</td>\n",
       "      <td>4d5c57ea9a6940dd891ad53e9dbe8da0</td>\n",
       "      <td>0</td>\n",
       "    </tr>\n",
       "    <tr>\n",
       "      <th>2889</th>\n",
       "      <td>ffed75d3abc64b488982f50ed12878b5</td>\n",
       "      <td>ae264e3637204a6fb9bb56bc8210ddfd</td>\n",
       "      <td>0</td>\n",
       "    </tr>\n",
       "    <tr>\n",
       "      <th>2890</th>\n",
       "      <td>fff7576017104bcc8677a8d63322b5e1</td>\n",
       "      <td>ae264e3637204a6fb9bb56bc8210ddfd</td>\n",
       "      <td>0</td>\n",
       "    </tr>\n",
       "    <tr>\n",
       "      <th>2891</th>\n",
       "      <td>fff8957ea8b240a6b5e634b6ee8eafcf</td>\n",
       "      <td>4d5c57ea9a6940dd891ad53e9dbe8da0</td>\n",
       "      <td>0</td>\n",
       "    </tr>\n",
       "  </tbody>\n",
       "</table>\n",
       "<p>13148 rows × 3 columns</p>\n",
       "</div>"
      ],
      "text/plain": [
       "                                person                          offer_id  \\\n",
       "0     0011e0d4e6b944f998e987f904e8c1e5  9b98b8c7a33c4b65b9aebfe6a799e6d9   \n",
       "1     0020c2b971eb4e9188eac86d93036a77  4d5c57ea9a6940dd891ad53e9dbe8da0   \n",
       "2     0020ccbbb6d84e358d3414a3ff76cffd  9b98b8c7a33c4b65b9aebfe6a799e6d9   \n",
       "3     0020ccbbb6d84e358d3414a3ff76cffd  f19421c1d4aa40978ebb69ca19b0e20d   \n",
       "4     004b041fbfe44859945daa2c7f79ee64  f19421c1d4aa40978ebb69ca19b0e20d   \n",
       "...                                ...                               ...   \n",
       "2887  ffda4545e7084ff6aaf01304fb1c1fa6  f19421c1d4aa40978ebb69ca19b0e20d   \n",
       "2888  ffed75d3abc64b488982f50ed12878b5  4d5c57ea9a6940dd891ad53e9dbe8da0   \n",
       "2889  ffed75d3abc64b488982f50ed12878b5  ae264e3637204a6fb9bb56bc8210ddfd   \n",
       "2890  fff7576017104bcc8677a8d63322b5e1  ae264e3637204a6fb9bb56bc8210ddfd   \n",
       "2891  fff8957ea8b240a6b5e634b6ee8eafcf  4d5c57ea9a6940dd891ad53e9dbe8da0   \n",
       "\n",
       "      effective_offer  \n",
       "0                   1  \n",
       "1                   1  \n",
       "2                   1  \n",
       "3                   1  \n",
       "4                   1  \n",
       "...               ...  \n",
       "2887                0  \n",
       "2888                0  \n",
       "2889                0  \n",
       "2890                0  \n",
       "2891                0  \n",
       "\n",
       "[13148 rows x 3 columns]"
      ]
     },
     "execution_count": 60,
     "metadata": {},
     "output_type": "execute_result"
    }
   ],
   "source": [
    "offers_bogo"
   ]
  },
  {
   "cell_type": "code",
   "execution_count": 61,
   "metadata": {},
   "outputs": [],
   "source": [
    "assert offers_discount['person'].iloc[0] == '0011e0d4e6b944f998e987f904e8c1e5'\n",
    "# 0011e0d4e6b944f998e987f904e8c1e5"
   ]
  },
  {
   "cell_type": "markdown",
   "metadata": {},
   "source": [
    "Done with 'combining and processing data'"
   ]
  },
  {
   "attachments": {},
   "cell_type": "markdown",
   "metadata": {},
   "source": [
    "# Engineering the 'features' for machine learning 'model'"
   ]
  },
  {
   "cell_type": "markdown",
   "metadata": {},
   "source": [
    "we are converting the 'become_member_on' column to a 'length of time' format"
   ]
  },
  {
   "cell_type": "code",
   "execution_count": 62,
   "metadata": {},
   "outputs": [],
   "source": [
    "# rename the 'id' column to 'person'\n",
    "profile.rename(columns={'id':'person'},inplace=True)"
   ]
  },
  {
   "cell_type": "code",
   "execution_count": 63,
   "metadata": {},
   "outputs": [],
   "source": [
    "# function for converting the 'became_member_on' column \n",
    "# to datetime and calculating the number of days since the customer became a member\n",
    "def member_since(df):\n",
    "\n",
    "\n",
    "    df=df.merge(profile,how='left',on='person')\n",
    "    \n",
    "    df['became_member_on'] = pd.to_datetime(df['became_member_on'], format='%Y%m%d')\n",
    "    \n",
    "    ### we are using 2018 because it is the LASTEST year in the dataset\n",
    "    reference_date = pd.Timestamp(year=2018, month=12, day=31)  # adjust as necessary\n",
    "\n",
    "    df['membership_days'] = (reference_date - df['became_member_on']).dt.days\n",
    "\n",
    "    df = df.drop('became_member_on', axis=1, inplace=False)\n",
    "\n",
    "    return df"
   ]
  },
  {
   "cell_type": "code",
   "execution_count": 64,
   "metadata": {},
   "outputs": [],
   "source": [
    "offers_bogo=member_since(offers_bogo)\n",
    "offers_discount=member_since(offers_discount)"
   ]
  },
  {
   "cell_type": "code",
   "execution_count": 65,
   "metadata": {},
   "outputs": [
    {
     "data": {
      "text/html": [
       "<div>\n",
       "<style scoped>\n",
       "    .dataframe tbody tr th:only-of-type {\n",
       "        vertical-align: middle;\n",
       "    }\n",
       "\n",
       "    .dataframe tbody tr th {\n",
       "        vertical-align: top;\n",
       "    }\n",
       "\n",
       "    .dataframe thead th {\n",
       "        text-align: right;\n",
       "    }\n",
       "</style>\n",
       "<table border=\"1\" class=\"dataframe\">\n",
       "  <thead>\n",
       "    <tr style=\"text-align: right;\">\n",
       "      <th></th>\n",
       "      <th>person</th>\n",
       "      <th>offer_id</th>\n",
       "      <th>effective_offer</th>\n",
       "      <th>gender</th>\n",
       "      <th>age</th>\n",
       "      <th>income</th>\n",
       "      <th>membership_days</th>\n",
       "    </tr>\n",
       "  </thead>\n",
       "  <tbody>\n",
       "    <tr>\n",
       "      <th>0</th>\n",
       "      <td>0011e0d4e6b944f998e987f904e8c1e5</td>\n",
       "      <td>9b98b8c7a33c4b65b9aebfe6a799e6d9</td>\n",
       "      <td>1</td>\n",
       "      <td>O</td>\n",
       "      <td>40</td>\n",
       "      <td>57000.0</td>\n",
       "      <td>356</td>\n",
       "    </tr>\n",
       "    <tr>\n",
       "      <th>1</th>\n",
       "      <td>0020c2b971eb4e9188eac86d93036a77</td>\n",
       "      <td>4d5c57ea9a6940dd891ad53e9dbe8da0</td>\n",
       "      <td>1</td>\n",
       "      <td>F</td>\n",
       "      <td>59</td>\n",
       "      <td>90000.0</td>\n",
       "      <td>1032</td>\n",
       "    </tr>\n",
       "    <tr>\n",
       "      <th>2</th>\n",
       "      <td>0020ccbbb6d84e358d3414a3ff76cffd</td>\n",
       "      <td>9b98b8c7a33c4b65b9aebfe6a799e6d9</td>\n",
       "      <td>1</td>\n",
       "      <td>F</td>\n",
       "      <td>24</td>\n",
       "      <td>60000.0</td>\n",
       "      <td>780</td>\n",
       "    </tr>\n",
       "    <tr>\n",
       "      <th>3</th>\n",
       "      <td>0020ccbbb6d84e358d3414a3ff76cffd</td>\n",
       "      <td>f19421c1d4aa40978ebb69ca19b0e20d</td>\n",
       "      <td>1</td>\n",
       "      <td>F</td>\n",
       "      <td>24</td>\n",
       "      <td>60000.0</td>\n",
       "      <td>780</td>\n",
       "    </tr>\n",
       "    <tr>\n",
       "      <th>4</th>\n",
       "      <td>004b041fbfe44859945daa2c7f79ee64</td>\n",
       "      <td>f19421c1d4aa40978ebb69ca19b0e20d</td>\n",
       "      <td>1</td>\n",
       "      <td>F</td>\n",
       "      <td>55</td>\n",
       "      <td>74000.0</td>\n",
       "      <td>237</td>\n",
       "    </tr>\n",
       "  </tbody>\n",
       "</table>\n",
       "</div>"
      ],
      "text/plain": [
       "                             person                          offer_id  \\\n",
       "0  0011e0d4e6b944f998e987f904e8c1e5  9b98b8c7a33c4b65b9aebfe6a799e6d9   \n",
       "1  0020c2b971eb4e9188eac86d93036a77  4d5c57ea9a6940dd891ad53e9dbe8da0   \n",
       "2  0020ccbbb6d84e358d3414a3ff76cffd  9b98b8c7a33c4b65b9aebfe6a799e6d9   \n",
       "3  0020ccbbb6d84e358d3414a3ff76cffd  f19421c1d4aa40978ebb69ca19b0e20d   \n",
       "4  004b041fbfe44859945daa2c7f79ee64  f19421c1d4aa40978ebb69ca19b0e20d   \n",
       "\n",
       "   effective_offer gender  age   income  membership_days  \n",
       "0                1      O   40  57000.0              356  \n",
       "1                1      F   59  90000.0             1032  \n",
       "2                1      F   24  60000.0              780  \n",
       "3                1      F   24  60000.0              780  \n",
       "4                1      F   55  74000.0              237  "
      ]
     },
     "execution_count": 65,
     "metadata": {},
     "output_type": "execute_result"
    }
   ],
   "source": [
    "offers_bogo.head()"
   ]
  },
  {
   "attachments": {},
   "cell_type": "markdown",
   "metadata": {},
   "source": [
    "# 'offers_bogo' Data Processing"
   ]
  },
  {
   "cell_type": "code",
   "execution_count": 66,
   "metadata": {},
   "outputs": [],
   "source": [
    "# create dummy variables (also known as one-hot encoding) \n",
    "# from a specified column in a pandas DataFrame.\n",
    "\n",
    "\n",
    "def onehot1(df, col):\n",
    "    _ = pd.get_dummies(df[col], prefix=col)\n",
    "\n",
    "    # Change True/False to 1/0 in the column\n",
    "    dummies = _.replace({True:1, False:0})\n",
    "\n",
    "    df = pd.concat([df,  dummies], axis=1)  \n",
    "    df = df.drop(columns=col ,axis=1, inplace=False)    \n",
    "    \n",
    "    return df"
   ]
  },
  {
   "cell_type": "code",
   "execution_count": 67,
   "metadata": {},
   "outputs": [],
   "source": [
    "# merge with portfolio to get offer details\n",
    "offers_bogo = offers_bogo.merge(portfolio,how='left',on='offer_id')"
   ]
  },
  {
   "cell_type": "code",
   "execution_count": 68,
   "metadata": {},
   "outputs": [],
   "source": [
    "# convert the stuff in 'channels' column into 'categorical' (apple, banana) variables\n",
    "# creating four new columns, 'web', 'email', 'social', and 'mobile', \n",
    "# and populating them with binary indicators based on whether or not that channel\n",
    "# is listed in the channels column for each row.\n",
    "\n",
    "for index, row in offers_bogo.iterrows():\n",
    "    for channel in ['web', 'email', 'social', 'mobile']:\n",
    "        if channel in offers_bogo.loc[index, 'channels']:\n",
    "            offers_bogo.loc[index, channel] = 1\n",
    "        else:\n",
    "            offers_bogo.loc[index, channel] = 0"
   ]
  },
  {
   "cell_type": "code",
   "execution_count": 69,
   "metadata": {},
   "outputs": [],
   "source": [
    "# remove the 'channels' column\n",
    "offers_bogo = offers_bogo.drop(['channels'], axis=1, inplace=False)"
   ]
  },
  {
   "cell_type": "code",
   "execution_count": 70,
   "metadata": {},
   "outputs": [],
   "source": [
    "# custom fucntion from above\n",
    "offers_bogo = onehot1(offers_bogo,'gender')"
   ]
  },
  {
   "cell_type": "code",
   "execution_count": 71,
   "metadata": {},
   "outputs": [
    {
     "data": {
      "text/html": [
       "<div>\n",
       "<style scoped>\n",
       "    .dataframe tbody tr th:only-of-type {\n",
       "        vertical-align: middle;\n",
       "    }\n",
       "\n",
       "    .dataframe tbody tr th {\n",
       "        vertical-align: top;\n",
       "    }\n",
       "\n",
       "    .dataframe thead th {\n",
       "        text-align: right;\n",
       "    }\n",
       "</style>\n",
       "<table border=\"1\" class=\"dataframe\">\n",
       "  <thead>\n",
       "    <tr style=\"text-align: right;\">\n",
       "      <th></th>\n",
       "      <th>person</th>\n",
       "      <th>offer_id</th>\n",
       "      <th>effective_offer</th>\n",
       "      <th>age</th>\n",
       "      <th>income</th>\n",
       "      <th>membership_days</th>\n",
       "      <th>reward</th>\n",
       "      <th>difficulty</th>\n",
       "      <th>duration</th>\n",
       "      <th>offer_type</th>\n",
       "      <th>web</th>\n",
       "      <th>email</th>\n",
       "      <th>social</th>\n",
       "      <th>mobile</th>\n",
       "      <th>gender_F</th>\n",
       "      <th>gender_M</th>\n",
       "      <th>gender_O</th>\n",
       "    </tr>\n",
       "  </thead>\n",
       "  <tbody>\n",
       "    <tr>\n",
       "      <th>0</th>\n",
       "      <td>0011e0d4e6b944f998e987f904e8c1e5</td>\n",
       "      <td>9b98b8c7a33c4b65b9aebfe6a799e6d9</td>\n",
       "      <td>1</td>\n",
       "      <td>40</td>\n",
       "      <td>57000.0</td>\n",
       "      <td>356</td>\n",
       "      <td>5</td>\n",
       "      <td>5</td>\n",
       "      <td>7</td>\n",
       "      <td>bogo</td>\n",
       "      <td>1.0</td>\n",
       "      <td>1.0</td>\n",
       "      <td>0.0</td>\n",
       "      <td>1.0</td>\n",
       "      <td>0</td>\n",
       "      <td>0</td>\n",
       "      <td>1</td>\n",
       "    </tr>\n",
       "    <tr>\n",
       "      <th>1</th>\n",
       "      <td>0020c2b971eb4e9188eac86d93036a77</td>\n",
       "      <td>4d5c57ea9a6940dd891ad53e9dbe8da0</td>\n",
       "      <td>1</td>\n",
       "      <td>59</td>\n",
       "      <td>90000.0</td>\n",
       "      <td>1032</td>\n",
       "      <td>10</td>\n",
       "      <td>10</td>\n",
       "      <td>5</td>\n",
       "      <td>bogo</td>\n",
       "      <td>1.0</td>\n",
       "      <td>1.0</td>\n",
       "      <td>1.0</td>\n",
       "      <td>1.0</td>\n",
       "      <td>1</td>\n",
       "      <td>0</td>\n",
       "      <td>0</td>\n",
       "    </tr>\n",
       "    <tr>\n",
       "      <th>2</th>\n",
       "      <td>0020ccbbb6d84e358d3414a3ff76cffd</td>\n",
       "      <td>9b98b8c7a33c4b65b9aebfe6a799e6d9</td>\n",
       "      <td>1</td>\n",
       "      <td>24</td>\n",
       "      <td>60000.0</td>\n",
       "      <td>780</td>\n",
       "      <td>5</td>\n",
       "      <td>5</td>\n",
       "      <td>7</td>\n",
       "      <td>bogo</td>\n",
       "      <td>1.0</td>\n",
       "      <td>1.0</td>\n",
       "      <td>0.0</td>\n",
       "      <td>1.0</td>\n",
       "      <td>1</td>\n",
       "      <td>0</td>\n",
       "      <td>0</td>\n",
       "    </tr>\n",
       "    <tr>\n",
       "      <th>3</th>\n",
       "      <td>0020ccbbb6d84e358d3414a3ff76cffd</td>\n",
       "      <td>f19421c1d4aa40978ebb69ca19b0e20d</td>\n",
       "      <td>1</td>\n",
       "      <td>24</td>\n",
       "      <td>60000.0</td>\n",
       "      <td>780</td>\n",
       "      <td>5</td>\n",
       "      <td>5</td>\n",
       "      <td>5</td>\n",
       "      <td>bogo</td>\n",
       "      <td>1.0</td>\n",
       "      <td>1.0</td>\n",
       "      <td>1.0</td>\n",
       "      <td>1.0</td>\n",
       "      <td>1</td>\n",
       "      <td>0</td>\n",
       "      <td>0</td>\n",
       "    </tr>\n",
       "    <tr>\n",
       "      <th>4</th>\n",
       "      <td>004b041fbfe44859945daa2c7f79ee64</td>\n",
       "      <td>f19421c1d4aa40978ebb69ca19b0e20d</td>\n",
       "      <td>1</td>\n",
       "      <td>55</td>\n",
       "      <td>74000.0</td>\n",
       "      <td>237</td>\n",
       "      <td>5</td>\n",
       "      <td>5</td>\n",
       "      <td>5</td>\n",
       "      <td>bogo</td>\n",
       "      <td>1.0</td>\n",
       "      <td>1.0</td>\n",
       "      <td>1.0</td>\n",
       "      <td>1.0</td>\n",
       "      <td>1</td>\n",
       "      <td>0</td>\n",
       "      <td>0</td>\n",
       "    </tr>\n",
       "  </tbody>\n",
       "</table>\n",
       "</div>"
      ],
      "text/plain": [
       "                             person                          offer_id  \\\n",
       "0  0011e0d4e6b944f998e987f904e8c1e5  9b98b8c7a33c4b65b9aebfe6a799e6d9   \n",
       "1  0020c2b971eb4e9188eac86d93036a77  4d5c57ea9a6940dd891ad53e9dbe8da0   \n",
       "2  0020ccbbb6d84e358d3414a3ff76cffd  9b98b8c7a33c4b65b9aebfe6a799e6d9   \n",
       "3  0020ccbbb6d84e358d3414a3ff76cffd  f19421c1d4aa40978ebb69ca19b0e20d   \n",
       "4  004b041fbfe44859945daa2c7f79ee64  f19421c1d4aa40978ebb69ca19b0e20d   \n",
       "\n",
       "   effective_offer  age   income  membership_days  reward  difficulty  \\\n",
       "0                1   40  57000.0              356       5           5   \n",
       "1                1   59  90000.0             1032      10          10   \n",
       "2                1   24  60000.0              780       5           5   \n",
       "3                1   24  60000.0              780       5           5   \n",
       "4                1   55  74000.0              237       5           5   \n",
       "\n",
       "   duration offer_type  web  email  social  mobile  gender_F  gender_M  \\\n",
       "0         7       bogo  1.0    1.0     0.0     1.0         0         0   \n",
       "1         5       bogo  1.0    1.0     1.0     1.0         1         0   \n",
       "2         7       bogo  1.0    1.0     0.0     1.0         1         0   \n",
       "3         5       bogo  1.0    1.0     1.0     1.0         1         0   \n",
       "4         5       bogo  1.0    1.0     1.0     1.0         1         0   \n",
       "\n",
       "   gender_O  \n",
       "0         1  \n",
       "1         0  \n",
       "2         0  \n",
       "3         0  \n",
       "4         0  "
      ]
     },
     "execution_count": 71,
     "metadata": {},
     "output_type": "execute_result"
    }
   ],
   "source": [
    "offers_bogo.head()"
   ]
  },
  {
   "cell_type": "markdown",
   "metadata": {},
   "source": [
    "done with 'offers_bogo'"
   ]
  },
  {
   "attachments": {},
   "cell_type": "markdown",
   "metadata": {},
   "source": [
    "## 'offers_discount' Data Processing"
   ]
  },
  {
   "cell_type": "code",
   "execution_count": 72,
   "metadata": {},
   "outputs": [],
   "source": [
    "def convert_process2(df):\n",
    "       \n",
    "    # remove columns that has 'null' values (gender, 'income')\n",
    "    df.dropna(inplace=True);\n",
    "\n",
    "    # checking for null values, make sure there are none\n",
    "    assert df.isnull().sum().sum() == 0\n",
    "    \n",
    "    # merge with portfolio to get offer details\n",
    "    df = df.merge(portfolio, how='left',on='offer_id')\n",
    "\n",
    "    # convert 'channels' into 'one hot' encoding and add 4 new columns (web, email, social, mobile)\n",
    "    for index, row in df.iterrows():\n",
    "        for channel in ['web', 'email', 'social', 'mobile']:\n",
    "            if channel in df.loc[index, 'channels']:\n",
    "                df.loc[index, channel] = 1\n",
    "            else:\n",
    "                df.loc[index, channel] = 0\n",
    "\n",
    "\n",
    "    # remove the 'channels' column                \n",
    "    df = df.drop(['channels'], axis=1, inplace=False)\n",
    "    \n",
    "    # convert gender column into 'one hot' encoding\n",
    "    df = onehot1(df,'gender')\n",
    "\n",
    "    return df"
   ]
  },
  {
   "cell_type": "code",
   "execution_count": 73,
   "metadata": {},
   "outputs": [
    {
     "data": {
      "text/plain": [
       "person                0\n",
       "offer_id              0\n",
       "effective_offer       0\n",
       "gender             1193\n",
       "age                   0\n",
       "income             1193\n",
       "membership_days       0\n",
       "dtype: int64"
      ]
     },
     "execution_count": 73,
     "metadata": {},
     "output_type": "execute_result"
    }
   ],
   "source": [
    "offers_discount.isnull().sum()"
   ]
  },
  {
   "cell_type": "code",
   "execution_count": 74,
   "metadata": {},
   "outputs": [],
   "source": [
    "# prepare data for offer_discounts\n",
    "offers_discount = convert_process2(offers_discount)"
   ]
  },
  {
   "cell_type": "code",
   "execution_count": 75,
   "metadata": {},
   "outputs": [
    {
     "data": {
      "text/html": [
       "<div>\n",
       "<style scoped>\n",
       "    .dataframe tbody tr th:only-of-type {\n",
       "        vertical-align: middle;\n",
       "    }\n",
       "\n",
       "    .dataframe tbody tr th {\n",
       "        vertical-align: top;\n",
       "    }\n",
       "\n",
       "    .dataframe thead th {\n",
       "        text-align: right;\n",
       "    }\n",
       "</style>\n",
       "<table border=\"1\" class=\"dataframe\">\n",
       "  <thead>\n",
       "    <tr style=\"text-align: right;\">\n",
       "      <th></th>\n",
       "      <th>person</th>\n",
       "      <th>offer_id</th>\n",
       "      <th>effective_offer</th>\n",
       "      <th>age</th>\n",
       "      <th>income</th>\n",
       "      <th>membership_days</th>\n",
       "      <th>reward</th>\n",
       "      <th>difficulty</th>\n",
       "      <th>duration</th>\n",
       "      <th>offer_type</th>\n",
       "      <th>web</th>\n",
       "      <th>email</th>\n",
       "      <th>social</th>\n",
       "      <th>mobile</th>\n",
       "      <th>gender_F</th>\n",
       "      <th>gender_M</th>\n",
       "      <th>gender_O</th>\n",
       "    </tr>\n",
       "  </thead>\n",
       "  <tbody>\n",
       "    <tr>\n",
       "      <th>0</th>\n",
       "      <td>0011e0d4e6b944f998e987f904e8c1e5</td>\n",
       "      <td>0b1e1539f2cc45b7b9fa7c272da2e1d7</td>\n",
       "      <td>1</td>\n",
       "      <td>40</td>\n",
       "      <td>57000.0</td>\n",
       "      <td>356</td>\n",
       "      <td>5</td>\n",
       "      <td>20</td>\n",
       "      <td>10</td>\n",
       "      <td>discount</td>\n",
       "      <td>1.0</td>\n",
       "      <td>1.0</td>\n",
       "      <td>0.0</td>\n",
       "      <td>0.0</td>\n",
       "      <td>0</td>\n",
       "      <td>0</td>\n",
       "      <td>1</td>\n",
       "    </tr>\n",
       "    <tr>\n",
       "      <th>1</th>\n",
       "      <td>0011e0d4e6b944f998e987f904e8c1e5</td>\n",
       "      <td>2298d6c36e964ae4a3e7e9706d1fb8c2</td>\n",
       "      <td>1</td>\n",
       "      <td>40</td>\n",
       "      <td>57000.0</td>\n",
       "      <td>356</td>\n",
       "      <td>3</td>\n",
       "      <td>7</td>\n",
       "      <td>7</td>\n",
       "      <td>discount</td>\n",
       "      <td>1.0</td>\n",
       "      <td>1.0</td>\n",
       "      <td>1.0</td>\n",
       "      <td>1.0</td>\n",
       "      <td>0</td>\n",
       "      <td>0</td>\n",
       "      <td>1</td>\n",
       "    </tr>\n",
       "    <tr>\n",
       "      <th>2</th>\n",
       "      <td>0020c2b971eb4e9188eac86d93036a77</td>\n",
       "      <td>fafdcd668e3743c1bb461111dcafc2a4</td>\n",
       "      <td>1</td>\n",
       "      <td>59</td>\n",
       "      <td>90000.0</td>\n",
       "      <td>1032</td>\n",
       "      <td>2</td>\n",
       "      <td>10</td>\n",
       "      <td>10</td>\n",
       "      <td>discount</td>\n",
       "      <td>1.0</td>\n",
       "      <td>1.0</td>\n",
       "      <td>1.0</td>\n",
       "      <td>1.0</td>\n",
       "      <td>1</td>\n",
       "      <td>0</td>\n",
       "      <td>0</td>\n",
       "    </tr>\n",
       "    <tr>\n",
       "      <th>3</th>\n",
       "      <td>0020ccbbb6d84e358d3414a3ff76cffd</td>\n",
       "      <td>2298d6c36e964ae4a3e7e9706d1fb8c2</td>\n",
       "      <td>1</td>\n",
       "      <td>24</td>\n",
       "      <td>60000.0</td>\n",
       "      <td>780</td>\n",
       "      <td>3</td>\n",
       "      <td>7</td>\n",
       "      <td>7</td>\n",
       "      <td>discount</td>\n",
       "      <td>1.0</td>\n",
       "      <td>1.0</td>\n",
       "      <td>1.0</td>\n",
       "      <td>1.0</td>\n",
       "      <td>1</td>\n",
       "      <td>0</td>\n",
       "      <td>0</td>\n",
       "    </tr>\n",
       "    <tr>\n",
       "      <th>4</th>\n",
       "      <td>003d66b6608740288d6cc97a6903f4f0</td>\n",
       "      <td>fafdcd668e3743c1bb461111dcafc2a4</td>\n",
       "      <td>1</td>\n",
       "      <td>26</td>\n",
       "      <td>73000.0</td>\n",
       "      <td>558</td>\n",
       "      <td>2</td>\n",
       "      <td>10</td>\n",
       "      <td>10</td>\n",
       "      <td>discount</td>\n",
       "      <td>1.0</td>\n",
       "      <td>1.0</td>\n",
       "      <td>1.0</td>\n",
       "      <td>1.0</td>\n",
       "      <td>1</td>\n",
       "      <td>0</td>\n",
       "      <td>0</td>\n",
       "    </tr>\n",
       "  </tbody>\n",
       "</table>\n",
       "</div>"
      ],
      "text/plain": [
       "                             person                          offer_id  \\\n",
       "0  0011e0d4e6b944f998e987f904e8c1e5  0b1e1539f2cc45b7b9fa7c272da2e1d7   \n",
       "1  0011e0d4e6b944f998e987f904e8c1e5  2298d6c36e964ae4a3e7e9706d1fb8c2   \n",
       "2  0020c2b971eb4e9188eac86d93036a77  fafdcd668e3743c1bb461111dcafc2a4   \n",
       "3  0020ccbbb6d84e358d3414a3ff76cffd  2298d6c36e964ae4a3e7e9706d1fb8c2   \n",
       "4  003d66b6608740288d6cc97a6903f4f0  fafdcd668e3743c1bb461111dcafc2a4   \n",
       "\n",
       "   effective_offer  age   income  membership_days  reward  difficulty  \\\n",
       "0                1   40  57000.0              356       5          20   \n",
       "1                1   40  57000.0              356       3           7   \n",
       "2                1   59  90000.0             1032       2          10   \n",
       "3                1   24  60000.0              780       3           7   \n",
       "4                1   26  73000.0              558       2          10   \n",
       "\n",
       "   duration offer_type  web  email  social  mobile  gender_F  gender_M  \\\n",
       "0        10   discount  1.0    1.0     0.0     0.0         0         0   \n",
       "1         7   discount  1.0    1.0     1.0     1.0         0         0   \n",
       "2        10   discount  1.0    1.0     1.0     1.0         1         0   \n",
       "3         7   discount  1.0    1.0     1.0     1.0         1         0   \n",
       "4        10   discount  1.0    1.0     1.0     1.0         1         0   \n",
       "\n",
       "   gender_O  \n",
       "0         1  \n",
       "1         1  \n",
       "2         0  \n",
       "3         0  \n",
       "4         0  "
      ]
     },
     "execution_count": 75,
     "metadata": {},
     "output_type": "execute_result"
    }
   ],
   "source": [
    "offers_discount.head()"
   ]
  },
  {
   "attachments": {},
   "cell_type": "markdown",
   "metadata": {},
   "source": [
    "done with offers_discount"
   ]
  },
  {
   "attachments": {},
   "cell_type": "markdown",
   "metadata": {},
   "source": [
    "# Defining 'Helper Functions' for Buidling Machine Learning 'Model'"
   ]
  },
  {
   "cell_type": "code",
   "execution_count": 76,
   "metadata": {},
   "outputs": [],
   "source": [
    "def divider1(asdf):\n",
    "    print(f'{asdf}'*20)"
   ]
  },
  {
   "cell_type": "code",
   "execution_count": 77,
   "metadata": {},
   "outputs": [],
   "source": [
    "def makeTargetAndFeature1(df, col_drop):\n",
    "\n",
    "    # Split the data into features and target label\n",
    "    target = df['effective_offer']\n",
    "    features = df.drop(columns = col_drop, inplace=False, axis=1)\n",
    "\n",
    "    return features, target"
   ]
  },
  {
   "cell_type": "code",
   "execution_count": 78,
   "metadata": {},
   "outputs": [],
   "source": [
    "def split_data1(features, target):\n",
    "    \n",
    "    # split into training and test sets\n",
    "    X_train, X_test, y_train, y_test = train_test_split(features, target, test_size=0.20, random_state=42)\n",
    "\n",
    "    # fit and transform scaling on training data\n",
    "    scaler = StandardScaler()\n",
    "    X_train = scaler.fit_transform(X_train) # this is combination of 'fit' and 'transform' function\n",
    "\n",
    "    # scale test data\n",
    "    X_test = scaler.transform(X_test) # we dont' run 'fit' on 'test' data because we don't want to 'assume' anything about test data\n",
    "\n",
    "    return X_train, X_test, y_train, y_test"
   ]
  },
  {
   "cell_type": "code",
   "execution_count": 79,
   "metadata": {},
   "outputs": [],
   "source": [
    "def train_and_prediction1(model, X_train, y_train, X_test, y_test):        \n",
    "    \n",
    "    results = {}\n",
    "    \n",
    "    # 'Fit' the learner to the training data and get training time\n",
    "    start1 = time() \n",
    "    model = model.fit(X_train, y_train)\n",
    "    end1 = time() \n",
    "    results['train_time'] = end1-start1\n",
    "    \n",
    "    # Get predictions on the test set(X_test)\n",
    "    start1 = time() \n",
    "    predictions_test = model.predict(X_test)\n",
    "    predictions_train = model.predict(X_train)\n",
    "    end1 = time() \n",
    "    \n",
    "    # Calculate the total prediction time\n",
    "    results['pred_time'] = end1-start1\n",
    "    \n",
    "    # add 'training' accuracy to results\n",
    "    results['training_score'] = model.score(X_train,y_train)\n",
    "    \n",
    "    # add 'testing' accuracy to results\n",
    "    results['testing_score'] = model.score(X_test,y_test)\n",
    "\n",
    "    weightedF1 = f1_score(y_test, predictions_test, average='weighted')\n",
    "    results['weightedF1'] = weightedF1\n",
    "     \n",
    "\n",
    "    print(f\"{model.__class__.__name__} trained on {len(y_train)} samples.\")\n",
    "    print(f\"MSE_train: {mean_squared_error(y_train, predictions_train):.4f}\")\n",
    "    print(f\"MSE_test: {mean_squared_error(y_test, predictions_test):.4f}\")\n",
    "\n",
    "    print(f\"Training accuracy: {results['training_score']:.4f}\")\n",
    "    print(f\"Test accuracy: {results['testing_score']:.4f}\")\n",
    "\n",
    "    print(classification_report(y_test, predictions_test,digits=4))\n",
    "\n",
    "    divider1('*=')    \n",
    "    print(f\"Weighted F1 score: {weightedF1:.4f}\")\n",
    "    divider1('*=')\n",
    "\n",
    "    return results"
   ]
  },
  {
   "cell_type": "code",
   "execution_count": 80,
   "metadata": {},
   "outputs": [],
   "source": [
    "def run_model1(classify1, classify2, name):\n",
    "\n",
    "    results = {}\n",
    "\n",
    "    for clf in [classify1, classify2]:\n",
    "        clf_name = clf.__class__.__name__ + '_' + name # this line is to add 'prefix' to the name of the 'classifier'\n",
    "        results[clf_name] = {}\n",
    "        results[clf_name]= train_and_prediction1(clf, X_train, y_train, X_test, y_test)\n",
    "        \n",
    "    return pd.DataFrame(results)"
   ]
  },
  {
   "cell_type": "markdown",
   "metadata": {},
   "source": [
    "# Justification for Selecting the 'weighted average F1 score,' as the 'metric' for the 'model'"
   ]
  },
  {
   "cell_type": "markdown",
   "metadata": {},
   "source": [
    "The 'class' refers to the possible 'outcomes' or 'labels' in a 'classification' problem\n",
    "in this project, we have 2 'classes':\n",
    "\n",
    "- 0, indicating that the offer (promotion) is 'NOT effective'\n",
    "- 1, indicating that the offer (promotion) is 'effective'"
   ]
  },
  {
   "cell_type": "code",
   "execution_count": 81,
   "metadata": {},
   "outputs": [
    {
     "name": "stdout",
     "output_type": "stream",
     "text": [
      "offers_bogo, checking for \"class imbalance\"\n",
      "\n",
      "                    person\n",
      "effective_offer           \n",
      "0                21.995741\n",
      "1                78.004259\n",
      "\n",
      "==============================\n",
      "\n",
      "offers_discount, checking for \"class imbalance\"\n",
      "\n",
      "                    person\n",
      "effective_offer           \n",
      "0                13.905817\n",
      "1                86.094183\n"
     ]
    },
    {
     "data": {
      "text/plain": [
       "Text(0.5, 1.0, 'offers_discount \"class\"')"
      ]
     },
     "execution_count": 81,
     "metadata": {},
     "output_type": "execute_result"
    },
    {
     "data": {
      "image/png": "[encoded data removed]",
      "text/plain": [
       "<Figure size 1000x300 with 2 Axes>"
      ]
     },
     "metadata": {},
     "output_type": "display_data"
    }
   ],
   "source": [
    "# count the total number of rows with 'effective_offer' == 1\n",
    "# and count the total number of rows with 'effective_offer' == 0\n",
    "# then divide both number by the total number of rows in the dataframe\n",
    "# then multiply by 100 to get the percentage\n",
    "\n",
    "wat1 = offers_bogo[['person','effective_offer']].groupby('effective_offer').count()\n",
    "wat2 = len(offers_bogo)\n",
    "print(f'offers_bogo, checking for \"class imbalance\"\\n')\n",
    "print(f'{(wat1/wat2)*100}')\n",
    "\n",
    "print('\\n==============================\\n')\n",
    "\n",
    "wat1 = offers_discount[['person','effective_offer']].groupby('effective_offer').count()\n",
    "wat2 = len(offers_discount)\n",
    "print(f'offers_discount, checking for \"class imbalance\"\\n')\n",
    "print((wat1/wat2)*100)\n",
    "\n",
    "\n",
    "fig, ax = plt.subplots(1,2, figsize=(10,3))\n",
    "offers_bogo['effective_offer'].value_counts().plot(kind='bar', ax=ax[0], color='blue', alpha=0.5)\n",
    "ax[0].set_title('offers_bogo \"class\"')\n",
    "\n",
    "offers_discount['effective_offer'].value_counts().plot(kind='bar', ax=ax[1], color='red', alpha=0.5)\n",
    "ax[1].set_title('offers_discount \"class\"')"
   ]
  },
  {
   "cell_type": "markdown",
   "metadata": {},
   "source": [
    "as you can see, we have a 'class imbalance' problem for both dataframes:\n",
    "- offers_bogo\n",
    "- offers_discount\n",
    "\n",
    "both have the 'class' of 1 (effective offer) as the 'majority class'\n",
    "\n",
    "Thus we will use the 'weighted average F1 score,' as the 'metric' for the 'model' because\n",
    "this 'problem' is considered to be a 'imbalanced classification'. \n",
    "Using 'weighted average F1 score' helps to give a more representative score of the model's performance\\\n",
    "across all classes, by giving more importance to the classes with more instances, and If the model doesn't do well\\\n",
    "in predicting a class that has only a small number of instances, the 'weighted average F1-score' won't be dramatically reduce.\n"
   ]
  },
  {
   "cell_type": "markdown",
   "metadata": {},
   "source": [
    "# Building Machine Learning 'Model'"
   ]
  },
  {
   "cell_type": "markdown",
   "metadata": {},
   "source": [
    "Making 2 'models'\n",
    "- 'model' for BOGO offer\n",
    "- 'model' for 'discount' offer\n",
    "- a 'bunchmark model' use to compare with the 2 models above"
   ]
  },
  {
   "cell_type": "markdown",
   "metadata": {},
   "source": [
    "# Implementation (selecting the type of 'classification algorithm' to use)"
   ]
  },
  {
   "cell_type": "markdown",
   "metadata": {},
   "source": [
    "This is a (yes/no) 'binary classification' problem where the 'outcome' is either:\n",
    "- 'effective offer' == 1 \n",
    "- 'effective offer' == 0\n",
    "\n",
    "We will use 'Random Forest Classifier' (RFC) as the 'classification algorithm' because:\n",
    "- Feature importance: Random Forest offers built-in 'feature importance' which will be use to select the 'important feature'.\n",
    "- Ease of use: Random Forest requires less preprocessing of data. It can handle missing values and 'categorical' data, and not affected by the 'scaling of features'.\n",
    "- Handling overfitting: By using multiple 'trees', compare to using a single 'decision trees'.\n",
    "\n",
    "We will also be using 'K nearest neighbors' (KNN) as a 'benchmark model' to compare with the 'RFC' model:\n",
    "- Performance with imbalanced data: KNN may not perform well on 'imbalanced' data because predictions are based on the nearest neighbors, thus prediction may be biased towards the majority class in case of imbalanced data.\n",
    "\n",
    "- Sensitive to irrelevant features: KNN treats every 'feature' with the same 'importance' and does not perform well if the dataset has irrelevant 'features'.\n",
    "\n",
    " **  identifying 'irrelevant features' is the job of the data scientist **\n",
    " \n",
    " ** the algorithm does not know which 'features' are 'irrelevant' **"
   ]
  },
  {
   "attachments": {},
   "cell_type": "markdown",
   "metadata": {},
   "source": [
    "# 'BOGO' machine learning 'model'"
   ]
  },
  {
   "cell_type": "markdown",
   "metadata": {},
   "source": [
    "we have a NaN value in the 'income' column, total of 947\\\n",
    "DecisionTreeClassifier does not accept missing values encoded as NaN\\\n",
    "So i am filling NaN with 0"
   ]
  },
  {
   "cell_type": "code",
   "execution_count": 82,
   "metadata": {},
   "outputs": [],
   "source": [
    "# fill the 'income' column with 0\n",
    "offers_bogo['income'] = offers_bogo['income'].fillna(value=0)"
   ]
  },
  {
   "cell_type": "code",
   "execution_count": 83,
   "metadata": {},
   "outputs": [],
   "source": [
    "# columns to drop for data preparation\n",
    "drop_cols_prep = ['person','offer_id','effective_offer','offer_type']\n",
    "features, target = makeTargetAndFeature1(offers_bogo, drop_cols_prep)"
   ]
  },
  {
   "cell_type": "code",
   "execution_count": 84,
   "metadata": {},
   "outputs": [],
   "source": [
    "# assert test to check if there are any null values in features\n",
    "assert features.isnull().sum().sum() == 0, \"There are null values in features\""
   ]
  },
  {
   "cell_type": "code",
   "execution_count": 85,
   "metadata": {},
   "outputs": [],
   "source": [
    "from sklearn.model_selection import train_test_split\n",
    "from sklearn.preprocessing import StandardScaler\n",
    "\n",
    "X_train, X_test, y_train, y_test = split_data1(features, target)"
   ]
  },
  {
   "cell_type": "code",
   "execution_count": 86,
   "metadata": {},
   "outputs": [],
   "source": [
    "# making 2 machine learning 'models'\n",
    "# compareModel1 is 'K Nearest Neighbor' model\n",
    "# bogoModel1 model is 'Randon Forest' model\n",
    "\n",
    "\n",
    "from sklearn.neighbors import KNeighborsClassifier\n",
    "\n",
    "# create a KNN model\n",
    "compareModel1 = KNeighborsClassifier(\n",
    "    n_neighbors=3,  # choose the number of neighbors\n",
    "    weights='uniform',  # weight function used in prediction\n",
    "    algorithm='auto',  # algorithm used to compute the nearest neighbors\n",
    "    leaf_size=30,  # leaf size passed to BallTree or KDTree\n",
    "    p=2,  # power parameter for the Minkowski metric\n",
    "    metric='minkowski',  # the distance metric to use for the tree\n",
    "    metric_params=None,  # additional keyword arguments for the metric function\n",
    "    n_jobs=None  # the number of parallel jobs to run for neighbors search\n",
    ")\n",
    "\n",
    "bogoModel1 = RandomForestClassifier(\n",
    "    random_state=2,  # sets the 'seed' for the random number generator, so you can get the same results each time you run the model.\n",
    "    max_depth=11,  # limits how many splits each tree can have, which helps avoid overly complex trees that overfit to the training data.\n",
    "    min_samples_split=10,  # a 'node' in the tree will only split if it has at least 10 samples in it, helping to keep the trees simpler and avoid overfitting.\n",
    "    n_estimators=20,  # sets the number of 'trees in the forest'. More trees mean more varied predictions, which can help to improve accuracy.\n",
    "    min_samples_leaf=20  # each \"leaf\" at the end of a tree must have at least 20 samples. It's another way to keep the trees from getting too complex.\n",
    ")\n",
    "\n",
    "\n"
   ]
  },
  {
   "cell_type": "code",
   "execution_count": 87,
   "metadata": {},
   "outputs": [
    {
     "name": "stdout",
     "output_type": "stream",
     "text": [
      "KNeighborsClassifier trained on 10518 samples.\n",
      "MSE_train: 0.1255\n",
      "MSE_test: 0.2300\n",
      "Training accuracy: 0.8745\n",
      "Test accuracy: 0.7700\n",
      "              precision    recall  f1-score   support\n",
      "\n",
      "           0     0.4749    0.3746    0.4188       582\n",
      "           1     0.8323    0.8823    0.8566      2048\n",
      "\n",
      "    accuracy                         0.7700      2630\n",
      "   macro avg     0.6536    0.6284    0.6377      2630\n",
      "weighted avg     0.7532    0.7700    0.7597      2630\n",
      "\n",
      "*=*=*=*=*=*=*=*=*=*=*=*=*=*=*=*=*=*=*=*=\n",
      "Weighted F1 score: 0.7597\n",
      "*=*=*=*=*=*=*=*=*=*=*=*=*=*=*=*=*=*=*=*=\n",
      "RandomForestClassifier trained on 10518 samples.\n",
      "MSE_train: 0.1737\n",
      "MSE_test: 0.1840\n",
      "Training accuracy: 0.8263\n",
      "Test accuracy: 0.8160\n",
      "              precision    recall  f1-score   support\n",
      "\n",
      "           0     0.7311    0.2663    0.3904       582\n",
      "           1     0.8234    0.9722    0.8916      2048\n",
      "\n",
      "    accuracy                         0.8160      2630\n",
      "   macro avg     0.7773    0.6192    0.6410      2630\n",
      "weighted avg     0.8030    0.8160    0.7807      2630\n",
      "\n",
      "*=*=*=*=*=*=*=*=*=*=*=*=*=*=*=*=*=*=*=*=\n",
      "Weighted F1 score: 0.7807\n",
      "*=*=*=*=*=*=*=*=*=*=*=*=*=*=*=*=*=*=*=*=\n"
     ]
    }
   ],
   "source": [
    "results = run_model1(compareModel1, bogoModel1, 'bogoModel1')"
   ]
  },
  {
   "cell_type": "markdown",
   "metadata": {},
   "source": [
    "- The 'weighted average F1 score' of the 'compareModel1' (K Nearest Neighbors) is 0.7597\n",
    "- The 'weighted average F1 score' of the 'bogoModel1' (Random Forest Classifier) is 0.7807 (last row, at 'f1-score' column)\n",
    "\n",
    "We can see that RFC performs better than KNN by 0.7807 - 0.7597 = 0.021 (2.1%)\n",
    "\n",
    "*note 0.7807 and 0.7597 are already in % form*"
   ]
  },
  {
   "attachments": {},
   "cell_type": "markdown",
   "metadata": {},
   "source": [
    "# 'Discount' machine learning 'model'"
   ]
  },
  {
   "cell_type": "markdown",
   "metadata": {},
   "source": [
    "- DecisionTreeClassifier does not accept missing values encoded as NaN\n",
    "- check if 'offers_discount' has any null values"
   ]
  },
  {
   "cell_type": "code",
   "execution_count": 88,
   "metadata": {},
   "outputs": [],
   "source": [
    "# check if 'offers_discount' has any null values\n",
    "assert offers_discount.isnull().sum().sum() == 0"
   ]
  },
  {
   "cell_type": "code",
   "execution_count": 89,
   "metadata": {},
   "outputs": [],
   "source": [
    "# splitting data\n",
    "drop_cols_prep = ['person','offer_id','effective_offer','offer_type']\n",
    "features, target = makeTargetAndFeature1(offers_discount, drop_cols_prep)\n",
    "X_train, X_test, y_train, y_test = split_data1(features, target)"
   ]
  },
  {
   "cell_type": "markdown",
   "metadata": {},
   "source": [
    "Again, starting with randomly choosen 'hyper-parameters'"
   ]
  },
  {
   "cell_type": "code",
   "execution_count": 90,
   "metadata": {},
   "outputs": [],
   "source": [
    "discountModel1 = RandomForestClassifier(\n",
    "    random_state=2,\n",
    "    max_depth=20,\n",
    "    min_samples_split=10,\n",
    "    n_estimators=20,\n",
    "    min_samples_leaf=10\n",
    ")\n"
   ]
  },
  {
   "cell_type": "code",
   "execution_count": 91,
   "metadata": {},
   "outputs": [
    {
     "name": "stdout",
     "output_type": "stream",
     "text": [
      "KNeighborsClassifier trained on 10108 samples.\n",
      "MSE_train: 0.1041\n",
      "MSE_test: 0.1678\n",
      "Training accuracy: 0.8959\n",
      "Test accuracy: 0.8322\n",
      "              precision    recall  f1-score   support\n",
      "\n",
      "           0     0.3213    0.2388    0.2740       335\n",
      "           1     0.8881    0.9229    0.9051      2192\n",
      "\n",
      "    accuracy                         0.8322      2527\n",
      "   macro avg     0.6047    0.5809    0.5896      2527\n",
      "weighted avg     0.8129    0.8322    0.8215      2527\n",
      "\n",
      "*=*=*=*=*=*=*=*=*=*=*=*=*=*=*=*=*=*=*=*=\n",
      "Weighted F1 score: 0.8215\n",
      "*=*=*=*=*=*=*=*=*=*=*=*=*=*=*=*=*=*=*=*=\n",
      "RandomForestClassifier trained on 10108 samples.\n",
      "MSE_train: 0.1304\n",
      "MSE_test: 0.1306\n",
      "Training accuracy: 0.8696\n",
      "Test accuracy: 0.8694\n",
      "              precision    recall  f1-score   support\n",
      "\n",
      "           0     0.5676    0.0627    0.1129       335\n",
      "           1     0.8739    0.9927    0.9295      2192\n",
      "\n",
      "    accuracy                         0.8694      2527\n",
      "   macro avg     0.7207    0.5277    0.5212      2527\n",
      "weighted avg     0.8333    0.8694    0.8213      2527\n",
      "\n",
      "*=*=*=*=*=*=*=*=*=*=*=*=*=*=*=*=*=*=*=*=\n",
      "Weighted F1 score: 0.8213\n",
      "*=*=*=*=*=*=*=*=*=*=*=*=*=*=*=*=*=*=*=*=\n"
     ]
    }
   ],
   "source": [
    "discountModel1Output = run_model1(compareModel1, discountModel1,'discountModel1')"
   ]
  },
  {
   "cell_type": "markdown",
   "metadata": {},
   "source": [
    "- The 'weighted average F1 score' of the 'compareModel1' (K Nearest Neighbors) is 0.8215\n",
    "- The 'weighted average F1 score' of the 'discountModel1' (Random Forest Classifier) is 0.8213     (last row, at 'f1-score' column)\n",
    "\n",
    "We can see that KNN performs better than RFC by 0.8215 - 0.8213 = 0.0002 (0.02%)"
   ]
  },
  {
   "cell_type": "code",
   "execution_count": 92,
   "metadata": {},
   "outputs": [
    {
     "data": {
      "text/html": [
       "<div>\n",
       "<style scoped>\n",
       "    .dataframe tbody tr th:only-of-type {\n",
       "        vertical-align: middle;\n",
       "    }\n",
       "\n",
       "    .dataframe tbody tr th {\n",
       "        vertical-align: top;\n",
       "    }\n",
       "\n",
       "    .dataframe thead th {\n",
       "        text-align: right;\n",
       "    }\n",
       "</style>\n",
       "<table border=\"1\" class=\"dataframe\">\n",
       "  <thead>\n",
       "    <tr style=\"text-align: right;\">\n",
       "      <th></th>\n",
       "      <th>KNeighborsClassifier_bogoModel1</th>\n",
       "      <th>RandomForestClassifier_bogoModel1</th>\n",
       "      <th>KNeighborsClassifier_discountModel1</th>\n",
       "      <th>RandomForestClassifier_discountModel1</th>\n",
       "    </tr>\n",
       "  </thead>\n",
       "  <tbody>\n",
       "    <tr>\n",
       "      <th>train_time</th>\n",
       "      <td>0.038916</td>\n",
       "      <td>0.143338</td>\n",
       "      <td>0.031028</td>\n",
       "      <td>0.142589</td>\n",
       "    </tr>\n",
       "    <tr>\n",
       "      <th>pred_time</th>\n",
       "      <td>0.732366</td>\n",
       "      <td>0.031000</td>\n",
       "      <td>0.669815</td>\n",
       "      <td>0.039002</td>\n",
       "    </tr>\n",
       "    <tr>\n",
       "      <th>training_score</th>\n",
       "      <td>0.874501</td>\n",
       "      <td>0.826298</td>\n",
       "      <td>0.895924</td>\n",
       "      <td>0.869608</td>\n",
       "    </tr>\n",
       "    <tr>\n",
       "      <th>testing_score</th>\n",
       "      <td>0.769962</td>\n",
       "      <td>0.815970</td>\n",
       "      <td>0.832212</td>\n",
       "      <td>0.869410</td>\n",
       "    </tr>\n",
       "    <tr>\n",
       "      <th>weightedF1</th>\n",
       "      <td>0.759725</td>\n",
       "      <td>0.780714</td>\n",
       "      <td>0.821472</td>\n",
       "      <td>0.821260</td>\n",
       "    </tr>\n",
       "  </tbody>\n",
       "</table>\n",
       "</div>"
      ],
      "text/plain": [
       "                KNeighborsClassifier_bogoModel1  \\\n",
       "train_time                             0.038916   \n",
       "pred_time                              0.732366   \n",
       "training_score                         0.874501   \n",
       "testing_score                          0.769962   \n",
       "weightedF1                             0.759725   \n",
       "\n",
       "                RandomForestClassifier_bogoModel1  \\\n",
       "train_time                               0.143338   \n",
       "pred_time                                0.031000   \n",
       "training_score                           0.826298   \n",
       "testing_score                            0.815970   \n",
       "weightedF1                               0.780714   \n",
       "\n",
       "                KNeighborsClassifier_discountModel1  \\\n",
       "train_time                                 0.031028   \n",
       "pred_time                                  0.669815   \n",
       "training_score                             0.895924   \n",
       "testing_score                              0.832212   \n",
       "weightedF1                                 0.821472   \n",
       "\n",
       "                RandomForestClassifier_discountModel1  \n",
       "train_time                                   0.142589  \n",
       "pred_time                                    0.039002  \n",
       "training_score                               0.869608  \n",
       "testing_score                                0.869410  \n",
       "weightedF1                                   0.821260  "
      ]
     },
     "execution_count": 92,
     "metadata": {},
     "output_type": "execute_result"
    }
   ],
   "source": [
    "results = pd.concat( [results, discountModel1Output], axis=1)\n",
    "results"
   ]
  },
  {
   "attachments": {},
   "cell_type": "markdown",
   "metadata": {},
   "source": [
    "# Refinement (making the 'models' better)"
   ]
  },
  {
   "cell_type": "markdown",
   "metadata": {},
   "source": [
    "- using 'Grid Search' to find the best 'hyper-parameters' for the 'model'"
   ]
  },
  {
   "cell_type": "code",
   "execution_count": 93,
   "metadata": {},
   "outputs": [],
   "source": [
    "# function for doing 'grid search' for 'random forest' model\n",
    "def forest_grid_search(X,y):\n",
    "    \n",
    "    # import GridSearchCV\n",
    "    from sklearn.model_selection import GridSearchCV\n",
    "\n",
    "    param_grid={\n",
    "                'max_depth' : [5,10,15],\n",
    "                'n_estimators': [25,30,40],\n",
    "                'min_samples_split': [2, 10, 20],\n",
    "                'min_samples_leaf': [2, 10, 15, 20],\n",
    "                }\n",
    "    \n",
    "    grid_search = GridSearchCV(RandomForestClassifier(random_state=2), param_grid)\n",
    "    grid_search.fit(X, y)\n",
    "    grid_search.best_params_\n",
    "    \n",
    "    return grid_search.best_params_"
   ]
  },
  {
   "cell_type": "markdown",
   "metadata": {},
   "source": [
    "## Run 'Grid Search' for 'offers_bogo' dataframe"
   ]
  },
  {
   "cell_type": "code",
   "execution_count": 94,
   "metadata": {},
   "outputs": [],
   "source": [
    "# 'offers_bogo' data processing, making 'features' and 'target'\n",
    "drop_cols_prep = ['person','offer_id','effective_offer','offer_type']\n",
    "features, target = makeTargetAndFeature1(offers_bogo, drop_cols_prep)\n",
    "X_train, X_test, y_train, y_test = split_data1(features, target)"
   ]
  },
  {
   "cell_type": "code",
   "execution_count": 95,
   "metadata": {},
   "outputs": [
    {
     "data": {
      "text/plain": [
       "{'max_depth': 15,\n",
       " 'min_samples_leaf': 15,\n",
       " 'min_samples_split': 2,\n",
       " 'n_estimators': 40}"
      ]
     },
     "execution_count": 95,
     "metadata": {},
     "output_type": "execute_result"
    }
   ],
   "source": [
    "forest_grid_search(X_train, y_train)"
   ]
  },
  {
   "attachments": {},
   "cell_type": "markdown",
   "metadata": {},
   "source": [
    " run my model again with the *new parameters*, keeping the DecisionTree baseline model with the same parameters as comparison."
   ]
  },
  {
   "cell_type": "code",
   "execution_count": 96,
   "metadata": {},
   "outputs": [],
   "source": [
    "# 'splitting data' again\n",
    "features, target = makeTargetAndFeature1(offers_bogo,drop_cols_prep)\n",
    "X_train, X_test, y_train, y_test = split_data1(features,target)\n",
    "\n",
    "# making another machine learning 'model'\n",
    "bogo_model2 = RandomForestClassifier(\n",
    "    random_state=2,\n",
    "    \n",
    "    max_depth=15,\n",
    "    min_samples_leaf=15,\n",
    "    min_samples_split=2,\n",
    "    n_estimators=40,\n",
    "    \n",
    ")"
   ]
  },
  {
   "cell_type": "code",
   "execution_count": 97,
   "metadata": {},
   "outputs": [
    {
     "name": "stdout",
     "output_type": "stream",
     "text": [
      "KNeighborsClassifier trained on 10518 samples.\n",
      "MSE_train: 0.1255\n",
      "MSE_test: 0.2300\n",
      "Training accuracy: 0.8745\n",
      "Test accuracy: 0.7700\n",
      "              precision    recall  f1-score   support\n",
      "\n",
      "           0     0.4749    0.3746    0.4188       582\n",
      "           1     0.8323    0.8823    0.8566      2048\n",
      "\n",
      "    accuracy                         0.7700      2630\n",
      "   macro avg     0.6536    0.6284    0.6377      2630\n",
      "weighted avg     0.7532    0.7700    0.7597      2630\n",
      "\n",
      "*=*=*=*=*=*=*=*=*=*=*=*=*=*=*=*=*=*=*=*=\n",
      "Weighted F1 score: 0.7597\n",
      "*=*=*=*=*=*=*=*=*=*=*=*=*=*=*=*=*=*=*=*=\n",
      "RandomForestClassifier trained on 10518 samples.\n",
      "MSE_train: 0.1683\n",
      "MSE_test: 0.1882\n",
      "Training accuracy: 0.8317\n",
      "Test accuracy: 0.8118\n",
      "              precision    recall  f1-score   support\n",
      "\n",
      "           0     0.6951    0.2663    0.3851       582\n",
      "           1     0.8226    0.9668    0.8889      2048\n",
      "\n",
      "    accuracy                         0.8118      2630\n",
      "   macro avg     0.7588    0.6166    0.6370      2630\n",
      "weighted avg     0.7944    0.8118    0.7774      2630\n",
      "\n",
      "*=*=*=*=*=*=*=*=*=*=*=*=*=*=*=*=*=*=*=*=\n",
      "Weighted F1 score: 0.7774\n",
      "*=*=*=*=*=*=*=*=*=*=*=*=*=*=*=*=*=*=*=*=\n"
     ]
    }
   ],
   "source": [
    "_ = run_model1(compareModel1,bogo_model2,'bogo_model2')\n",
    "results = pd.concat([results, _],axis=1)"
   ]
  },
  {
   "cell_type": "markdown",
   "metadata": {},
   "source": [
    "# 'Grid Search' for 'offers_discount' Dataset"
   ]
  },
  {
   "cell_type": "code",
   "execution_count": 98,
   "metadata": {},
   "outputs": [
    {
     "data": {
      "text/plain": [
       "{'max_depth': 10,\n",
       " 'min_samples_leaf': 20,\n",
       " 'min_samples_split': 2,\n",
       " 'n_estimators': 25}"
      ]
     },
     "execution_count": 98,
     "metadata": {},
     "output_type": "execute_result"
    }
   ],
   "source": [
    "# splitting data\n",
    "features, target = makeTargetAndFeature1(offers_discount, drop_cols_prep)\n",
    "X_train, X_test, y_train, y_test = split_data1(features, target)\n",
    "\n",
    "forest_grid_search(X_train, y_train)"
   ]
  },
  {
   "cell_type": "markdown",
   "metadata": {},
   "source": [
    "running the 'model' again with the new 'hyper-parameters'"
   ]
  },
  {
   "cell_type": "code",
   "execution_count": 99,
   "metadata": {},
   "outputs": [
    {
     "name": "stdout",
     "output_type": "stream",
     "text": [
      "KNeighborsClassifier trained on 10108 samples.\n",
      "MSE_train: 0.1041\n",
      "MSE_test: 0.1678\n",
      "Training accuracy: 0.8959\n",
      "Test accuracy: 0.8322\n",
      "              precision    recall  f1-score   support\n",
      "\n",
      "           0     0.3213    0.2388    0.2740       335\n",
      "           1     0.8881    0.9229    0.9051      2192\n",
      "\n",
      "    accuracy                         0.8322      2527\n",
      "   macro avg     0.6047    0.5809    0.5896      2527\n",
      "weighted avg     0.8129    0.8322    0.8215      2527\n",
      "\n",
      "*=*=*=*=*=*=*=*=*=*=*=*=*=*=*=*=*=*=*=*=\n",
      "Weighted F1 score: 0.8215\n",
      "*=*=*=*=*=*=*=*=*=*=*=*=*=*=*=*=*=*=*=*=\n",
      "RandomForestClassifier trained on 10108 samples.\n",
      "MSE_train: 0.1399\n",
      "MSE_test: 0.1314\n",
      "Training accuracy: 0.8601\n",
      "Test accuracy: 0.8686\n",
      "              precision    recall  f1-score   support\n",
      "\n",
      "           0     1.0000    0.0090    0.0178       335\n",
      "           1     0.8685    1.0000    0.9296      2192\n",
      "\n",
      "    accuracy                         0.8686      2527\n",
      "   macro avg     0.9342    0.5045    0.4737      2527\n",
      "weighted avg     0.8859    0.8686    0.8087      2527\n",
      "\n",
      "*=*=*=*=*=*=*=*=*=*=*=*=*=*=*=*=*=*=*=*=\n",
      "Weighted F1 score: 0.8087\n",
      "*=*=*=*=*=*=*=*=*=*=*=*=*=*=*=*=*=*=*=*=\n"
     ]
    }
   ],
   "source": [
    "# splitting data\n",
    "features, target = makeTargetAndFeature1(offers_discount, drop_cols_prep)\n",
    "X_train, X_test, y_train, y_test = split_data1(features,target)\n",
    "\n",
    "\n",
    "discountModel2 = RandomForestClassifier(\n",
    "    random_state = 2, \n",
    "\n",
    "    max_depth = 10,\n",
    "    min_samples_leaf = 20,\n",
    "    min_samples_split = 2, \n",
    "    n_estimators = 25,\n",
    ")\n",
    "\n",
    "_ = run_model1(compareModel1, discountModel2,'discountModel2')\n",
    "results = pd.concat([results, _], axis=1)"
   ]
  },
  {
   "cell_type": "code",
   "execution_count": 100,
   "metadata": {},
   "outputs": [
    {
     "data": {
      "text/html": [
       "<div>\n",
       "<style scoped>\n",
       "    .dataframe tbody tr th:only-of-type {\n",
       "        vertical-align: middle;\n",
       "    }\n",
       "\n",
       "    .dataframe tbody tr th {\n",
       "        vertical-align: top;\n",
       "    }\n",
       "\n",
       "    .dataframe thead th {\n",
       "        text-align: right;\n",
       "    }\n",
       "</style>\n",
       "<table border=\"1\" class=\"dataframe\">\n",
       "  <thead>\n",
       "    <tr style=\"text-align: right;\">\n",
       "      <th></th>\n",
       "      <th>RandomForestClassifier_discountModel1</th>\n",
       "      <th>RandomForestClassifier_discountModel2</th>\n",
       "    </tr>\n",
       "  </thead>\n",
       "  <tbody>\n",
       "    <tr>\n",
       "      <th>train_time</th>\n",
       "      <td>0.142589</td>\n",
       "      <td>0.162335</td>\n",
       "    </tr>\n",
       "    <tr>\n",
       "      <th>pred_time</th>\n",
       "      <td>0.039002</td>\n",
       "      <td>0.034373</td>\n",
       "    </tr>\n",
       "    <tr>\n",
       "      <th>training_score</th>\n",
       "      <td>0.869608</td>\n",
       "      <td>0.860111</td>\n",
       "    </tr>\n",
       "    <tr>\n",
       "      <th>testing_score</th>\n",
       "      <td>0.869410</td>\n",
       "      <td>0.868619</td>\n",
       "    </tr>\n",
       "    <tr>\n",
       "      <th>weightedF1</th>\n",
       "      <td>0.821260</td>\n",
       "      <td>0.808719</td>\n",
       "    </tr>\n",
       "  </tbody>\n",
       "</table>\n",
       "</div>"
      ],
      "text/plain": [
       "                RandomForestClassifier_discountModel1  \\\n",
       "train_time                                   0.142589   \n",
       "pred_time                                    0.039002   \n",
       "training_score                               0.869608   \n",
       "testing_score                                0.869410   \n",
       "weightedF1                                   0.821260   \n",
       "\n",
       "                RandomForestClassifier_discountModel2  \n",
       "train_time                                   0.162335  \n",
       "pred_time                                    0.034373  \n",
       "training_score                               0.860111  \n",
       "testing_score                                0.868619  \n",
       "weightedF1                                   0.808719  "
      ]
     },
     "execution_count": 100,
     "metadata": {},
     "output_type": "execute_result"
    }
   ],
   "source": [
    "# selecting columns to display 'RandomForestClassifier_discountModel1' and 'RandomForestClassifier_discountModel2'\n",
    "results[ ['RandomForestClassifier_discountModel1','RandomForestClassifier_discountModel2'] ]"
   ]
  },
  {
   "cell_type": "code",
   "execution_count": 101,
   "metadata": {},
   "outputs": [
    {
     "data": {
      "text/html": [
       "<div>\n",
       "<style scoped>\n",
       "    .dataframe tbody tr th:only-of-type {\n",
       "        vertical-align: middle;\n",
       "    }\n",
       "\n",
       "    .dataframe tbody tr th {\n",
       "        vertical-align: top;\n",
       "    }\n",
       "\n",
       "    .dataframe thead th {\n",
       "        text-align: right;\n",
       "    }\n",
       "</style>\n",
       "<table border=\"1\" class=\"dataframe\">\n",
       "  <thead>\n",
       "    <tr style=\"text-align: right;\">\n",
       "      <th></th>\n",
       "      <th>KNeighborsClassifier_discountModel1</th>\n",
       "      <th>KNeighborsClassifier_discountModel2</th>\n",
       "    </tr>\n",
       "  </thead>\n",
       "  <tbody>\n",
       "    <tr>\n",
       "      <th>train_time</th>\n",
       "      <td>0.031028</td>\n",
       "      <td>0.033439</td>\n",
       "    </tr>\n",
       "    <tr>\n",
       "      <th>pred_time</th>\n",
       "      <td>0.669815</td>\n",
       "      <td>0.692234</td>\n",
       "    </tr>\n",
       "    <tr>\n",
       "      <th>training_score</th>\n",
       "      <td>0.895924</td>\n",
       "      <td>0.895924</td>\n",
       "    </tr>\n",
       "    <tr>\n",
       "      <th>testing_score</th>\n",
       "      <td>0.832212</td>\n",
       "      <td>0.832212</td>\n",
       "    </tr>\n",
       "    <tr>\n",
       "      <th>weightedF1</th>\n",
       "      <td>0.821472</td>\n",
       "      <td>0.821472</td>\n",
       "    </tr>\n",
       "  </tbody>\n",
       "</table>\n",
       "</div>"
      ],
      "text/plain": [
       "                KNeighborsClassifier_discountModel1  \\\n",
       "train_time                                 0.031028   \n",
       "pred_time                                  0.669815   \n",
       "training_score                             0.895924   \n",
       "testing_score                              0.832212   \n",
       "weightedF1                                 0.821472   \n",
       "\n",
       "                KNeighborsClassifier_discountModel2  \n",
       "train_time                                 0.033439  \n",
       "pred_time                                  0.692234  \n",
       "training_score                             0.895924  \n",
       "testing_score                              0.832212  \n",
       "weightedF1                                 0.821472  "
      ]
     },
     "execution_count": 101,
     "metadata": {},
     "output_type": "execute_result"
    }
   ],
   "source": [
    "results[ ['KNeighborsClassifier_discountModel1','KNeighborsClassifier_discountModel2'] ]"
   ]
  },
  {
   "attachments": {},
   "cell_type": "markdown",
   "metadata": {},
   "source": [
    "# Checking which 'model' is better and which 'features' are important"
   ]
  },
  {
   "cell_type": "markdown",
   "metadata": {},
   "source": [
    "After 'grid search'\n",
    "\n",
    "- the best 'model' for 'offers_bogo' is:\n",
    "-  RandomForestClassifier_discountModel1 \n",
    "- with 'weighted average F1 score' of 0.821260\n",
    "-\n",
    "- the best 'model' for 'offers_discount' is:\n",
    "- KNeighborsClassifier_discountModel2 \n",
    "- with 'weighted average F1 score' of 0.821472\n"
   ]
  },
  {
   "cell_type": "code",
   "execution_count": 102,
   "metadata": {},
   "outputs": [
    {
     "data": {
      "text/html": [
       "<div>\n",
       "<style scoped>\n",
       "    .dataframe tbody tr th:only-of-type {\n",
       "        vertical-align: middle;\n",
       "    }\n",
       "\n",
       "    .dataframe tbody tr th {\n",
       "        vertical-align: top;\n",
       "    }\n",
       "\n",
       "    .dataframe thead th {\n",
       "        text-align: right;\n",
       "    }\n",
       "</style>\n",
       "<table border=\"1\" class=\"dataframe\">\n",
       "  <thead>\n",
       "    <tr style=\"text-align: right;\">\n",
       "      <th></th>\n",
       "      <th>train_time</th>\n",
       "      <th>pred_time</th>\n",
       "      <th>training_score</th>\n",
       "      <th>testing_score</th>\n",
       "      <th>weightedF1</th>\n",
       "    </tr>\n",
       "  </thead>\n",
       "  <tbody>\n",
       "    <tr>\n",
       "      <th>KNeighborsClassifier_bogoModel1</th>\n",
       "      <td>0.038916</td>\n",
       "      <td>0.732366</td>\n",
       "      <td>0.874501</td>\n",
       "      <td>0.769962</td>\n",
       "      <td>0.759725</td>\n",
       "    </tr>\n",
       "    <tr>\n",
       "      <th>RandomForestClassifier_bogoModel1</th>\n",
       "      <td>0.143338</td>\n",
       "      <td>0.031000</td>\n",
       "      <td>0.826298</td>\n",
       "      <td>0.815970</td>\n",
       "      <td>0.780714</td>\n",
       "    </tr>\n",
       "    <tr>\n",
       "      <th>KNeighborsClassifier_discountModel1</th>\n",
       "      <td>0.031028</td>\n",
       "      <td>0.669815</td>\n",
       "      <td>0.895924</td>\n",
       "      <td>0.832212</td>\n",
       "      <td>0.821472</td>\n",
       "    </tr>\n",
       "    <tr>\n",
       "      <th>RandomForestClassifier_discountModel1</th>\n",
       "      <td>0.142589</td>\n",
       "      <td>0.039002</td>\n",
       "      <td>0.869608</td>\n",
       "      <td>0.869410</td>\n",
       "      <td>0.821260</td>\n",
       "    </tr>\n",
       "    <tr>\n",
       "      <th>KNeighborsClassifier_bogo_model2</th>\n",
       "      <td>0.033000</td>\n",
       "      <td>0.790007</td>\n",
       "      <td>0.874501</td>\n",
       "      <td>0.769962</td>\n",
       "      <td>0.759725</td>\n",
       "    </tr>\n",
       "    <tr>\n",
       "      <th>RandomForestClassifier_bogo_model2</th>\n",
       "      <td>0.310992</td>\n",
       "      <td>0.063998</td>\n",
       "      <td>0.831717</td>\n",
       "      <td>0.811787</td>\n",
       "      <td>0.777403</td>\n",
       "    </tr>\n",
       "    <tr>\n",
       "      <th>KNeighborsClassifier_discountModel2</th>\n",
       "      <td>0.033439</td>\n",
       "      <td>0.692234</td>\n",
       "      <td>0.895924</td>\n",
       "      <td>0.832212</td>\n",
       "      <td>0.821472</td>\n",
       "    </tr>\n",
       "    <tr>\n",
       "      <th>RandomForestClassifier_discountModel2</th>\n",
       "      <td>0.162335</td>\n",
       "      <td>0.034373</td>\n",
       "      <td>0.860111</td>\n",
       "      <td>0.868619</td>\n",
       "      <td>0.808719</td>\n",
       "    </tr>\n",
       "  </tbody>\n",
       "</table>\n",
       "</div>"
      ],
      "text/plain": [
       "                                       train_time  pred_time  training_score  \\\n",
       "KNeighborsClassifier_bogoModel1          0.038916   0.732366        0.874501   \n",
       "RandomForestClassifier_bogoModel1        0.143338   0.031000        0.826298   \n",
       "KNeighborsClassifier_discountModel1      0.031028   0.669815        0.895924   \n",
       "RandomForestClassifier_discountModel1    0.142589   0.039002        0.869608   \n",
       "KNeighborsClassifier_bogo_model2         0.033000   0.790007        0.874501   \n",
       "RandomForestClassifier_bogo_model2       0.310992   0.063998        0.831717   \n",
       "KNeighborsClassifier_discountModel2      0.033439   0.692234        0.895924   \n",
       "RandomForestClassifier_discountModel2    0.162335   0.034373        0.860111   \n",
       "\n",
       "                                       testing_score  weightedF1  \n",
       "KNeighborsClassifier_bogoModel1             0.769962    0.759725  \n",
       "RandomForestClassifier_bogoModel1           0.815970    0.780714  \n",
       "KNeighborsClassifier_discountModel1         0.832212    0.821472  \n",
       "RandomForestClassifier_discountModel1       0.869410    0.821260  \n",
       "KNeighborsClassifier_bogo_model2            0.769962    0.759725  \n",
       "RandomForestClassifier_bogo_model2          0.811787    0.777403  \n",
       "KNeighborsClassifier_discountModel2         0.832212    0.821472  \n",
       "RandomForestClassifier_discountModel2       0.868619    0.808719  "
      ]
     },
     "execution_count": 102,
     "metadata": {},
     "output_type": "execute_result"
    }
   ],
   "source": [
    "results.transpose()"
   ]
  },
  {
   "cell_type": "markdown",
   "metadata": {},
   "source": [
    "Comparing the 'models' with high 'weighted average F1 score' and the 'baseline model'"
   ]
  },
  {
   "cell_type": "code",
   "execution_count": 103,
   "metadata": {},
   "outputs": [
    {
     "data": {
      "image/png": "[encoded data removed]",
      "text/plain": [
       "<Figure size 1000x1000 with 1 Axes>"
      ]
     },
     "metadata": {},
     "output_type": "display_data"
    }
   ],
   "source": [
    "ax = results.loc[['weightedF1']].plot(kind='barh', title='weighted F1 score', figsize=(10, 10))\n",
    "ax.legend(loc='upper right')\n",
    "\n",
    "# goes through each bar (patch) in the plot, and places a text at the position of the bar. \n",
    "# text is the width of the bar (which corresponds to the value) rounded to 2 decimal places.\n",
    "for i in ax.patches:\n",
    "    # get_width pulls left or right; get_y pushes up or down\n",
    "    ax.text(i.get_width(), i.get_y(), \\\n",
    "            str(round((i.get_width()), 2)), fontsize=11, color='dimgrey')"
   ]
  },
  {
   "cell_type": "markdown",
   "metadata": {},
   "source": [
    "# Why did KNN have a better 'weighted average F1 score' than RFC?\n",
    "\n",
    "for 'offers_discount' dataset, and it is also an 'imbalanced' dataset\n",
    "\n",
    "- KNeighborsClassifier_discountModel2\twith 0.821472\n",
    "- RandomForestClassifier_discountModel2\twith 0.808719\n",
    "\n",
    "The improved score is minimal, (0.821472 - 0.808719 ) / 0.808719 * 100 = 1.57%\n",
    "\n",
    "Reason might be because:\n",
    "- Random Forest generally 'assumes' that 'features' have some sort of hierarchical structure\n",
    "- KNN is a non-parametric model, meaning it makes no assumptions about the underlying data distribution. "
   ]
  },
  {
   "cell_type": "markdown",
   "metadata": {},
   "source": [
    "Below, we will look at the 'attribute' (feature_importances_) of each 'model' to see which 'features' have the most impact to create an 'effective offer'"
   ]
  },
  {
   "cell_type": "code",
   "execution_count": 104,
   "metadata": {},
   "outputs": [
    {
     "data": {
      "image/png": "[encoded data removed]",
      "text/plain": [
       "<Figure size 640x480 with 1 Axes>"
      ]
     },
     "metadata": {},
     "output_type": "display_data"
    },
    {
     "data": {
      "image/png": "[encoded data removed]",
      "text/plain": [
       "<Figure size 640x480 with 1 Axes>"
      ]
     },
     "metadata": {},
     "output_type": "display_data"
    }
   ],
   "source": [
    "# show 'important features'\n",
    "# by looking at '.feature_importances_' attribute of 'model'\n",
    "\n",
    "############################################\n",
    "# 'bogoModel1' \n",
    "############################################\n",
    "\n",
    "drop_cols_prep = ['person', 'offer_id', 'effective_offer', 'offer_type']\n",
    "features, target = makeTargetAndFeature1(offers_bogo, drop_cols_prep)\n",
    "\n",
    "feature_importances = pd.DataFrame(bogoModel1.feature_importances_, \n",
    "                                   index=features.columns, \n",
    "                                   columns=['importance']).sort_values('importance', ascending=False)\n",
    "\n",
    "feature_importances.plot.barh()\n",
    "plt.title('Best BOGO model feature importance')\n",
    "plt.show()\n",
    "\n",
    "\n",
    "############################################\n",
    "# 'discount' model\n",
    "############################################\n",
    "\n",
    "drop_cols_prep = ['person', 'offer_id', 'effective_offer', 'offer_type']\n",
    "features, target = makeTargetAndFeature1(offers_discount, drop_cols_prep)\n",
    "\n",
    "feature_importances = pd.DataFrame( discountModel1.feature_importances_, \n",
    "                                   index = features.columns, \n",
    "                                   columns = ['importance']).sort_values('importance', ascending=False)\n",
    "\n",
    "feature_importances.plot.barh()\n",
    "plt.title('Best discount model feature importance')\n",
    "plt.show()\n",
    "\n",
    "\n"
   ]
  },
  {
   "cell_type": "markdown",
   "metadata": {},
   "source": [
    "# 'Complication' (checking for 'Data Leakage' with the machine learning 'model')"
   ]
  },
  {
   "cell_type": "markdown",
   "metadata": {},
   "source": [
    "- *Feature importance*: If any of the 'features' are 'very predictive', it's possible they are causing leakage.\n",
    "\n",
    "From the 2 plots above, membership_day seems to be 'overwhelmingly'  'important'\\\n",
    "compare to the other 'features'. This could be a sign of 'data leakage'. The keyword here is 'could be'."
   ]
  },
  {
   "attachments": {},
   "cell_type": "markdown",
   "metadata": {},
   "source": [
    "# Conclusion"
   ]
  },
  {
   "cell_type": "markdown",
   "metadata": {},
   "source": [
    "## Possible Improvements for KNN 'Model'\n",
    "\n",
    "It was unexcepted that KNN would perform better (slightly) than RFC for the 'discount' (or any) dataset, \n",
    "but here are some possible improvements that can be made to the 'model' to improve the 'weighted average F1 score':\n",
    "\n",
    "- Tuning the number of neighbors (K) for KNN 'model': \n",
    "    - Run the model with various K values and pick the one which performs best.\n",
    "\n",
    "- 'Dimensionality Reduction'\n",
    "    - Big fancy term for reducing the number of 'features' in the dataset using 'Principal Component Analysis' (PCA)\n",
    "\n",
    "## Possible Improvements for 'Random Forest Model'\n",
    "- 'Tunning Hyper-parameter' using 'Grid Search'\n",
    "    - this was done in this project\n",
    "\n",
    "- 'Feature Importance' \n",
    "    - 'Random Forest' provides a tool to measure the importance of each 'feature' in prediction process (done above). \n",
    "    - Any 'feature' with small 'imporatnce score' could be removed from the dataset and we can check if the 'weighted average F1 score' will improve.\n",
    "    - but I will not be doing that.\n",
    "    "
   ]
  },
  {
   "attachments": {},
   "cell_type": "markdown",
   "metadata": {},
   "source": [
    "## Reflection\n",
    "\n",
    "Apply machine learning 'models' to 'classify' customer responses to different type of offers (promotions). We used two different models - K-Nearest Neighbors (KNN) and Random Forest - across various types of offers and datasets.\n",
    "\n",
    "The analysis began with preprocessing 3 different datasets, which involved cleaning, encoding (one-hot-encoding), and splitting the data into training and testing sets. We then 'trained' our 'models' and evaluated them using the main metrics of 'weighted average F1 score'.\n",
    "\n",
    "All 3 'models' produced 'weighted average F1' score above 80%. The dataset being imbalanced and somehow KNN has better or same 'weighted average F1 score' with the Random Forest model, which is was suppose to perform better than KNN.\n",
    "\n",
    "We noted areas for improvement. Hyperparameter tuning, feature scaling for KNN, dimensionality reduction, and analysis of 'feature importance' for 'Random Forest' were some of the things suggested to enhance the models' performance.\n",
    "\n"
   ]
  }
 ],
 "metadata": {
  "kernelspec": {
   "display_name": "Python 3",
   "language": "python",
   "name": "python3"
  },
  "language_info": {
   "codemirror_mode": {
    "name": "ipython",
    "version": 3
   },
   "file_extension": ".py",
   "mimetype": "text/x-python",
   "name": "python",
   "nbconvert_exporter": "python",
   "pygments_lexer": "ipython3",
   "version": "3.10.11"
  }
 },
 "nbformat": 4,
 "nbformat_minor": 2
}
